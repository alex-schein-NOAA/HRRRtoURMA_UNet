{
 "cells": [
  {
   "cell_type": "code",
   "execution_count": 1,
   "id": "40d80a21-cdd3-4a48-858e-58264e91f9c7",
   "metadata": {
    "editable": true,
    "slideshow": {
     "slide_type": ""
    },
    "tags": []
   },
   "outputs": [],
   "source": [
    "import torch\n",
    "from torch import nn\n",
    "from torch.utils.data import Dataset, DataLoader\n",
    "from torchvision import datasets\n",
    "from torchvision import transforms\n",
    "from torchvision.transforms import ToTensor\n",
    "from torchinfo import summary\n",
    "\n",
    "import os\n",
    "import glob\n",
    "import time\n",
    "import datetime as dt\n",
    "from netCDF4 import Dataset as nc_Dataset\n",
    "from netCDF4 import date2num, num2date\n",
    "import pandas as pd\n",
    "import numpy as np\n",
    "import math\n",
    "import xarray as xr\n",
    "from tqdm import tqdm\n",
    "import matplotlib.pyplot as plt\n",
    "import matplotlib.dates as mdates\n",
    "from matplotlib.markers import MarkerStyle\n",
    "import cartopy.crs as ccrs\n",
    "import cartopy.feature as cfeature\n",
    "\n",
    "import csv\n",
    "\n",
    "from FunctionsAndClasses.HRRR_URMA_Datasets_AllVars import *\n",
    "from FunctionsAndClasses.SR_UNet_simple import *\n",
    "from FunctionsAndClasses.DefineModelAttributes import *\n",
    "from FunctionsAndClasses.StatObjectConstructor import *\n",
    "from FunctionsAndClasses.utils import *"
   ]
  },
  {
   "cell_type": "code",
   "execution_count": null,
   "id": "c396b419-db9e-49b0-813b-94b67bbfd636",
   "metadata": {
    "scrolled": true
   },
   "outputs": [],
   "source": [
    "for filename in os.listdir(f\"/scratch/RTMA/alex.schein/CNN_Main/Trained_models\"):\n",
    "    model_attrs = DefineModelAttributes(is_train=False)\n",
    "    model_attrs.set_model_attrs_from_savename(filename)\n",
    "\n",
    "    print(filename)\n",
    "    for TARG_VAR in model_attrs.target_vars:\n",
    "        statobj_smartinit = ConstructStatObject(is_smartinit=True, target_var=TARG_VAR)\n",
    "        statobj_model = ConstructStatObject(is_smartinit=False, current_model_attrs=model_attrs, target_var=TARG_VAR)\n",
    "\n",
    "        statobj_smartinit.calc_domain_avg_RMSE_alltimes()\n",
    "        statobj_model.calc_domain_avg_RMSE_alltimes()\n",
    "\n",
    "        plot_model_vs_smartinit_RMSE(model_attrs, \n",
    "                                     statobj_model, \n",
    "                                     statobj_smartinit, \n",
    "                                     units_str=statobj_smartinit.varname_units_dict[TARG_VAR], \n",
    "                                     to_save=True)\n"
   ]
  }
 ],
 "metadata": {
  "kernelspec": {
   "display_name": "Python 3 (ipykernel)",
   "language": "python",
   "name": "python3"
  },
  "language_info": {
   "codemirror_mode": {
    "name": "ipython",
    "version": 3
   },
   "file_extension": ".py",
   "mimetype": "text/x-python",
   "name": "python",
   "nbconvert_exporter": "python",
   "pygments_lexer": "ipython3",
   "version": "3.10.12"
  }
 },
 "nbformat": 4,
 "nbformat_minor": 5
}
