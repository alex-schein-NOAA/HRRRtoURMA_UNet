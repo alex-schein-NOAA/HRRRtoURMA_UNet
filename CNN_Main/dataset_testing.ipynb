{
 "cells": [
  {
   "cell_type": "code",
   "execution_count": 1,
   "id": "40d80a21-cdd3-4a48-858e-58264e91f9c7",
   "metadata": {
    "editable": true,
    "slideshow": {
     "slide_type": ""
    },
    "tags": []
   },
   "outputs": [],
   "source": [
    "import torch\n",
    "from torch import nn\n",
    "from torch.utils.data import Dataset, DataLoader\n",
    "from torchvision import datasets\n",
    "from torchvision import transforms\n",
    "from torchvision.transforms import ToTensor\n",
    "from torchinfo import summary\n",
    "\n",
    "import os\n",
    "import glob\n",
    "import time\n",
    "import datetime as dt\n",
    "from netCDF4 import Dataset as nc_Dataset\n",
    "from netCDF4 import date2num, num2date\n",
    "import pandas as pd\n",
    "import numpy as np\n",
    "import math\n",
    "import xarray as xr\n",
    "from tqdm import tqdm\n",
    "import matplotlib.pyplot as plt\n",
    "from matplotlib.markers import MarkerStyle\n",
    "import cartopy.crs as ccrs\n",
    "import cartopy.feature as cfeature\n",
    "\n",
    "from HRRR_URMA_Datasets_AllVars import *\n",
    "from DefineModelAttributes import *\n",
    "from SR_UNet_simple import *"
   ]
  },
  {
   "cell_type": "code",
   "execution_count": 2,
   "id": "4f8f2ba6-1746-4bcd-8d9e-7bf10968337c",
   "metadata": {},
   "outputs": [],
   "source": [
    "# test_ds_2 = HRRR_URMA_Dataset_AllVars(is_train=True,\n",
    "#                                       months=[1,12],  \n",
    "#                                       hours=\"all\", \n",
    "#                                       forecast_lead_time=1,\n",
    "#                                       normalization_scheme = \"all times\",\n",
    "#                                       with_terrains=[\"hrrr\",\"urma\",\"diff\"], \n",
    "#                                       with_yearly_time_sig=True, \n",
    "#                                       with_hourly_time_sig=True,\n",
    "#                                       time_sig_scheme=\"Frac\",\n",
    "#                                       predictor_vars = [\"t2m\", \"d2m\", \"pressurf\", \"u10m\", \"v10m\"],\n",
    "#                                       target_vars = [\"t2m\"])#, \"d2m\", \"pressurf\", \"u10m\", \"v10m\"])"
   ]
  },
  {
   "cell_type": "code",
   "execution_count": 17,
   "id": "ce744e76-5014-4825-912f-3ef3dce30f63",
   "metadata": {},
   "outputs": [
    {
     "name": "stdout",
     "output_type": "stream",
     "text": [
      "['t2m']\n",
      "['d2m']\n",
      "['pressurf']\n",
      "['u10m']\n",
      "['v10m']\n"
     ]
    }
   ],
   "source": [
    "PREDICTOR_VAR_LIST = [\"t2m\", \"d2m\", \"pressurf\", \"u10m\", \"v10m\"]\n",
    "TARGET_VAR_LIST = [\"t2m\", \"d2m\", \"pressurf\", \"u10m\", \"v10m\", [\"u10m\", \"v10m\"]] #want a model that targets both u and v at the same time, but only those vars\n",
    "\n",
    "for i in range(len(TARGET_VAR_LIST)):\n",
    "\n",
    "    print(TARGET_VAR_LIST[i] if isinstance(TARGET_VAR_LIST[i],list) else [TARGET_VAR_LIST[i]]) "
   ]
  },
  {
   "cell_type": "code",
   "execution_count": 18,
   "id": "ed923f6f-e768-4930-8bfb-80bd6397e677",
   "metadata": {},
   "outputs": [
    {
     "data": {
      "text/plain": [
       "False"
      ]
     },
     "execution_count": 18,
     "metadata": {},
     "output_type": "execute_result"
    }
   ],
   "source": [
    "isinstance(TARGET_VAR_LIST[-2], list)"
   ]
  },
  {
   "cell_type": "code",
   "execution_count": 19,
   "id": "57839cbf-2b0b-472e-808e-ff764e25ac72",
   "metadata": {},
   "outputs": [],
   "source": [
    "x = (TARGET_VAR_LIST[i] if isinstance(TARGET_VAR_LIST[i],list) else [TARGET_VAR_LIST[i]])"
   ]
  },
  {
   "cell_type": "code",
   "execution_count": 20,
   "id": "23474801-db6c-44c3-b416-b98d320057eb",
   "metadata": {},
   "outputs": [
    {
     "data": {
      "text/plain": [
       "['v10m']"
      ]
     },
     "execution_count": 20,
     "metadata": {},
     "output_type": "execute_result"
    }
   ],
   "source": [
    "x"
   ]
  },
  {
   "cell_type": "code",
   "execution_count": null,
   "id": "17246228-26c6-4ff8-9897-04a6a14ab1a4",
   "metadata": {},
   "outputs": [],
   "source": []
  }
 ],
 "metadata": {
  "kernelspec": {
   "display_name": "Python 3 (ipykernel)",
   "language": "python",
   "name": "python3"
  },
  "language_info": {
   "codemirror_mode": {
    "name": "ipython",
    "version": 3
   },
   "file_extension": ".py",
   "mimetype": "text/x-python",
   "name": "python",
   "nbconvert_exporter": "python",
   "pygments_lexer": "ipython3",
   "version": "3.10.12"
  }
 },
 "nbformat": 4,
 "nbformat_minor": 5
}
