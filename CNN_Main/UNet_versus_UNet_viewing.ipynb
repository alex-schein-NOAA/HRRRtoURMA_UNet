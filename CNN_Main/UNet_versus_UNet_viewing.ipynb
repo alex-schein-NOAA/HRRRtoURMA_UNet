{
 "cells": [
  {
   "cell_type": "code",
   "execution_count": null,
   "id": "40d80a21-cdd3-4a48-858e-58264e91f9c7",
   "metadata": {
    "editable": true,
    "slideshow": {
     "slide_type": ""
    },
    "tags": []
   },
   "outputs": [],
   "source": [
    "import torch\n",
    "from torch import nn\n",
    "from torch.utils.data import Dataset, DataLoader\n",
    "from torchvision import datasets\n",
    "from torchvision import transforms\n",
    "from torchvision.transforms import ToTensor\n",
    "from torchinfo import summary\n",
    "\n",
    "import os\n",
    "import glob\n",
    "import time\n",
    "import datetime as dt\n",
    "from netCDF4 import Dataset as nc_Dataset\n",
    "from netCDF4 import date2num, num2date\n",
    "import pandas as pd\n",
    "import numpy as np\n",
    "import math\n",
    "import xarray as xr\n",
    "from tqdm import tqdm\n",
    "import matplotlib.pyplot as plt\n",
    "from matplotlib.markers import MarkerStyle\n",
    "import cartopy.crs as ccrs\n",
    "import cartopy.feature as cfeature\n",
    "\n",
    "from FunctionsAndClasses.HRRR_URMA_Datasets_AllVars import *\n",
    "from FunctionsAndClasses.DefineModelAttributes import *\n",
    "from FunctionsAndClasses.SR_UNet_simple import *\n",
    "from FunctionsAndClasses.utils import *"
   ]
  },
  {
   "cell_type": "code",
   "execution_count": null,
   "id": "ddd4ee0e-3cd4-41c7-b0bb-15309f4833c7",
   "metadata": {},
   "outputs": [],
   "source": [
    "IDX_MIN_LON=596\n",
    "IDX_MIN_LAT=645\n",
    "IMG_SIZE_LON=180\n",
    "IMG_SIZE_LAT=180"
   ]
  },
  {
   "cell_type": "code",
   "execution_count": null,
   "id": "232e8900-0070-4ce8-95b5-79acf916d8bf",
   "metadata": {},
   "outputs": [],
   "source": [
    "varname_translation_dict = {\"t2m\":\"t2m\",\n",
    "                            \"d2m\":\"d2m\",\n",
    "                            \"pressurf\":\"sp\",\n",
    "                            \"u10m\":\"u10\",\n",
    "                            \"v10m\":\"v10\"}\n",
    "\n",
    "urma_var_select_dict = {\"t2m\":{'filter_by_keys':{'typeOfLevel': 'heightAboveGround','level':2}}, \n",
    "                        \"d2m\":{'filter_by_keys':{'typeOfLevel': 'heightAboveGround','level':2}}, \n",
    "                        \"sp\":{'filter_by_keys':{'typeOfLevel': 'surface'}},\n",
    "                        \"u10\":{'filter_by_keys':{'typeOfLevel': 'heightAboveGround','level':10}},\n",
    "                        \"v10\":{'filter_by_keys':{'typeOfLevel': 'heightAboveGround','level':10}}}"
   ]
  },
  {
   "cell_type": "code",
   "execution_count": null,
   "id": "5e733dba-c11b-4130-9079-52a9f620e098",
   "metadata": {},
   "outputs": [],
   "source": [
    "## Change as needed\n",
    "PREDICTOR_VARS = [\"t2m\"]\n",
    "TARGET_VARS = [\"t2m\"]"
   ]
  },
  {
   "cell_type": "code",
   "execution_count": null,
   "id": "f0116a32-696a-426d-98c2-91ef20bc2835",
   "metadata": {},
   "outputs": [],
   "source": [
    "model_MAE_attrs = DefineModelAttributes(is_train=False)\n",
    "\n",
    "### Change as needed\n",
    "# model_MAE_attrs.predictor_vars = PREDICTOR_VARS\n",
    "# model_MAE_attrs.target_vars = TARGET_VARS\n",
    "\n",
    "model_MAE_attrs.create_save_name()\n",
    "model_MAE_attrs.create_dataset()"
   ]
  },
  {
   "cell_type": "code",
   "execution_count": null,
   "id": "ce23c73e-14a7-44e4-846d-a1a2218231e5",
   "metadata": {},
   "outputs": [],
   "source": [
    "model_RMSE_attrs = DefineModelAttributes(is_train=False, NUM_EPOCHS=1500)\n",
    "\n",
    "### Change as needed\n",
    "# model_1_attrs.predictor_vars = PREDICTOR_VARS\n",
    "# model_RMSE_attrs.target_vars = TARGET_VARS\n",
    "\n",
    "model_RMSE_attrs.create_save_name()\n",
    "model_RMSE_attrs.savename = f\"RMSELoss_{model_RMSE_attrs.savename}\"\n",
    "model_RMSE_attrs.create_dataset()"
   ]
  },
  {
   "cell_type": "code",
   "execution_count": null,
   "id": "6c7f9fd1-c171-4338-8f34-cca880e8f0a3",
   "metadata": {},
   "outputs": [],
   "source": [
    "model_MAE = SR_UNet_simple(n_channels_in=model_MAE_attrs.num_channels_in, n_channels_out=model_MAE_attrs.num_channels_out)\n",
    "device = torch.device(\"cuda\")\n",
    "model_MAE.to(device)\n",
    "model_MAE.load_state_dict(torch.load(f\"/scratch/RTMA/alex.schein/CNN_Main/Trained_models/MAE_Loss/{model_MAE_attrs.savename}.pt\", weights_only=True))"
   ]
  },
  {
   "cell_type": "code",
   "execution_count": null,
   "id": "01e6858d-87e5-46e8-b62a-fafa2755e7aa",
   "metadata": {},
   "outputs": [],
   "source": [
    "model_RMSE = SR_UNet_simple(n_channels_in=model_RMSE_attrs.num_channels_in, n_channels_out=model_RMSE_attrs.num_channels_out)\n",
    "device = torch.device(\"cuda\")\n",
    "model_RMSE.to(device)\n",
    "model_RMSE.load_state_dict(torch.load(f\"/scratch/RTMA/alex.schein/CNN_Main/Trained_models/{model_RMSE_attrs.savename}.pt\", weights_only=True))"
   ]
  },
  {
   "cell_type": "code",
   "execution_count": null,
   "id": "d32255da-3716-45e6-aecc-392ac4f94901",
   "metadata": {},
   "outputs": [],
   "source": [
    "TARG_VAR=\"t2m\"\n",
    "test_urma = xr.open_dataarray(f\"/data1/projects/RTMA/alex.schein/URMA_train_test/test_urma_alltimes_{TARG_VAR}.nc\", decode_timedelta=True)"
   ]
  },
  {
   "cell_type": "code",
   "execution_count": null,
   "id": "612785f6-ad51-4631-bd42-fd4a2d8ee1b6",
   "metadata": {},
   "outputs": [],
   "source": [
    "IDX = 6009\n",
    "\n",
    "pred, targ, model_output_MAE, dt_current = get_model_output_at_idx(model_attrs=model_MAE_attrs, model=model_MAE, idx=IDX, pred_var=TARG_VAR, targ_var=TARG_VAR)\n",
    "_, _, model_output_RMSE, _ = get_model_output_at_idx(model_attrs=model_RMSE_attrs, model=model_RMSE, idx=IDX, pred_var=TARG_VAR, targ_var=TARG_VAR)\n",
    "\n",
    "smartinit_dt = dt_current-dt.timedelta(hours=1) #remember, smartinit filename datetime is INITIALIZATION time, NOT valid time! \n",
    "smartinit_xr = xr.open_dataset(f\"/data1/projects/RTMA/alex.schein/HRRR_Smartinit_Data/hrrr_smartinit_{str(smartinit_dt.year)}{str(smartinit_dt.month).zfill(2)}{str(smartinit_dt.day).zfill(2)}_t{str(smartinit_dt.hour).zfill(2)}z_f01.grib2\", \n",
    "                                 engine=\"cfgrib\", \n",
    "                                 backend_kwargs=urma_var_select_dict[varname_translation_dict[TARG_VAR]],\n",
    "                                 decode_timedelta=True)\n",
    "smartinit_xr_var = smartinit_xr[varname_translation_dict[TARG_VAR]]\n",
    "smartinit_xr_var_sp_rest = smartinit_xr_var.isel(y=slice(IDX_MIN_LAT, IDX_MIN_LAT+IMG_SIZE_LAT),\n",
    "                                                x=slice(IDX_MIN_LON, IDX_MIN_LON+IMG_SIZE_LON))\n",
    "\n",
    "plot_predictor_output_truth_error(pred, model_output_MAE, targ, date_str=dt_current, title=f\"UNet MAE, predictors={model_MAE_attrs.predictor_vars} --> {TARG_VAR}\")\n",
    "plot_predictor_output_truth_error(pred, model_output_RMSE, targ, date_str=dt_current, title=f\"UNet RMSE, predictors={model_MAE_attrs.predictor_vars} --> {TARG_VAR}\")\n",
    "plot_predictor_output_truth_error(pred, smartinit_xr_var_sp_rest.data, targ, date_str=dt_current, title=f\"Smartinit, {TARG_VAR}\")"
   ]
  },
  {
   "cell_type": "code",
   "execution_count": null,
   "id": "94ae70cf-f373-4889-9677-bb4b124e3cfb",
   "metadata": {},
   "outputs": [],
   "source": []
  },
  {
   "cell_type": "code",
   "execution_count": null,
   "id": "4f2b3dc2-a3cd-4f6b-8dd5-b7405b33f325",
   "metadata": {},
   "outputs": [],
   "source": []
  }
 ],
 "metadata": {
  "kernelspec": {
   "display_name": "Python 3 (ipykernel)",
   "language": "python",
   "name": "python3"
  },
  "language_info": {
   "codemirror_mode": {
    "name": "ipython",
    "version": 3
   },
   "file_extension": ".py",
   "mimetype": "text/x-python",
   "name": "python",
   "nbconvert_exporter": "python",
   "pygments_lexer": "ipython3",
   "version": "3.10.12"
  }
 },
 "nbformat": 4,
 "nbformat_minor": 5
}
