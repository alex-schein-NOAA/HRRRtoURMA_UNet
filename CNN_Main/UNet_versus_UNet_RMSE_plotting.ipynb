{
 "cells": [
  {
   "cell_type": "code",
   "execution_count": null,
   "id": "40d80a21-cdd3-4a48-858e-58264e91f9c7",
   "metadata": {
    "editable": true,
    "slideshow": {
     "slide_type": ""
    },
    "tags": []
   },
   "outputs": [],
   "source": [
    "import torch\n",
    "from torch import nn\n",
    "from torch.utils.data import Dataset, DataLoader\n",
    "from torchvision import datasets\n",
    "from torchvision import transforms\n",
    "from torchvision.transforms import ToTensor\n",
    "from torchinfo import summary\n",
    "\n",
    "import os\n",
    "import glob\n",
    "import time\n",
    "import datetime as dt\n",
    "from netCDF4 import Dataset as nc_Dataset\n",
    "from netCDF4 import date2num, num2date\n",
    "import pandas as pd\n",
    "import numpy as np\n",
    "import math\n",
    "import xarray as xr\n",
    "from tqdm import tqdm\n",
    "import matplotlib.pyplot as plt\n",
    "import matplotlib.dates as mdates\n",
    "from matplotlib.markers import MarkerStyle\n",
    "import cartopy.crs as ccrs\n",
    "import cartopy.feature as cfeature\n",
    "\n",
    "import csv\n",
    "\n",
    "from FunctionsAndClasses.HRRR_URMA_Datasets_AllVars import *\n",
    "from FunctionsAndClasses.SR_UNet_simple import *\n",
    "from FunctionsAndClasses.DefineModelAttributes import *\n",
    "from FunctionsAndClasses.StatObjectConstructor import *\n",
    "from FunctionsAndClasses.utils import *"
   ]
  },
  {
   "cell_type": "code",
   "execution_count": null,
   "id": "05822ae0-aac4-4404-8e94-45a95467eb7b",
   "metadata": {},
   "outputs": [],
   "source": [
    "PREDICTOR_VARS = [\"pressurf\"]\n",
    "TARGET_VARS = [\"pressurf\"]"
   ]
  },
  {
   "cell_type": "code",
   "execution_count": null,
   "id": "6637e336-d3d2-4f23-8a2b-4832c3ff3a69",
   "metadata": {},
   "outputs": [],
   "source": [
    "model_MAE_attrs = DefineModelAttributes(is_train=False)\n",
    "\n",
    "### Change as needed\n",
    "model_MAE_attrs.predictor_vars = PREDICTOR_VARS\n",
    "model_MAE_attrs.target_vars = TARGET_VARS\n",
    "\n",
    "model_MAE_attrs.create_save_name()\n",
    "model_MAE_attrs.create_dataset()"
   ]
  },
  {
   "cell_type": "code",
   "execution_count": null,
   "id": "b0caf43a-f397-431c-a8d0-6c045c750205",
   "metadata": {},
   "outputs": [],
   "source": [
    "model_RMSE_attrs = DefineModelAttributes(is_train=False, NUM_EPOCHS=1500)\n",
    "\n",
    "### Change as needed\n",
    "model_RMSE_attrs.predictor_vars = PREDICTOR_VARS\n",
    "model_RMSE_attrs.target_vars = TARGET_VARS\n",
    "\n",
    "model_RMSE_attrs.create_save_name()\n",
    "model_RMSE_attrs.savename = f\"RMSELoss_{model_RMSE_attrs.savename}_TEMP\"\n",
    "model_RMSE_attrs.create_dataset()"
   ]
  },
  {
   "cell_type": "code",
   "execution_count": null,
   "id": "87f500e0-8897-4ea6-baa6-de5897c65da5",
   "metadata": {},
   "outputs": [],
   "source": [
    "TARG_VAR=\"pressurf\""
   ]
  },
  {
   "cell_type": "code",
   "execution_count": null,
   "id": "723da81e-92aa-4ed5-8b80-b990b23c7be2",
   "metadata": {},
   "outputs": [],
   "source": [
    "statsobj_model_MAE = ConstructStatObject(is_smartinit=False, current_model_attrs=model_MAE_attrs, target_var=TARG_VAR)\n",
    "statsobj_model_MAE.trained_models_directory = f\"/scratch/RTMA/alex.schein/CNN_Main/Trained_models/MAE_Loss\"\n",
    "\n",
    "statsobj_model_MAE.calc_domain_avg_RMSE_alltimes()"
   ]
  },
  {
   "cell_type": "code",
   "execution_count": null,
   "id": "368fe816-3c3c-4cff-9a88-99033bbf2a71",
   "metadata": {},
   "outputs": [],
   "source": [
    "statsobj_model_RMSE = ConstructStatObject(is_smartinit=False, current_model_attrs=model_RMSE_attrs, target_var=TARG_VAR)\n",
    "statsobj_model_RMSE.calc_domain_avg_RMSE_alltimes()"
   ]
  },
  {
   "cell_type": "code",
   "execution_count": null,
   "id": "f7756875-8029-409f-8b9b-ee4badab5f53",
   "metadata": {},
   "outputs": [],
   "source": [
    "statsobj_smartinit = ConstructStatObject(is_smartinit=True, target_var=TARG_VAR)\n",
    "statsobj_smartinit.calc_domain_avg_RMSE_alltimes()"
   ]
  },
  {
   "cell_type": "code",
   "execution_count": null,
   "id": "e245797c-70e1-43d1-b698-b3b42846f525",
   "metadata": {},
   "outputs": [],
   "source": [
    "plot_model_vs_model_RMSE(model_MAE_attrs,\n",
    "                         model_RMSE_attrs,\n",
    "                         statsobj_model_MAE, \n",
    "                         statsobj_model_RMSE,\n",
    "                         TARG_VAR=TARG_VAR,\n",
    "                         units_str=statsobj_model_MAE.varname_units_dict[TARG_VAR], \n",
    "                         to_save=False)"
   ]
  },
  {
   "cell_type": "code",
   "execution_count": null,
   "id": "433119ef-4c54-4966-8aef-9a05957d3546",
   "metadata": {},
   "outputs": [],
   "source": [
    "plot_model_vs_smartinit_RMSE(model_MAE_attrs,\n",
    "                             statsobj_model_MAE,\n",
    "                             statsobj_smartinit,\n",
    "                             units_str=statsobj_smartinit.varname_units_dict[TARG_VAR],\n",
    "                             to_save=False)"
   ]
  },
  {
   "cell_type": "code",
   "execution_count": null,
   "id": "e42adce9-6ff0-424f-b51c-9573a74f2dab",
   "metadata": {},
   "outputs": [],
   "source": [
    "plot_model_vs_smartinit_RMSE(model_RMSE_attrs,\n",
    "                             statsobj_model_RMSE,\n",
    "                             statsobj_smartinit,\n",
    "                             units_str=statsobj_smartinit.varname_units_dict[TARG_VAR],\n",
    "                             to_save=False)"
   ]
  },
  {
   "cell_type": "code",
   "execution_count": null,
   "id": "52b92f03-8f31-4d81-a35b-93e47716ae38",
   "metadata": {},
   "outputs": [],
   "source": []
  },
  {
   "cell_type": "code",
   "execution_count": null,
   "id": "1df609af-b2b6-4f93-aaa6-0cec4ebec481",
   "metadata": {},
   "outputs": [],
   "source": []
  }
 ],
 "metadata": {
  "kernelspec": {
   "display_name": "Python 3 (ipykernel)",
   "language": "python",
   "name": "python3"
  },
  "language_info": {
   "codemirror_mode": {
    "name": "ipython",
    "version": 3
   },
   "file_extension": ".py",
   "mimetype": "text/x-python",
   "name": "python",
   "nbconvert_exporter": "python",
   "pygments_lexer": "ipython3",
   "version": "3.10.12"
  }
 },
 "nbformat": 4,
 "nbformat_minor": 5
}
