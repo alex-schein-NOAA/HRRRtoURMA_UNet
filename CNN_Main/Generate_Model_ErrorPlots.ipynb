{
 "cells": [
  {
   "cell_type": "code",
   "execution_count": 1,
   "id": "40d80a21-cdd3-4a48-858e-58264e91f9c7",
   "metadata": {
    "editable": true,
    "slideshow": {
     "slide_type": ""
    },
    "tags": []
   },
   "outputs": [],
   "source": [
    "import torch\n",
    "from torch import nn\n",
    "from torch.utils.data import Dataset, DataLoader\n",
    "from torchvision import datasets\n",
    "from torchvision import transforms\n",
    "from torchvision.transforms import ToTensor\n",
    "from torchinfo import summary\n",
    "\n",
    "import os\n",
    "import time\n",
    "import datetime as dt\n",
    "from netCDF4 import Dataset as nc_Dataset\n",
    "import pandas as pd\n",
    "import numpy as np\n",
    "import xarray as xr\n",
    "from tqdm import tqdm\n",
    "import matplotlib.pyplot as plt\n",
    "from matplotlib.gridspec import GridSpec\n",
    "from mpl_toolkits.axes_grid1 import make_axes_locatable\n",
    "import cartopy.crs as ccrs\n",
    "import cartopy.feature as cfeature\n",
    "\n",
    "\n",
    "from HRRR_URMA_Datasets_AllVars import *\n",
    "from DefineModelAttributes import *\n",
    "from SR_UNet_simple import *\n",
    "from utils import *"
   ]
  },
  {
   "cell_type": "code",
   "execution_count": 2,
   "id": "22307c9b-08f9-4ea1-831f-575464aa8147",
   "metadata": {},
   "outputs": [],
   "source": [
    "MODEL_SAVE_DIR = f\"/scratch/RTMA/alex.schein/CNN_Main/Trained_models\""
   ]
  },
  {
   "cell_type": "code",
   "execution_count": 3,
   "id": "ce744e76-5014-4825-912f-3ef3dce30f63",
   "metadata": {},
   "outputs": [
    {
     "name": "stdout",
     "output_type": "stream",
     "text": [
      "BS256_NE1000_tD_pred(t2m)_targ(t2m).pt\n",
      "BS256_NE1000_tD_pred(t2m-d2m-pressurf-u10m-v10m)_targ(t2m).pt\n",
      "BS256_NE1000_tD_pred(t2m-d2m-pressurf-u10m)_targ(t2m).pt\n",
      "BS256_NE1000_tD_pred(t2m-d2m-pressurf)_targ(t2m).pt\n",
      "BS256_NE1000_tD_pred(t2m-d2m)_targ(t2m).pt\n"
     ]
    }
   ],
   "source": [
    "for filename in [x for x in os.listdir(MODEL_SAVE_DIR) if \".pt\" in x]:\n",
    "    print(filename)\n",
    "    x = DefineModelAttributes()\n",
    "    x.set_model_attrs_from_savename(filename)\n",
    "    #x.create_dataset()"
   ]
  },
  {
   "cell_type": "code",
   "execution_count": 4,
   "id": "18d3455f-bff4-47d2-9db9-ecbef48dc65e",
   "metadata": {},
   "outputs": [
    {
     "name": "stdout",
     "output_type": "stream",
     "text": [
      "Terrain normalization done for ['diff']\n",
      "Loading predictor dataset for t2m (Years = 2021/22/23, months = 1 to 12, hours = [0, 1, 2, 3, 4, 5, 6, 7, 8, 9, 10, 11, 12, 13, 14, 15, 16, 17, 18, 19, 20, 21, 22, 23])\n",
      "Predictor dataset data loaded. Time taken = 5.5 sec\n",
      "Normalizing over all times\n",
      "Normalization done. Time taken = 1.6 sec\n",
      "Loading predictor dataset for d2m (Years = 2021/22/23, months = 1 to 12, hours = [0, 1, 2, 3, 4, 5, 6, 7, 8, 9, 10, 11, 12, 13, 14, 15, 16, 17, 18, 19, 20, 21, 22, 23])\n",
      "Predictor dataset data loaded. Time taken = 4.9 sec\n",
      "Normalizing over all times\n",
      "Normalization done. Time taken = 1.6 sec\n",
      "Loading target dataset for t2m (Years = 2021/22/23, months = 1 to 12, hours = [0, 1, 2, 3, 4, 5, 6, 7, 8, 9, 10, 11, 12, 13, 14, 15, 16, 17, 18, 19, 20, 21, 22, 23])\n",
      "Target dataset data loaded. Time taken = 5.3 sec\n",
      "Normalizing over all times\n",
      "Normalization done. Time taken = 1.6 sec\n",
      "DATASET CONSTRUCTION DONE\n"
     ]
    }
   ],
   "source": [
    "filename = f\"BS256_NE1000_tD_pred(t2m-d2m)_targ(t2m).pt\"\n",
    "model_attrs = DefineModelAttributes()\n",
    "model_attrs.set_model_attrs_from_savename(filename)\n",
    "model_attrs.create_dataset()"
   ]
  },
  {
   "cell_type": "code",
   "execution_count": 5,
   "id": "0eac636f-038c-48a0-9727-1bdc64a10e48",
   "metadata": {},
   "outputs": [
    {
     "data": {
      "text/plain": [
       "SR_UNet_simple(\n",
       "  (first_conv): FirstConv(\n",
       "    (conv): Sequential(\n",
       "      (0): Conv2d(3, 64, kernel_size=(1, 1), stride=(1, 1), padding=same, bias=False)\n",
       "      (1): LeakyReLU(negative_slope=0.1, inplace=True)\n",
       "    )\n",
       "  )\n",
       "  (second_conv): ConvBlock(\n",
       "    (conv): Sequential(\n",
       "      (0): Conv2d(64, 64, kernel_size=(5, 5), stride=(1, 1), padding=same)\n",
       "      (1): LeakyReLU(negative_slope=0.1, inplace=True)\n",
       "    )\n",
       "  )\n",
       "  (enc_1): Encoder(\n",
       "    (encoder): Sequential(\n",
       "      (0): MaxPool2d(kernel_size=2, stride=2, padding=0, dilation=1, ceil_mode=False)\n",
       "      (1): ConvBlock(\n",
       "        (conv): Sequential(\n",
       "          (0): Conv2d(64, 128, kernel_size=(5, 5), stride=(1, 1), padding=same)\n",
       "          (1): LeakyReLU(negative_slope=0.1, inplace=True)\n",
       "        )\n",
       "      )\n",
       "    )\n",
       "  )\n",
       "  (enc_2): Encoder(\n",
       "    (encoder): Sequential(\n",
       "      (0): MaxPool2d(kernel_size=2, stride=2, padding=0, dilation=1, ceil_mode=False)\n",
       "      (1): ConvBlock(\n",
       "        (conv): Sequential(\n",
       "          (0): Conv2d(128, 256, kernel_size=(5, 5), stride=(1, 1), padding=same)\n",
       "          (1): LeakyReLU(negative_slope=0.1, inplace=True)\n",
       "        )\n",
       "      )\n",
       "    )\n",
       "  )\n",
       "  (enc_3): Encoder(\n",
       "    (encoder): Sequential(\n",
       "      (0): MaxPool2d(kernel_size=2, stride=2, padding=0, dilation=1, ceil_mode=False)\n",
       "      (1): ConvBlock(\n",
       "        (conv): Sequential(\n",
       "          (0): Conv2d(256, 512, kernel_size=(5, 5), stride=(1, 1), padding=same)\n",
       "          (1): LeakyReLU(negative_slope=0.1, inplace=True)\n",
       "        )\n",
       "      )\n",
       "    )\n",
       "  )\n",
       "  (enc_4): Encoder(\n",
       "    (encoder): Sequential(\n",
       "      (0): MaxPool2d(kernel_size=2, stride=2, padding=0, dilation=1, ceil_mode=False)\n",
       "      (1): ConvBlock(\n",
       "        (conv): Sequential(\n",
       "          (0): Conv2d(512, 1024, kernel_size=(5, 5), stride=(1, 1), padding=same)\n",
       "          (1): LeakyReLU(negative_slope=0.1, inplace=True)\n",
       "        )\n",
       "      )\n",
       "    )\n",
       "  )\n",
       "  (dec_1): Decoder(\n",
       "    (conv): Sequential(\n",
       "      (0): Upsample(scale_factor=2.0, mode='bilinear')\n",
       "      (1): Conv2d(1024, 512, kernel_size=(1, 1), stride=(1, 1), padding=same)\n",
       "      (2): LeakyReLU(negative_slope=0.1, inplace=True)\n",
       "    )\n",
       "    (conv_block): ConvBlock(\n",
       "      (conv): Sequential(\n",
       "        (0): Conv2d(1024, 512, kernel_size=(5, 5), stride=(1, 1), padding=same)\n",
       "        (1): LeakyReLU(negative_slope=0.1, inplace=True)\n",
       "      )\n",
       "    )\n",
       "  )\n",
       "  (dec_2): Decoder(\n",
       "    (conv): Sequential(\n",
       "      (0): Upsample(scale_factor=2.0, mode='bilinear')\n",
       "      (1): Conv2d(512, 256, kernel_size=(1, 1), stride=(1, 1), padding=same)\n",
       "      (2): LeakyReLU(negative_slope=0.1, inplace=True)\n",
       "    )\n",
       "    (conv_block): ConvBlock(\n",
       "      (conv): Sequential(\n",
       "        (0): Conv2d(512, 256, kernel_size=(5, 5), stride=(1, 1), padding=same)\n",
       "        (1): LeakyReLU(negative_slope=0.1, inplace=True)\n",
       "      )\n",
       "    )\n",
       "  )\n",
       "  (dec_3): Decoder(\n",
       "    (conv): Sequential(\n",
       "      (0): Upsample(scale_factor=2.0, mode='bilinear')\n",
       "      (1): Conv2d(256, 128, kernel_size=(1, 1), stride=(1, 1), padding=same)\n",
       "      (2): LeakyReLU(negative_slope=0.1, inplace=True)\n",
       "    )\n",
       "    (conv_block): ConvBlock(\n",
       "      (conv): Sequential(\n",
       "        (0): Conv2d(256, 128, kernel_size=(5, 5), stride=(1, 1), padding=same)\n",
       "        (1): LeakyReLU(negative_slope=0.1, inplace=True)\n",
       "      )\n",
       "    )\n",
       "  )\n",
       "  (dec_4): Decoder(\n",
       "    (conv): Sequential(\n",
       "      (0): Upsample(scale_factor=2.0, mode='bilinear')\n",
       "      (1): Conv2d(128, 64, kernel_size=(1, 1), stride=(1, 1), padding=same)\n",
       "      (2): LeakyReLU(negative_slope=0.1, inplace=True)\n",
       "    )\n",
       "    (conv_block): ConvBlock(\n",
       "      (conv): Sequential(\n",
       "        (0): Conv2d(128, 64, kernel_size=(5, 5), stride=(1, 1), padding=same)\n",
       "        (1): LeakyReLU(negative_slope=0.1, inplace=True)\n",
       "      )\n",
       "    )\n",
       "  )\n",
       "  (final_conv): FinalConv(\n",
       "    (conv): Sequential(\n",
       "      (0): Conv2d(64, 1, kernel_size=(1, 1), stride=(1, 1), padding=same)\n",
       "    )\n",
       "  )\n",
       ")"
      ]
     },
     "execution_count": 5,
     "metadata": {},
     "output_type": "execute_result"
    }
   ],
   "source": [
    "model = SR_UNet_simple(n_channels_in=model_attrs.num_channels_in)\n",
    "model.load_state_dict(torch.load(f\"{MODEL_SAVE_DIR}/{filename}\", weights_only=True))\n",
    "device = \"cuda:3\"\n",
    "model.to(device)"
   ]
  },
  {
   "cell_type": "code",
   "execution_count": 6,
   "id": "9bddba3d-4cea-4181-8ed0-16a59850c5e0",
   "metadata": {},
   "outputs": [],
   "source": [
    "pred, targ, model_output, dt_current = get_model_output_at_idx(model_attrs, model, pred_var=\"t2m\", targ_var = \"t2m\", idx=0, is_unnormed=True)"
   ]
  },
  {
   "cell_type": "code",
   "execution_count": null,
   "id": "a9d59eba-a584-4d14-8582-6a16f0e9c62e",
   "metadata": {},
   "outputs": [],
   "source": [
    "# Need to finish\n",
    "\n",
    "# Try making a function to plot RMSE vs time - since it's spatial average, have 1 index per hour, so..."
   ]
  }
 ],
 "metadata": {
  "kernelspec": {
   "display_name": "Python 3 (ipykernel)",
   "language": "python",
   "name": "python3"
  },
  "language_info": {
   "codemirror_mode": {
    "name": "ipython",
    "version": 3
   },
   "file_extension": ".py",
   "mimetype": "text/x-python",
   "name": "python",
   "nbconvert_exporter": "python",
   "pygments_lexer": "ipython3",
   "version": "3.10.12"
  }
 },
 "nbformat": 4,
 "nbformat_minor": 5
}
