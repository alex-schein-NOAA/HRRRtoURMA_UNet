{
 "cells": [
  {
   "cell_type": "code",
   "execution_count": 31,
   "id": "3b67eef5-e885-4cb8-a4c7-164697923172",
   "metadata": {},
   "outputs": [],
   "source": [
    "from pathlib import Path\n",
    "import os\n",
    "import shutil\n",
    "from datetime import date, timedelta\n",
    "import xarray as xr\n",
    "import netCDF4 as nc\n",
    "import numpy as np"
   ]
  },
  {
   "cell_type": "code",
   "execution_count": 2,
   "id": "361405cc-5649-42c2-9ffa-9459dc1226af",
   "metadata": {},
   "outputs": [],
   "source": [
    "PATH_URMA_ORIGINAL = \"/data1/ai-datadepot/models/urma/2p5km/grib2\"\n",
    "PATH_URMA_TRAIN = \"/scratch/RTMA/alex.schein/URMA_train_test/train\"\n",
    "PATH_URMA_TEST = \"/scratch/RTMA/alex.schein/URMA_train_test/test\""
   ]
  },
  {
   "cell_type": "code",
   "execution_count": 32,
   "id": "1ba770ce-9df2-4662-85ba-17dc5734d204",
   "metadata": {},
   "outputs": [
    {
     "name": "stderr",
     "output_type": "stream",
     "text": [
      "Can't create file '/data1/ai-datadepot/models/urma/2p5km/grib2/20210105/urma2p5.t00z.2dvaranl_ndfd.grb2_wexp.5b7b6.idx'\n",
      "Traceback (most recent call last):\n",
      "  File \"/home/alex.schein/.local/lib/python3.10/site-packages/cfgrib/messages.py\", line 538, in from_indexpath_or_filestream\n",
      "    with compat_create_exclusive(indexpath) as new_index_file:\n",
      "  File \"/usr/lib/python3.10/contextlib.py\", line 135, in __enter__\n",
      "    return next(self.gen)\n",
      "  File \"/home/alex.schein/.local/lib/python3.10/site-packages/cfgrib/messages.py\", line 504, in compat_create_exclusive\n",
      "    fd = os.open(path, os.O_WRONLY | os.O_CREAT | os.O_EXCL)\n",
      "PermissionError: [Errno 13] Permission denied: '/data1/ai-datadepot/models/urma/2p5km/grib2/20210105/urma2p5.t00z.2dvaranl_ndfd.grb2_wexp.5b7b6.idx'\n",
      "Can't read index file '/data1/ai-datadepot/models/urma/2p5km/grib2/20210105/urma2p5.t00z.2dvaranl_ndfd.grb2_wexp.5b7b6.idx'\n",
      "Traceback (most recent call last):\n",
      "  File \"/home/alex.schein/.local/lib/python3.10/site-packages/cfgrib/messages.py\", line 548, in from_indexpath_or_filestream\n",
      "    index_mtime = os.path.getmtime(indexpath)\n",
      "  File \"/usr/lib/python3.10/genericpath.py\", line 55, in getmtime\n",
      "    return os.stat(filename).st_mtime\n",
      "FileNotFoundError: [Errno 2] No such file or directory: '/data1/ai-datadepot/models/urma/2p5km/grib2/20210105/urma2p5.t00z.2dvaranl_ndfd.grb2_wexp.5b7b6.idx'\n",
      "skipping variable: paramId==165 shortName='u10'\n",
      "Traceback (most recent call last):\n",
      "  File \"/home/alex.schein/.local/lib/python3.10/site-packages/cfgrib/dataset.py\", line 725, in build_dataset_components\n",
      "    dict_merge(variables, coord_vars)\n",
      "  File \"/home/alex.schein/.local/lib/python3.10/site-packages/cfgrib/dataset.py\", line 641, in dict_merge\n",
      "    raise DatasetBuildError(\n",
      "cfgrib.dataset.DatasetBuildError: key present and new value is different: key='heightAboveGround' value=Variable(dimensions=(), data=np.float64(2.0)) new_value=Variable(dimensions=(), data=np.float64(10.0))\n",
      "skipping variable: paramId==166 shortName='v10'\n",
      "Traceback (most recent call last):\n",
      "  File \"/home/alex.schein/.local/lib/python3.10/site-packages/cfgrib/dataset.py\", line 725, in build_dataset_components\n",
      "    dict_merge(variables, coord_vars)\n",
      "  File \"/home/alex.schein/.local/lib/python3.10/site-packages/cfgrib/dataset.py\", line 641, in dict_merge\n",
      "    raise DatasetBuildError(\n",
      "cfgrib.dataset.DatasetBuildError: key present and new value is different: key='heightAboveGround' value=Variable(dimensions=(), data=np.float64(2.0)) new_value=Variable(dimensions=(), data=np.float64(10.0))\n",
      "skipping variable: paramId==260260 shortName='wdir10'\n",
      "Traceback (most recent call last):\n",
      "  File \"/home/alex.schein/.local/lib/python3.10/site-packages/cfgrib/dataset.py\", line 725, in build_dataset_components\n",
      "    dict_merge(variables, coord_vars)\n",
      "  File \"/home/alex.schein/.local/lib/python3.10/site-packages/cfgrib/dataset.py\", line 641, in dict_merge\n",
      "    raise DatasetBuildError(\n",
      "cfgrib.dataset.DatasetBuildError: key present and new value is different: key='heightAboveGround' value=Variable(dimensions=(), data=np.float64(2.0)) new_value=Variable(dimensions=(), data=np.float64(10.0))\n",
      "skipping variable: paramId==207 shortName='si10'\n",
      "Traceback (most recent call last):\n",
      "  File \"/home/alex.schein/.local/lib/python3.10/site-packages/cfgrib/dataset.py\", line 725, in build_dataset_components\n",
      "    dict_merge(variables, coord_vars)\n",
      "  File \"/home/alex.schein/.local/lib/python3.10/site-packages/cfgrib/dataset.py\", line 641, in dict_merge\n",
      "    raise DatasetBuildError(\n",
      "cfgrib.dataset.DatasetBuildError: key present and new value is different: key='heightAboveGround' value=Variable(dimensions=(), data=np.float64(2.0)) new_value=Variable(dimensions=(), data=np.float64(10.0))\n",
      "skipping variable: paramId==228029 shortName='i10fg'\n",
      "Traceback (most recent call last):\n",
      "  File \"/home/alex.schein/.local/lib/python3.10/site-packages/cfgrib/dataset.py\", line 725, in build_dataset_components\n",
      "    dict_merge(variables, coord_vars)\n",
      "  File \"/home/alex.schein/.local/lib/python3.10/site-packages/cfgrib/dataset.py\", line 641, in dict_merge\n",
      "    raise DatasetBuildError(\n",
      "cfgrib.dataset.DatasetBuildError: key present and new value is different: key='heightAboveGround' value=Variable(dimensions=(), data=np.float64(2.0)) new_value=Variable(dimensions=(), data=np.float64(10.0))\n",
      "skipping variable: paramId==140229 shortName='swh'\n",
      "Traceback (most recent call last):\n",
      "  File \"/home/alex.schein/.local/lib/python3.10/site-packages/cfgrib/dataset.py\", line 725, in build_dataset_components\n",
      "    dict_merge(variables, coord_vars)\n",
      "  File \"/home/alex.schein/.local/lib/python3.10/site-packages/cfgrib/dataset.py\", line 641, in dict_merge\n",
      "    raise DatasetBuildError(\n",
      "cfgrib.dataset.DatasetBuildError: key present and new value is different: key='surface' value=Variable(dimensions=(), data=np.float64(0.0)) new_value=Variable(dimensions=(), data=np.float64(1.0))\n",
      "/home/alex.schein/.local/lib/python3.10/site-packages/cfgrib/xarray_plugin.py:131: FutureWarning: In a future version of xarray decode_timedelta will default to False rather than None. To silence this warning, set decode_timedelta to True, False, or a 'CFTimedeltaCoder' instance.\n",
      "  vars, attrs, coord_names = xr.conventions.decode_cf_variables(\n"
     ]
    }
   ],
   "source": [
    "#will spawn horrendous error because it can't create an index file, but it will open\n",
    "t2m_xr = xr.open_dataset(PATH_URMA_ORIGINAL+\"/20210105/urma2p5.t00z.2dvaranl_ndfd.grb2_wexp\", engine='cfgrib')"
   ]
  },
  {
   "cell_type": "code",
   "execution_count": 33,
   "id": "ddc2d4a6-b5b2-49c5-af3d-b445d23c185c",
   "metadata": {},
   "outputs": [],
   "source": [
    "t2m_nc = nc.Dataset(PATH_URMA_TEST+\"/test_default_dtype.nc\")\n",
    "#.to_netcdf(PATH_URMA_TEST+\"/test_default_dtype\"+\".nc\", encoding={\"t2m\":{\"zlib\":True, \"complevel\":9}})\n",
    "#.to_netcdf(PATH_URMA_TEST+\"/test_f4\"+\".nc\", encoding={\"t2m\":{\"zlib\":True, \"complevel\":9, \"dtype\":\"f4\"}})"
   ]
  },
  {
   "cell_type": "code",
   "execution_count": 43,
   "id": "228fef85-205c-4bd3-8325-20409e7473c7",
   "metadata": {},
   "outputs": [
    {
     "name": "stdout",
     "output_type": "stream",
     "text": [
      "y | \"<class 'netCDF4.Dimension'>\": name = 'y', size = 1597\n",
      "x | \"<class 'netCDF4.Dimension'>\": name = 'x', size = 2345\n"
     ]
    }
   ],
   "source": [
    "for name, dimension in t2m_nc.dimensions.items():\n",
    "    print(f\"{name} | {dimension}\")\n",
    "\n",
    "for name, variable in t2m_nc.variables.items():\n",
    "    print(f\"{name} | {variable}\")"
   ]
  },
  {
   "cell_type": "code",
   "execution_count": 48,
   "id": "12c120e6-e371-4b19-a76f-47778b6443df",
   "metadata": {},
   "outputs": [],
   "source": [
    "with nc.Dataset(PATH_URMA_TEST+\"/test_default_dtype.nc\") as src, nc.Dataset(PATH_URMA_TEST+\"/test_custom_write.nc\", 'w') as dst:\n",
    "    # copy attributes\n",
    "    for name in src.ncattrs():\n",
    "        dst.setncattr(name, src.getncattr(name))\n",
    "    # copy dimensions\n",
    "    for name, dimension in src.dimensions.items():\n",
    "        dst.createDimension(\n",
    "        name, (len(dimension) if not dimension.isunlimited else None))\n",
    "    # copy all file data for variables that are included in the toinclude list\n",
    "    for name, variable in src.variables.items():\n",
    "        x = dst.createVariable(name, variable.datatype, variable.dimensions, zlib=True, complevel=9)\n",
    "        dst.variables[name][:] = src.variables[name][:]"
   ]
  },
  {
   "cell_type": "code",
   "execution_count": null,
   "id": "74fb23e0-eb7e-4213-b445-3cb5bbf57c3f",
   "metadata": {},
   "outputs": [],
   "source": []
  }
 ],
 "metadata": {
  "kernelspec": {
   "display_name": "Python 3 (ipykernel)",
   "language": "python",
   "name": "python3"
  },
  "language_info": {
   "codemirror_mode": {
    "name": "ipython",
    "version": 3
   },
   "file_extension": ".py",
   "mimetype": "text/x-python",
   "name": "python",
   "nbconvert_exporter": "python",
   "pygments_lexer": "ipython3",
   "version": "3.10.12"
  }
 },
 "nbformat": 4,
 "nbformat_minor": 5
}
