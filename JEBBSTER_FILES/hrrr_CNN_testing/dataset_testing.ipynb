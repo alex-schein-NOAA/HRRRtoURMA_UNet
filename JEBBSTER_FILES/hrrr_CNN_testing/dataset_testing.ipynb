{
 "cells": [
  {
   "cell_type": "code",
   "execution_count": 1,
   "id": "40d80a21-cdd3-4a48-858e-58264e91f9c7",
   "metadata": {
    "editable": true,
    "slideshow": {
     "slide_type": ""
    },
    "tags": []
   },
   "outputs": [],
   "source": [
    "import torch\n",
    "from torch import nn\n",
    "from torch.utils.data import Dataset, DataLoader\n",
    "from torchvision import datasets\n",
    "from torchvision import transforms\n",
    "from torchvision.transforms import ToTensor\n",
    "from torchinfo import summary\n",
    "\n",
    "import os\n",
    "import glob\n",
    "import time\n",
    "import datetime as dt\n",
    "from netCDF4 import Dataset as nc_Dataset\n",
    "from netCDF4 import date2num, num2date\n",
    "import pandas as pd\n",
    "import numpy as np\n",
    "import math\n",
    "import xarray as xr\n",
    "from tqdm import tqdm\n",
    "import matplotlib.pyplot as plt\n",
    "from matplotlib.markers import MarkerStyle\n",
    "import cartopy.crs as ccrs\n",
    "import cartopy.feature as cfeature\n",
    "\n",
    "from HRRR_URMA_Datasets import *\n",
    "from HRRR_URMA_Datasets_AllVars import *\n",
    "from DefineModelAttributes import *\n",
    "from SR_UNet_simple import *"
   ]
  },
  {
   "cell_type": "code",
   "execution_count": 2,
   "id": "edbcb6b0-fcb4-4185-b198-f297282d10f7",
   "metadata": {},
   "outputs": [],
   "source": [
    "TIME_LIST = [i for i in range(24)] #[\"00\", \"12\"]"
   ]
  },
  {
   "cell_type": "code",
   "execution_count": 3,
   "id": "4f8f2ba6-1746-4bcd-8d9e-7bf10968337c",
   "metadata": {},
   "outputs": [],
   "source": [
    "# test_ds_2 = HRRR_URMA_Dataset_AllVars(is_train=True,\n",
    "#                                       months=[1,12],  \n",
    "#                                       hours=TIME_LIST, \n",
    "#                                       forecast_lead_time=1,\n",
    "#                                       normalization_scheme = \"all times\",\n",
    "#                                       with_terrains=[\"hrrr\",\"urma\",\"diff\"], \n",
    "#                                       with_yearly_time_sig=True, \n",
    "#                                       with_hourly_time_sig=True,\n",
    "#                                       time_sig_scheme=\"Frac\",\n",
    "#                                       predictor_vars = [\"t2m\", \"d2m\", \"pressurf\", \"u10m\", \"v10m\"],\n",
    "#                                       target_vars = [\"t2m\"])#, \"d2m\", \"pressurf\", \"u10m\", \"v10m\"])"
   ]
  },
  {
   "cell_type": "code",
   "execution_count": 4,
   "id": "db227f23-b6fe-4cf1-be6c-54cecf12308a",
   "metadata": {},
   "outputs": [],
   "source": [
    "x = DefineModelAttributes()"
   ]
  },
  {
   "cell_type": "code",
   "execution_count": 6,
   "id": "075354db-850a-4768-a9b6-cf307d7ae83c",
   "metadata": {},
   "outputs": [
    {
     "name": "stdout",
     "output_type": "stream",
     "text": [
      "Terrain normalization done for ['diff']\n",
      "Loading predictor dataset for t2m (Years = 2021/22/23, months = 1 to 12, hours = [0, 1, 2, 3, 4, 5, 6, 7, 8, 9, 10, 11, 12, 13, 14, 15, 16, 17, 18, 19, 20, 21, 22, 23])\n",
      "Predictor dataset data loaded. Time taken = 4.4 sec\n",
      "Normalizing over all times\n",
      "Normalization done. Time taken = 1.6 sec\n",
      "Loading predictor dataset for d2m (Years = 2021/22/23, months = 1 to 12, hours = [0, 1, 2, 3, 4, 5, 6, 7, 8, 9, 10, 11, 12, 13, 14, 15, 16, 17, 18, 19, 20, 21, 22, 23])\n",
      "Predictor dataset data loaded. Time taken = 4.9 sec\n",
      "Normalizing over all times\n",
      "Normalization done. Time taken = 1.6 sec\n",
      "Loading predictor dataset for pressurf (Years = 2021/22/23, months = 1 to 12, hours = [0, 1, 2, 3, 4, 5, 6, 7, 8, 9, 10, 11, 12, 13, 14, 15, 16, 17, 18, 19, 20, 21, 22, 23])\n",
      "Predictor dataset data loaded. Time taken = 5.6 sec\n",
      "Normalizing over all times\n",
      "Normalization done. Time taken = 1.6 sec\n",
      "Loading predictor dataset for u10m (Years = 2021/22/23, months = 1 to 12, hours = [0, 1, 2, 3, 4, 5, 6, 7, 8, 9, 10, 11, 12, 13, 14, 15, 16, 17, 18, 19, 20, 21, 22, 23])\n",
      "Predictor dataset data loaded. Time taken = 5.3 sec\n",
      "Normalizing over all times\n",
      "Normalization done. Time taken = 1.6 sec\n",
      "Loading predictor dataset for v10m (Years = 2021/22/23, months = 1 to 12, hours = [0, 1, 2, 3, 4, 5, 6, 7, 8, 9, 10, 11, 12, 13, 14, 15, 16, 17, 18, 19, 20, 21, 22, 23])\n",
      "Predictor dataset data loaded. Time taken = 5.0 sec\n",
      "Normalizing over all times\n",
      "Normalization done. Time taken = 1.6 sec\n",
      "Loading target dataset for t2m (Years = 2021/22/23, months = 1 to 12, hours = [0, 1, 2, 3, 4, 5, 6, 7, 8, 9, 10, 11, 12, 13, 14, 15, 16, 17, 18, 19, 20, 21, 22, 23])\n",
      "Target dataset data loaded. Time taken = 6.1 sec\n",
      "Normalizing over all times\n",
      "Normalization done. Time taken = 1.6 sec\n",
      "Loading target dataset for d2m (Years = 2021/22/23, months = 1 to 12, hours = [0, 1, 2, 3, 4, 5, 6, 7, 8, 9, 10, 11, 12, 13, 14, 15, 16, 17, 18, 19, 20, 21, 22, 23])\n",
      "Target dataset data loaded. Time taken = 5.0 sec\n",
      "Normalizing over all times\n",
      "Normalization done. Time taken = 1.6 sec\n",
      "Loading target dataset for pressurf (Years = 2021/22/23, months = 1 to 12, hours = [0, 1, 2, 3, 4, 5, 6, 7, 8, 9, 10, 11, 12, 13, 14, 15, 16, 17, 18, 19, 20, 21, 22, 23])\n",
      "Target dataset data loaded. Time taken = 5.0 sec\n",
      "Normalizing over all times\n",
      "Normalization done. Time taken = 1.6 sec\n",
      "Loading target dataset for u10m (Years = 2021/22/23, months = 1 to 12, hours = [0, 1, 2, 3, 4, 5, 6, 7, 8, 9, 10, 11, 12, 13, 14, 15, 16, 17, 18, 19, 20, 21, 22, 23])\n",
      "Target dataset data loaded. Time taken = 5.0 sec\n",
      "Normalizing over all times\n",
      "Normalization done. Time taken = 1.6 sec\n",
      "Loading target dataset for v10m (Years = 2021/22/23, months = 1 to 12, hours = [0, 1, 2, 3, 4, 5, 6, 7, 8, 9, 10, 11, 12, 13, 14, 15, 16, 17, 18, 19, 20, 21, 22, 23])\n",
      "Target dataset data loaded. Time taken = 5.5 sec\n",
      "Normalizing over all times\n",
      "Normalization done. Time taken = 1.6 sec\n",
      "Yearly time signatures done\n",
      "Hourly time signatures done\n",
      "DATASET CONSTRUCTION DONE\n"
     ]
    }
   ],
   "source": [
    "x.create_dataset()"
   ]
  },
  {
   "cell_type": "code",
   "execution_count": 7,
   "id": "f3c0fedc-1c8b-4c52-83f6-f2623648296f",
   "metadata": {},
   "outputs": [
    {
     "data": {
      "text/plain": [
       "8"
      ]
     },
     "execution_count": 7,
     "metadata": {},
     "output_type": "execute_result"
    }
   ],
   "source": [
    "x.num_channels"
   ]
  },
  {
   "cell_type": "code",
   "execution_count": null,
   "id": "f9175da2-45be-47aa-9fa0-2804d3ae4de0",
   "metadata": {},
   "outputs": [],
   "source": [
    "x.predictor_vars.index(\"d2m\")"
   ]
  },
  {
   "cell_type": "code",
   "execution_count": null,
   "id": "fe65dff9-9a42-423c-b1ee-28aaa7e39733",
   "metadata": {},
   "outputs": [],
   "source": []
  }
 ],
 "metadata": {
  "kernelspec": {
   "display_name": "Python 3 (ipykernel)",
   "language": "python",
   "name": "python3"
  },
  "language_info": {
   "codemirror_mode": {
    "name": "ipython",
    "version": 3
   },
   "file_extension": ".py",
   "mimetype": "text/x-python",
   "name": "python",
   "nbconvert_exporter": "python",
   "pygments_lexer": "ipython3",
   "version": "3.10.12"
  }
 },
 "nbformat": 4,
 "nbformat_minor": 5
}
