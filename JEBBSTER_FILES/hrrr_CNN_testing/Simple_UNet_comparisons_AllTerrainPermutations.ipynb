{
 "cells": [
  {
   "cell_type": "code",
   "execution_count": null,
   "id": "866350fa-2d91-4026-a8df-83daf1c3b7bf",
   "metadata": {},
   "outputs": [],
   "source": [
    "import torch\n",
    "from torch import nn\n",
    "from torch.utils.data import Dataset, DataLoader\n",
    "from torchvision import datasets\n",
    "from torchvision import transforms\n",
    "from torchvision.transforms import ToTensor\n",
    "from torchinfo import summary\n",
    "\n",
    "import os\n",
    "import time\n",
    "import datetime as dt\n",
    "from netCDF4 import Dataset as nc_Dataset\n",
    "import pandas as pd\n",
    "import numpy as np\n",
    "import xarray as xr\n",
    "from tqdm import tqdm\n",
    "import matplotlib.pyplot as plt\n",
    "from matplotlib.gridspec import GridSpec\n",
    "from mpl_toolkits.axes_grid1 import make_axes_locatable\n",
    "import cartopy.crs as ccrs\n",
    "import cartopy.feature as cfeature\n",
    "\n",
    "from HRRR_URMA_Datasets import *\n",
    "from SR_UNet_simple import *\n",
    "from utils import *\n",
    "\n",
    "torch.manual_seed(42)"
   ]
  },
  {
   "cell_type": "code",
   "execution_count": null,
   "id": "a2d60245-776b-4561-be68-37290ca0f10d",
   "metadata": {},
   "outputs": [],
   "source": [
    "# For comparison, need to be careful with datasets, \n",
    "# as the normalization differs, so models can only be compared on their OWN appropriately-normalized dataset!"
   ]
  },
  {
   "cell_type": "code",
   "execution_count": null,
   "id": "79e65409-ba68-4951-853f-56a4cfc605df",
   "metadata": {},
   "outputs": [],
   "source": [
    "BATCH_SIZE = 64 \n",
    "NUM_EPOCHS = 2000"
   ]
  },
  {
   "cell_type": "code",
   "execution_count": null,
   "id": "4b993d0f-1d67-4c90-a2ff-4e1de98dd600",
   "metadata": {},
   "outputs": [],
   "source": [
    "MONTHS_model_1 = [1,3]\n",
    "DAYS_model_1 = [1,31] #make sure last entry matches number of days in month[1]...\n",
    "\n",
    "MONTHS_model_2 = [1,3]\n",
    "DAYS_model_2 = [1,31] #make sure last entry matches number of days in month[1]...\n",
    "\n",
    "HOUR = 12  # 0 --> use only 00z data; 12 --> only 12z data"
   ]
  },
  {
   "cell_type": "code",
   "execution_count": null,
   "id": "4d2aba76-218c-4702-b159-c745b73b388d",
   "metadata": {},
   "outputs": [],
   "source": [
    "# Pay attention to details of terrain!\n",
    "# These are bools, but write as ints for ease of string formatting later\n",
    "# W_HRRR_T_model_1 = 1\n",
    "# W_URMA_T_model_1 = 1\n",
    "# W_DIFF_T_model_1 = 1\n",
    "\n",
    "# W_HRRR_T_model_2 = 1\n",
    "# W_URMA_T_model_2 = 0\n",
    "# W_DIFF_T_model_2 = 1"
   ]
  },
  {
   "cell_type": "code",
   "execution_count": null,
   "id": "522104eb-f182-48e0-8852-b9ce6c09a2ec",
   "metadata": {},
   "outputs": [],
   "source": [
    "#Loop over all possibilities\n",
    "\n",
    "# idx = 66 #some random index\n",
    "errors_list = []\n",
    "spatial_errors_list = []\n",
    "labels_list = []\n",
    "\n",
    "for W_HRRR_T in [1, 0]:\n",
    "    for W_URMA_T in [1, 0]:\n",
    "        for W_DIFF_T in [1, 0]:\n",
    "            pred_model_name = f\"UNSim_BS{BATCH_SIZE}_NE{NUM_EPOCHS}_{str(HOUR).zfill(2)}z_months{MONTHS_model_1[0]}-{MONTHS_model_1[1]}_tHRRR{W_HRRR_T}_tURMA{W_URMA_T}_tDIFF{W_DIFF_T}\"\n",
    "            n_ch_in = 1+W_HRRR_T+W_URMA_T+W_DIFF_T\n",
    "\n",
    "            train_ds = HRRR_URMA_Dataset_Anytime_Anydate_Anyterrain(is_train=True,\n",
    "                                                                    with_hrrr_terrain=W_HRRR_T,\n",
    "                                                                    with_urma_terrain=W_URMA_T,\n",
    "                                                                    with_terrain_difference=W_DIFF_T,\n",
    "                                                                    months=MONTHS_model_1,\n",
    "                                                                    days=DAYS_model_1,\n",
    "                                                                    hour=HOUR)\n",
    "\n",
    "            pred_model = SR_UNet_simple(n_channels_in=n_ch_in)\n",
    "            pred_model.load_state_dict(torch.load(f\"/scratch/RTMA/alex.schein/hrrr_CNN_testing/Trained models/{pred_model_name}.pt\", weights_only=True))\n",
    "            device = \"cuda:1\"\n",
    "            \n",
    "            pred_model.to(device)\n",
    "\n",
    "            tmp_error_list = []\n",
    "            tmp_spatial_error_list = []\n",
    "            for idx, (X,y) in enumerate(train_ds):\n",
    "                X,y = train_ds[idx] \n",
    "                X = X[np.newaxis,:]\n",
    "                X_gpu = torch.from_numpy(X).cuda(device)\n",
    "                with torch.no_grad():\n",
    "                    pred = pred_model(X_gpu)\n",
    "                    pred = pred.cpu().numpy()\n",
    "    \n",
    "                y_unnormed = y.squeeze()*train_ds.urma_std + train_ds.urma_mean\n",
    "                pred_unnormed = pred.squeeze()*train_ds.urma_std + train_ds.urma_mean\n",
    "\n",
    "                tmp_spatial_error_list.append(pred_unnormed-y_unnormed)\n",
    "                tmp_error_list.append((pred_unnormed-y_unnormed).flatten())\n",
    "\n",
    "            spatial_errors_list.append(np.mean(tmp_spatial_error_list, axis=0))\n",
    "            errors_list.append(np.array(tmp_error_list).flatten()) #(pred_unnormed-y_unnormed).flatten())\n",
    "            labels_list.append(f\"H{W_HRRR_T}/U{W_URMA_T}/D{W_DIFF_T}\")\n",
    "            print(f\"H{W_HRRR_T}/U{W_URMA_T}/D{W_DIFF_T} DONE\")\n",
    "print(\"ALL DONE\")"
   ]
  },
  {
   "cell_type": "code",
   "execution_count": null,
   "id": "a9431a21-72ee-4450-aef3-e99cc8d79078",
   "metadata": {},
   "outputs": [],
   "source": [
    "labels_with_quantiles = [label+f\" \\n 25%={np.quantile(errors_list[i], 0.25):.4f} \\n 50% = {np.quantile(errors_list[i], 0.50):.4f} \\n 75% = {np.quantile(errors_list[i], 0.75):.4f} \\n Q3-Q1={(np.quantile(errors_list[i], 0.75)-np.quantile(errors_list[i], 0.25)):.4f}\" for i, label in enumerate(labels_list)]"
   ]
  },
  {
   "cell_type": "code",
   "execution_count": null,
   "id": "3553d428-8aec-45b3-ab7a-cb596f0a07bb",
   "metadata": {},
   "outputs": [],
   "source": [
    "labels_with_quantiles"
   ]
  },
  {
   "cell_type": "code",
   "execution_count": null,
   "id": "e05bad70-0829-41b5-bb7e-e6b8cb933ffe",
   "metadata": {},
   "outputs": [],
   "source": [
    "fig_hist, axes_hist = plt.subplots(1,1, figsize=(10,5))\n",
    "\n",
    "bp = axes_hist.boxplot(errors_list, tick_labels=labels_with_quantiles, sym=\"\", whis=(5,95))\n",
    "plt.ylabel(f\"Model errors (°C) (num. idxs = {idx+1})\")# (idx={idx}) \")\n",
    "plt.suptitle(f\"Spread of Pixelwise Errors for Various Models, all {str(HOUR).zfill(2)}z indices, JFM 2021/22/23\", fontsize=14)\n",
    "plt.tight_layout()\n",
    "plt.show()"
   ]
  },
  {
   "cell_type": "code",
   "execution_count": null,
   "id": "7ec11ff8-2d80-4573-80ff-79005bf23df2",
   "metadata": {},
   "outputs": [],
   "source": [
    "fig_sp_errs, ax_sp_errs = plt.subplots(2,4, figsize=(20,10))\n",
    "\n",
    "mintemp = np.min(spatial_errors_list)\n",
    "maxtemp = np.max(spatial_errors_list)\n",
    "halfinterval = (maxtemp-mintemp)/7\n",
    "\n",
    "n = 0\n",
    "for i in [0,1]:\n",
    "    for j in [0,1,2,3]:\n",
    "        im = ax_sp_errs[i][j].imshow(spatial_errors_list[n], cmap=\"coolwarm\", vmin=-1*halfinterval, vmax=halfinterval)\n",
    "        divider = make_axes_locatable(ax_sp_errs[i][j])\n",
    "        cax = divider.append_axes(\"right\", size=\"5%\", pad=0.05)\n",
    "        plt.colorbar(im, cax=cax)\n",
    "        ax_sp_errs[i][j].axis(\"off\")\n",
    "        ax_sp_errs[i][j].set_title(labels_list[n])\n",
    "\n",
    "        n+=1\n",
    "\n",
    "plt.suptitle(f\"Errors in Models, average over {idx+1} times, {str(HOUR).zfill(2)}UTC, JFM 2021/22/23\", fontsize=18)\n",
    "plt.tight_layout()\n",
    "plt.show()"
   ]
  },
  {
   "cell_type": "code",
   "execution_count": null,
   "id": "381d03fb-89be-48c0-93b2-535dc0a16189",
   "metadata": {},
   "outputs": [],
   "source": []
  }
 ],
 "metadata": {
  "kernelspec": {
   "display_name": "Python 3 (ipykernel)",
   "language": "python",
   "name": "python3"
  },
  "language_info": {
   "codemirror_mode": {
    "name": "ipython",
    "version": 3
   },
   "file_extension": ".py",
   "mimetype": "text/x-python",
   "name": "python",
   "nbconvert_exporter": "python",
   "pygments_lexer": "ipython3",
   "version": "3.10.12"
  }
 },
 "nbformat": 4,
 "nbformat_minor": 5
}
