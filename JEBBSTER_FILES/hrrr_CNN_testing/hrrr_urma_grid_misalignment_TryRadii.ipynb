{
 "cells": [
  {
   "cell_type": "code",
   "execution_count": null,
   "id": "40d80a21-cdd3-4a48-858e-58264e91f9c7",
   "metadata": {
    "editable": true,
    "slideshow": {
     "slide_type": ""
    },
    "tags": []
   },
   "outputs": [],
   "source": [
    "import torch\n",
    "from torch import nn\n",
    "from torch.utils.data import Dataset, DataLoader\n",
    "from torchvision import datasets\n",
    "from torchvision import transforms\n",
    "from torchvision.transforms import ToTensor\n",
    "from torchinfo import summary\n",
    "\n",
    "import os\n",
    "import glob\n",
    "import time\n",
    "import datetime as dt\n",
    "from netCDF4 import Dataset as nc_Dataset\n",
    "from netCDF4 import date2num, num2date\n",
    "import pandas as pd\n",
    "import numpy as np\n",
    "import xarray as xr\n",
    "from tqdm import tqdm\n",
    "import matplotlib.pyplot as plt\n",
    "from matplotlib.markers import MarkerStyle\n",
    "import cartopy.crs as ccrs\n",
    "import cartopy.feature as cfeature\n",
    "\n",
    "from HRRR_URMA_Datasets import *\n",
    "from SR_UNet_simple import *"
   ]
  },
  {
   "cell_type": "code",
   "execution_count": null,
   "id": "366f998c-a41c-44b0-87dd-ae19d1fc891d",
   "metadata": {
    "scrolled": true
   },
   "outputs": [],
   "source": [
    "urma_sp_rest = xr.open_dataset(\"/data1/projects/RTMA/alex.schein/URMA_train_test/LOOSE_FILES/train/t2m/urma_20210101_t00z.nc\", decode_timedelta=True)\n",
    "urma_orig = xr.open_dataset(\"/scratch/RTMA/alex.schein/urma_aidatadepot_test.grb2_wexp\", engine=\"cfgrib\", decode_timedelta=True)\n",
    "urma_resetradius = xr.open_dataset(\"/scratch/RTMA/alex.schein/urma_resetradius.grib2\", engine=\"cfgrib\", decode_timedelta=True)\n",
    "\n",
    "hrrr_orig = xr.open_dataset(f\"/scratch/RTMA/alex.schein/test_hrrr_newspacing_6370000.grib2\", engine='cfgrib', decode_timedelta=True)\n",
    "hrrr_6371950 = xr.open_dataset(f\"/scratch/RTMA/alex.schein/test_u10m.grib2\", engine='cfgrib', decode_timedelta=True)"
   ]
  },
  {
   "cell_type": "code",
   "execution_count": null,
   "id": "5e2dbfe8-d6c5-44b6-9829-f0d001edbd21",
   "metadata": {},
   "outputs": [],
   "source": [
    "IDX_MIN_LON = 595+1 #NOTE: different from URMA grid! \n",
    "IDX_MIN_LAT = 645\n",
    "\n",
    "IMG_SIZE_LON = 180\n",
    "IMG_SIZE_LAT = 180"
   ]
  },
  {
   "cell_type": "code",
   "execution_count": null,
   "id": "8be3a5cd-06fc-4fa1-bbe2-20acb8d166fa",
   "metadata": {},
   "outputs": [],
   "source": [
    "# (7/4) Note that the new HRRR indexing matches URMA indexing because it's now on the wexp grid, i.e. +200 lon indices\n",
    "hrrr_sp_rest = hrrr_orig.isel(y=slice(IDX_MIN_LAT, IDX_MIN_LAT+IMG_SIZE_LAT),\n",
    "                        #x=slice(IDX_MIN_LON, IDX_MIN_LON+IMG_SIZE_LON))\n",
    "                              x=slice(796, 796+IMG_SIZE_LON))\n",
    "\n",
    "hrrr_6371950_sp_rest = hrrr_6371950.isel(y=slice(IDX_MIN_LAT, IDX_MIN_LAT+IMG_SIZE_LAT),\n",
    "                        x=slice(IDX_MIN_LON, IDX_MIN_LON+IMG_SIZE_LON))\n",
    "\n",
    "urma_orig_sp_rest = urma_orig.isel(y=slice(IDX_MIN_LAT, IDX_MIN_LAT+IMG_SIZE_LAT),\n",
    "                                   x=slice(796, 796+IMG_SIZE_LON))\n",
    "\n",
    "urma_resetradius_sp_rest = urma_resetradius.isel(y=slice(IDX_MIN_LAT, IDX_MIN_LAT+IMG_SIZE_LAT),\n",
    "                                                 x=slice(796, 796+IMG_SIZE_LON))\n",
    "\n",
    "\n",
    "projection = ccrs.LambertConformal(central_longitude = 265-360,\n",
    "                                    central_latitude = 38.5,\n",
    "                                    standard_parallels = (38.5,38.5),\n",
    "                                    cutoff = 0)\n",
    "\n",
    "fig = plt.figure(figsize=(9,9))\n",
    "ax1 = fig.add_subplot(1,1,1, projection=projection)\n",
    "\n",
    "ax1.set_extent([252-360, 252.2-360, 39, 39.2])\n",
    "ax1.add_feature(cfeature.COASTLINE.with_scale('50m'), linewidth=1)\n",
    "ax1.add_feature(cfeature.STATES.with_scale('50m'))\n",
    "mks = MarkerStyle('o', fillstyle=\"none\")\n",
    "\n",
    "# ax1.scatter(urma_orig_sp_rest.longitude.data, urma_orig_sp_rest.latitude.data, transform=ccrs.PlateCarree(), s=50, c='r', marker=mks, label='URMA original')\n",
    "ax1.scatter(urma_resetradius_sp_rest.longitude.data, urma_resetradius_sp_rest.latitude.data, transform=ccrs.PlateCarree(), s=50, c='g', marker=mks, label='URMA reset radius')\n",
    "ax1.scatter(hrrr_sp_rest.longitude.data, hrrr_sp_rest.latitude.data, transform=ccrs.PlateCarree(), s=50, c='k', marker =mks, label='HRRR 6370000 new spacing')\n",
    "# ax1.scatter(hrrr_6371950_sp_rest.longitude.data, hrrr_6371950_sp_rest.latitude.data, transform=ccrs.PlateCarree(), s=50, c='b', marker =mks, label='HRRR R=6371950')\n",
    "\n",
    "\n",
    "plt.title(\"Grid alignment, URMA vs Regridded HRRR\")\n",
    "plt.legend(loc='lower left')\n",
    "# plt.savefig(\"grid_alignment.png\", dpi=200, bbox_inches='tight')\n"
   ]
  },
  {
   "cell_type": "code",
   "execution_count": null,
   "id": "7d07ee16-fad9-4b5e-9cd2-ffea38a45b2a",
   "metadata": {},
   "outputs": [],
   "source": [
    "difference_longitude = np.abs((hrrr_sp_rest.longitude - urma_resetradius_sp_rest.longitude).data)\n",
    "difference_latitude = np.abs((hrrr_sp_rest.latitude - urma_resetradius_sp_rest.latitude).data)\n",
    "difference_sqrt = np.sqrt(np.square(difference_latitude)+np.square(difference_longitude))\n",
    "np.max(difference_sqrt)"
   ]
  },
  {
   "cell_type": "code",
   "execution_count": null,
   "id": "2d117e8a-6965-46d1-a9bc-cddba6563dcb",
   "metadata": {},
   "outputs": [],
   "source": [
    "difference_longitude = np.abs((hrrr_6371950_sp_rest.longitude - urma_sp_rest.longitude).data)\n",
    "difference_latitude = np.abs((hrrr_6371950_sp_rest.latitude - urma_sp_rest.latitude).data)\n",
    "difference_sqrt = np.sqrt(np.square(difference_latitude)+np.square(difference_longitude))\n",
    "np.max(difference_sqrt)"
   ]
  },
  {
   "cell_type": "code",
   "execution_count": null,
   "id": "5ac13217-b43d-4721-933a-eb9da05a61a8",
   "metadata": {},
   "outputs": [],
   "source": [
    "urma_resetradius_sp_rest.longitude.data"
   ]
  },
  {
   "cell_type": "code",
   "execution_count": null,
   "id": "decf3ed1-f0f1-4828-b506-8f9126a74e5e",
   "metadata": {},
   "outputs": [],
   "source": [
    "hrrr_sp_rest.longitude.data"
   ]
  },
  {
   "cell_type": "code",
   "execution_count": null,
   "id": "0da8bf49-4e93-4b27-a364-e5881704ba20",
   "metadata": {},
   "outputs": [],
   "source": []
  }
 ],
 "metadata": {
  "kernelspec": {
   "display_name": "Python 3 (ipykernel)",
   "language": "python",
   "name": "python3"
  },
  "language_info": {
   "codemirror_mode": {
    "name": "ipython",
    "version": 3
   },
   "file_extension": ".py",
   "mimetype": "text/x-python",
   "name": "python",
   "nbconvert_exporter": "python",
   "pygments_lexer": "ipython3",
   "version": "3.10.12"
  }
 },
 "nbformat": 4,
 "nbformat_minor": 5
}
