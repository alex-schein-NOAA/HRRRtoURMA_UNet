{
 "cells": [
  {
   "cell_type": "code",
   "execution_count": 1,
   "id": "40d80a21-cdd3-4a48-858e-58264e91f9c7",
   "metadata": {
    "editable": true,
    "slideshow": {
     "slide_type": ""
    },
    "tags": []
   },
   "outputs": [],
   "source": [
    "import torch\n",
    "from torch import nn\n",
    "from torch.utils.data import Dataset, DataLoader\n",
    "from torchvision import datasets\n",
    "from torchvision import transforms\n",
    "from torchvision.transforms import ToTensor\n",
    "from torchinfo import summary\n",
    "\n",
    "import os\n",
    "import glob\n",
    "import time\n",
    "import datetime as dt\n",
    "from netCDF4 import Dataset as nc_Dataset\n",
    "from netCDF4 import date2num, num2date\n",
    "import pandas as pd\n",
    "import numpy as np\n",
    "import xarray as xr\n",
    "from tqdm import tqdm\n",
    "import matplotlib.pyplot as plt\n",
    "from matplotlib.markers import MarkerStyle\n",
    "import cartopy.crs as ccrs\n",
    "import cartopy.feature as cfeature\n",
    "\n",
    "from HRRR_URMA_Datasets import *\n",
    "from SR_UNet_simple import *"
   ]
  },
  {
   "cell_type": "code",
   "execution_count": 2,
   "id": "edbcb6b0-fcb4-4185-b198-f297282d10f7",
   "metadata": {},
   "outputs": [],
   "source": [
    "\n",
    "TIME_LIST = [i for i in range(24)] #[\"00\", \"12\"]"
   ]
  },
  {
   "cell_type": "code",
   "execution_count": 3,
   "id": "acaae756-28e9-4c71-8af0-3414e215c7ca",
   "metadata": {},
   "outputs": [],
   "source": [
    "# PATH_HRRR_ORIGINAL = \"/scratch/RTMA/alex.schein/Regridded_HRRR\"\n",
    "# PATH_TRAIN = \"/scratch/RTMA/alex.schein/Regridded_HRRR_train_test/train_spatiallyrestricted_f01\"\n",
    "# PATH_TEST = \"/scratch/RTMA/alex.schein/Regridded_HRRR_train_test/test_spatiallyrestricted_f01\""
   ]
  },
  {
   "cell_type": "code",
   "execution_count": 6,
   "id": "a8eb0fd4-48ab-4b8c-81b2-219d663eed06",
   "metadata": {},
   "outputs": [
    {
     "name": "stdout",
     "output_type": "stream",
     "text": [
      "Loading predictor dataset (Years = 2021/22/23, months = 1 to 12, hours = [0, 1, 2, 3, 4, 5, 6, 7, 8, 9, 10, 11, 12, 13, 14, 15, 16, 17, 18, 19, 20, 21, 22, 23])\n",
      "Predictor dataset data loaded. Time taken = 14.2 sec\n",
      "Loading target dataset (Same time span)\n",
      "Target dataset data loaded. Time taken = 18.3 sec\n",
      "Normalizing over all times\n",
      "Normalization done. Time taken = 70.9 sec\n",
      "Terrain normalization done\n",
      "Yearly time signatures done\n",
      "Hourly time signatures done\n"
     ]
    }
   ],
   "source": [
    "test_ds_1 = HRRR_URMA_Dataset(is_train=True,\n",
    "                              months=[1,12],  \n",
    "                              hours=TIME_LIST, \n",
    "                              forecast_lead_time=1,\n",
    "                              normalization_scheme = \"all times\",\n",
    "                              with_terrains=[\"hrrr\",\"urma\",\"diff\"], \n",
    "                              with_yearly_time_sig=True, \n",
    "                              with_hourly_time_sig=True)"
   ]
  },
  {
   "cell_type": "code",
   "execution_count": 22,
   "id": "839a1f51-d6f0-4e47-a56b-b963e65a2f6b",
   "metadata": {},
   "outputs": [
    {
     "data": {
      "text/plain": [
       "True"
      ]
     },
     "execution_count": 22,
     "metadata": {},
     "output_type": "execute_result"
    }
   ],
   "source": [
    "os.path.exists(f\"/data1/projects/RTMA/alex.schein/Regridded_HRRR_train_test/train_hrrr_alltimes_t2m_f01_6371200.nc\")"
   ]
  },
  {
   "cell_type": "code",
   "execution_count": 10,
   "id": "63e68f8f-90a4-411c-b186-e9ceac109ba3",
   "metadata": {},
   "outputs": [
    {
     "name": "stdout",
     "output_type": "stream",
     "text": [
      "Loading predictor dataset (Years = 2021/22/23, months = 5 to 7, hours = [0, 4, 5, 6, 12, 18, 23])\n",
      "Predictor dataset data loaded. Time taken = 0.1 sec\n",
      "Loading target dataset (Same time span)\n",
      "Target dataset data loaded. Time taken = 1.1 sec\n",
      "Normalizing over all times\n",
      "Normalization done. Time taken = 4.9 sec\n",
      "Terrain normalization done\n",
      "Yearly time signatures done\n",
      "Hourly time signatures done\n"
     ]
    }
   ],
   "source": [
    "# test_ds_2 = HRRR_URMA_Dataset_AllTimes_AnyDates_AnyTerrains(is_train=True,\n",
    "#                                                           months=[5,7],  \n",
    "#                                                           hours=[0,4,5,6,12,18,23],\n",
    "#                                                           forecast_lead_time=1,\n",
    "#                                                           normalization_scheme=\"all times\",\n",
    "#                                                           with_terrains=[\"hrrr\",\"urma\",\"diff\"], \n",
    "#                                                           with_yearly_time_sig=True, \n",
    "#                                                           with_hourly_time_sig=True)"
   ]
  }
 ],
 "metadata": {
  "kernelspec": {
   "display_name": "Python 3 (ipykernel)",
   "language": "python",
   "name": "python3"
  },
  "language_info": {
   "codemirror_mode": {
    "name": "ipython",
    "version": 3
   },
   "file_extension": ".py",
   "mimetype": "text/x-python",
   "name": "python",
   "nbconvert_exporter": "python",
   "pygments_lexer": "ipython3",
   "version": "3.10.12"
  }
 },
 "nbformat": 4,
 "nbformat_minor": 5
}
