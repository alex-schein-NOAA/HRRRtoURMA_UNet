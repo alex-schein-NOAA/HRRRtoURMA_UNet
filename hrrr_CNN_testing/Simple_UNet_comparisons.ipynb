{
 "cells": [
  {
   "cell_type": "code",
   "execution_count": null,
   "id": "866350fa-2d91-4026-a8df-83daf1c3b7bf",
   "metadata": {},
   "outputs": [],
   "source": [
    "import torch\n",
    "from torch import nn\n",
    "from torch.utils.data import Dataset, DataLoader\n",
    "from torchvision import datasets\n",
    "from torchvision import transforms\n",
    "from torchvision.transforms import ToTensor\n",
    "from torchinfo import summary\n",
    "\n",
    "import os\n",
    "import time\n",
    "import datetime as dt\n",
    "from netCDF4 import Dataset as nc_Dataset\n",
    "import pandas as pd\n",
    "import numpy as np\n",
    "import xarray as xr\n",
    "from tqdm import tqdm\n",
    "import matplotlib.pyplot as plt\n",
    "import cartopy.crs as ccrs\n",
    "import cartopy.feature as cfeature\n",
    "\n",
    "from HRRR_URMA_Datasets import *\n",
    "from SR_UNet_simple import *\n",
    "from utils import *\n",
    "\n",
    "torch.manual_seed(42)"
   ]
  },
  {
   "cell_type": "code",
   "execution_count": null,
   "id": "a2d60245-776b-4561-be68-37290ca0f10d",
   "metadata": {},
   "outputs": [],
   "source": [
    "# For comparison, need to be careful with datasets, \n",
    "# as the normalization differs, so models can only be compared on their OWN appropriately-normalized dataset!"
   ]
  },
  {
   "cell_type": "code",
   "execution_count": null,
   "id": "79e65409-ba68-4951-853f-56a4cfc605df",
   "metadata": {},
   "outputs": [],
   "source": [
    "BATCH_SIZE = 64 \n",
    "NUM_EPOCHS = 2000"
   ]
  },
  {
   "cell_type": "code",
   "execution_count": null,
   "id": "4b993d0f-1d67-4c90-a2ff-4e1de98dd600",
   "metadata": {},
   "outputs": [],
   "source": [
    "MONTHS_model_1 = [1,3]\n",
    "DAYS_model_1 = [1,31] #make sure last entry matches number of days in month[1]...\n",
    "\n",
    "MONTHS_model_2 = [1,3]\n",
    "DAYS_model_2 = [1,31] #make sure last entry matches number of days in month[1]...\n",
    "\n",
    "HOUR = 0  # 0 --> use only 00z data; 12 --> only 12z data"
   ]
  },
  {
   "cell_type": "code",
   "execution_count": null,
   "id": "4d2aba76-218c-4702-b159-c745b73b388d",
   "metadata": {},
   "outputs": [],
   "source": [
    "# Pay attention to details of terrain!\n",
    "# These are bools, but write as ints for ease of string formatting later\n",
    "W_HRRR_T_model_1 = 1\n",
    "W_URMA_T_model_1 = 1\n",
    "W_DIFF_T_model_1 = 1\n",
    "\n",
    "W_HRRR_T_model_2 = 1\n",
    "W_URMA_T_model_2 = 1\n",
    "W_DIFF_T_model_2 = 1"
   ]
  },
  {
   "cell_type": "code",
   "execution_count": null,
   "id": "09862c3b-3f29-4f7a-850b-873214f3f1f4",
   "metadata": {},
   "outputs": [],
   "source": [
    "pred_model_1_name = f\"UNSim_BS{BATCH_SIZE}_NE{NUM_EPOCHS}_{str(HOUR).zfill(2)}z_months{MONTHS_model_1[0]}-{MONTHS_model_1[1]}_tHRRR{W_HRRR_T_model_1}_tURMA{W_URMA_T_model_1}_tDIFF{W_DIFF_T_model_1}\"\n",
    "n_ch_in_model_1 = 1+W_HRRR_T_model_1+W_URMA_T_model_1+W_DIFF_T_model_1\n",
    "\n",
    "#pred_model_2_name = f\"UNSim_BS{BATCH_SIZE}_NE{NUM_EPOCHS}_{str(HOUR).zfill(2)}z_months{MONTHS_model_2[0]}-{MONTHS_model_2[1]}_tHRRR{W_HRRR_T_model_2}_tURMA{W_URMA_T_model_2}_tDIFF{W_DIFF_T_model_2}\"\n",
    "pred_model_2_name = f\"UNSim_BS{BATCH_SIZE}_NE{NUM_EPOCHS}_{str(HOUR).zfill(2)}z_months{MONTHS_model_2[0]}-{MONTHS_model_2[1]}_tHRRR{W_HRRR_T_model_2}_tURMA{W_URMA_T_model_2}_tDIFF{W_DIFF_T_model_2}_OneTerrainNorm\"\n",
    "n_ch_in_model_2 = 1+W_HRRR_T_model_2+W_URMA_T_model_2+W_DIFF_T_model_2"
   ]
  },
  {
   "cell_type": "code",
   "execution_count": null,
   "id": "d3834f79-70f8-4d11-aac5-aa93b2b1891f",
   "metadata": {},
   "outputs": [],
   "source": [
    "# Pay attention to details of terrain!\n",
    "\n",
    "train_ds_model_1 = HRRR_URMA_Dataset_Anytime_Anydate_Anyterrain(is_train=True,\n",
    "                                                                with_hrrr_terrain=W_HRRR_T_model_1,\n",
    "                                                                with_urma_terrain=W_URMA_T_model_1,\n",
    "                                                                with_terrain_difference=W_DIFF_T_model_1,\n",
    "                                                                months=MONTHS_model_1,\n",
    "                                                                days=DAYS_model_1,\n",
    "                                                                hour=HOUR)\n",
    "\n",
    "train_ds_model_2 = HRRR_URMA_Dataset_Anytime_Anydate_Anyterrain(is_train=True,\n",
    "                                                                with_hrrr_terrain=W_HRRR_T_model_2,\n",
    "                                                                with_urma_terrain=W_URMA_T_model_2,\n",
    "                                                                with_terrain_difference=W_DIFF_T_model_2,\n",
    "                                                                months=MONTHS_model_2,\n",
    "                                                                days=DAYS_model_2,\n",
    "                                                                hour=HOUR)"
   ]
  },
  {
   "cell_type": "code",
   "execution_count": null,
   "id": "46bf3a90-abe3-47e4-8d90-bb8c6a955d4a",
   "metadata": {},
   "outputs": [],
   "source": [
    "# Load previously trained model 1\n",
    "pred_model_1 = SR_UNet_simple(n_channels_in=n_ch_in_model_1)\n",
    "pred_model_1.load_state_dict(torch.load(f\"/scratch/RTMA/alex.schein/hrrr_CNN_testing/Trained models/{pred_model_1_name}.pt\", weights_only=True))\n",
    "device = \"cuda:1\"\n",
    "\n",
    "pred_model_1.to(device)"
   ]
  },
  {
   "cell_type": "code",
   "execution_count": null,
   "id": "afe8083f-4998-4547-849c-cb7304793aa9",
   "metadata": {},
   "outputs": [],
   "source": [
    "# Load previously trained model 2\n",
    "pred_model_2 = SR_UNet_simple(n_channels_in=n_ch_in_model_2)\n",
    "pred_model_2.load_state_dict(torch.load(f\"/scratch/RTMA/alex.schein/hrrr_CNN_testing/Trained models/{pred_model_2_name}.pt\", weights_only=True))\n",
    "device = \"cuda:1\"\n",
    "\n",
    "pred_model_2.to(device)"
   ]
  },
  {
   "cell_type": "code",
   "execution_count": null,
   "id": "208f757d-5522-4b56-857a-ce52d0b7f1e4",
   "metadata": {},
   "outputs": [],
   "source": [
    "idx = 244 #some random index\n",
    "X_1,y_1 = train_ds_model_1[idx] \n",
    "X_2,y_2 = train_ds_model_2[idx]\n",
    "X_1 = X_1[np.newaxis,:]\n",
    "X_2 = X_2[np.newaxis,:]\n",
    "X_1_gpu = torch.from_numpy(X_1).cuda(device)\n",
    "X_2_gpu = torch.from_numpy(X_2).cuda(device)\n",
    "\n",
    "with torch.no_grad():\n",
    "    pred_1 = pred_model_1(X_1_gpu) #this is different from regular training loop\n",
    "    pred_2 = pred_model_2(X_2_gpu)\n",
    "    pred_1 = pred_1.cpu().numpy()\n",
    "    pred_2 = pred_2.cpu().numpy()\n",
    "\n",
    "###NOTES: \n",
    "#MUST BE COMPARING THE SAME TIME - hence the shared idx in prior code - if the train_ds's start at different times (so indices no longer align from the start), need to be very careful!\n",
    "#X_1 and X_2 should be identical other than their tensor sizes, if they have different terrains, so just feeding in X_1[0,0,:] for now\n",
    "#Same for y_1 and y_2\n",
    "plot_prediction_2models_unnormed(X_1[0,0,:],\n",
    "                                 y_1,\n",
    "                                 pred_1,\n",
    "                                 pred_2,\n",
    "                                 idx,\n",
    "                                 train_ds_model_1,\n",
    "                                 train_ds_model_2,\n",
    "                                 pred_model_1_name,\n",
    "                                 pred_model_2_name)\n",
    "\n",
    "# Make a box plot of the errors for a given idx\n",
    "y_unnormed = y_1.squeeze()*train_ds_model_1.urma_std + train_ds_model_1.urma_mean\n",
    "pred_1_unnormed = pred_1.squeeze()*train_ds_model_1.urma_std + train_ds_model_1.urma_mean\n",
    "pred_2_unnormed = pred_2.squeeze()*train_ds_model_2.urma_std + train_ds_model_2.urma_mean\n",
    "\n",
    "fig_hist, axes_hist = plt.subplots(1,1, figsize=(5,5))\n",
    "\n",
    "axes_hist.boxplot([(pred_1_unnormed-y_unnormed).flatten(),(pred_2_unnormed-y_unnormed).flatten()], tick_labels=[\"Model 1\", \"Model 2\"], sym=\"+\")\n",
    "plt.ylabel(f\"Model errors (°C) (idx={idx}) \")\n",
    "plt.suptitle(f\"Model 1 = {pred_model_1_name} \\n Model 2 = {pred_model_2_name}\", fontsize=14)\n",
    "plt.tight_layout()\n",
    "plt.show()\n",
    "\n",
    "\n",
    "plot_model1_model2_difference_unnormed(X_1, y_1, pred_1, pred_2, idx, train_ds_model_1, train_ds_model_2, pred_model_1_name, pred_model_2_name)"
   ]
  },
  {
   "cell_type": "code",
   "execution_count": null,
   "id": "31004fcd-b4f0-4897-b955-0adbdb485c54",
   "metadata": {},
   "outputs": [],
   "source": []
  },
  {
   "cell_type": "code",
   "execution_count": null,
   "id": "0336b696-ccf0-4afb-926a-91b819aad253",
   "metadata": {},
   "outputs": [],
   "source": [
    "# # Make a box plot of the errors for a given idx\n",
    "# y_unnormed = y_1.squeeze()*train_ds_model_1.urma_std + train_ds_model_1.urma_mean\n",
    "# pred_1_unnormed = pred_1.squeeze()*train_ds_model_1.urma_std + train_ds_model_1.urma_mean\n",
    "# pred_2_unnormed = pred_2.squeeze()*train_ds_model_2.urma_std + train_ds_model_2.urma_mean\n",
    "\n",
    "# fig_hist, axes_hist = plt.subplots(1,1, figsize=(5,5))\n",
    "\n",
    "# axes_hist.boxplot([(pred_1_unnormed-y_unnormed).flatten(),(pred_2_unnormed-y_unnormed).flatten()], tick_labels=[\"Model 1\", \"Model 2\"], sym=\"+\")\n",
    "# plt.ylabel(f\"Model errors (°C) (idx={idx}) \")\n",
    "# plt.suptitle(f\"Model 1 = {pred_model_1_name} \\n Model 2 = {pred_model_2_name}\", fontsize=14)\n",
    "# plt.tight_layout()\n",
    "# plt.show()"
   ]
  },
  {
   "cell_type": "code",
   "execution_count": null,
   "id": "f36cfeea-d9aa-4b3c-8537-6b3086f87e15",
   "metadata": {},
   "outputs": [],
   "source": [
    "#Assess seasonality distribution of the errors\n",
    "\n",
    "mean_errors_model_1 = []\n",
    "mean_errors_model_2 = []\n",
    "\n",
    "errors_list_model_1 = []\n",
    "spatial_errors_list_model_1 = []\n",
    "errors_list_model_2 = []\n",
    "spatial_errors_list_model_2 = []\n",
    "\n",
    "for idx, (X,y) in enumerate(train_ds_model_1):\n",
    "    X = X[np.newaxis,:] \n",
    "    X_gpu = torch.from_numpy(X).cuda(device)\n",
    "    with torch.no_grad():\n",
    "        pred_1 = pred_model_1(X_gpu) \n",
    "        pred_1 = pred_1.cpu().numpy()\n",
    "    mean_errors_model_1.append(np.mean(pred_1-y))\n",
    "    y_unnormed_model_1 = y.squeeze()*train_ds_model_1.urma_std + train_ds_model_1.urma_mean\n",
    "    pred_unnormed_model_1 = pred_1.squeeze()*train_ds_model_1.urma_std + train_ds_model_1.urma_mean\n",
    "    errors_list_model_1.append((pred_unnormed_model_1-y_unnormed_model_1).flatten())\n",
    "    spatial_errors_list_model_1.append(pred_unnormed_model_1-y_unnormed_model_1)\n",
    "    \n",
    "for idx, (X,y) in enumerate(train_ds_model_2):\n",
    "    X = X[np.newaxis,:] \n",
    "    X_gpu = torch.from_numpy(X).cuda(device)\n",
    "    with torch.no_grad():\n",
    "        pred_2 = pred_model_2(X_gpu) \n",
    "        pred_2 = pred_2.cpu().numpy()\n",
    "    mean_errors_model_2.append(np.mean(pred_2-y))\n",
    "    y_unnormed_model_2 = y.squeeze()*train_ds_model_2.urma_std + train_ds_model_2.urma_mean\n",
    "    pred_unnormed_model_2 = pred_2.squeeze()*train_ds_model_2.urma_std + train_ds_model_2.urma_mean\n",
    "    errors_list_model_2.append((pred_unnormed_model_2-y_unnormed_model_2).flatten())\n",
    "    spatial_errors_list_model_2.append(pred_unnormed_model_2-y_unnormed_model_2)\n",
    "\n",
    "\n",
    "# for idx, (X,y) in enumerate(train_ds_model_2): \n",
    "#     X = X[np.newaxis,:] \n",
    "#     X_gpu = torch.from_numpy(X).cuda(device)\n",
    "#     with torch.no_grad():\n",
    "#         pred_2 = pred_model_2(X_gpu)\n",
    "#         pred_2 = pred_2.cpu().numpy()\n",
    "#     mean_errors_model_2.append(np.mean(pred_2-y))\n",
    "\n",
    "## Plot made for trained model over 2021-2023 data\n",
    "#Need to change based on number of months, days in month range, but this is ok approximately\n",
    "numdays_per_year_model_1 = int(MONTHS_model_1[1]-MONTHS_model_1[0] +1)*30 \n",
    "numdays_per_year_model_2 = int(MONTHS_model_2[1]-MONTHS_model_2[0] +1)*30\n",
    "\n",
    "fig2, axes2 = plt.subplots(1,2, figsize=(10,5), sharey=True)\n",
    "axes2[0].plot(mean_errors_model_1)\n",
    "axes2[0].set_title(\"Errors, model 1\")\n",
    "axes2[0].set_ylabel(\"Spatial-avg error\")\n",
    "axes2[0].vlines(x=numdays_per_year_model_1, ymin = 0, ymax = 1, color = 'red', linestyle = '-', transform=axes2[0].get_xaxis_transform())\n",
    "axes2[0].vlines(x=2*numdays_per_year_model_1, ymin = 0, ymax = 1, color = 'red', linestyle = '-', transform=axes2[0].get_xaxis_transform())\n",
    "axes2[0].hlines(y=0, xmin = 0, xmax = 1, color = 'black', linestyle = '--', transform=axes2[0].get_yaxis_transform())\n",
    "\n",
    "axes2[1].plot(mean_errors_model_1)\n",
    "axes2[1].set_title(\"Errors, model 2\")\n",
    "axes2[1].vlines(x=numdays_per_year_model_2, ymin = 0, ymax = 1, color = 'red', linestyle = '-', transform=axes2[1].get_xaxis_transform())\n",
    "axes2[1].vlines(x=2*numdays_per_year_model_2, ymin = 0, ymax = 1, color = 'red', linestyle = '-', transform=axes2[1].get_xaxis_transform())\n",
    "axes2[1].hlines(y=0, xmin = 0, xmax = 1, color = 'black', linestyle = '--', transform=axes2[1].get_yaxis_transform())\n",
    "\n",
    "fig2.suptitle(f\"Model 1 = {pred_model_1_name} \\n Model 2 = {pred_model_2_name}\", fontsize=14)\n",
    "fig2.supxlabel(f\"Index (one per day) (~{numdays_per_year_model_1} per year, 2021/22/23)\")\n",
    "plt.tight_layout()\n",
    "plt.show()"
   ]
  },
  {
   "cell_type": "code",
   "execution_count": null,
   "id": "f9270bba-c6c9-4059-9935-587062cb827e",
   "metadata": {},
   "outputs": [],
   "source": [
    "bp_labels = [\"Own Terrain Norm\"+f\" \\n 75%={np.quantile(np.array(errors_list_model_1).flatten(), 0.75):.4f} \\n 50%={np.quantile(np.array(errors_list_model_1).flatten(), 0.5):.4f} \\n 25%={np.quantile(np.array(errors_list_model_1).flatten(), 0.25):.4f} \\n Q3-Q1={(np.quantile(np.array(errors_list_model_1).flatten(), 0.75)-np.quantile(np.array(errors_list_model_1).flatten(), 0.25)):.4f} \\n RMSE={np.sqrt(np.mean(np.array(errors_list_model_1).flatten()**2)):.4f}\", \"URMA Terrain Norm\"+f\" \\n 75%={np.quantile(np.array(errors_list_model_2).flatten(), 0.75):.4f} \\n 50%={np.quantile(np.array(errors_list_model_2).flatten(), 0.5):.4f} \\n 25%={np.quantile(np.array(errors_list_model_2).flatten(), 0.25):.4f} \\n Q3-Q1={(np.quantile(np.array(errors_list_model_2).flatten(), 0.75)-np.quantile(np.array(errors_list_model_2).flatten(), 0.25)):.4f} \\n RMSE={np.sqrt(np.mean(np.array(errors_list_model_2).flatten()**2)):.4f}\"]\n"
   ]
  },
  {
   "cell_type": "code",
   "execution_count": null,
   "id": "3e3e0936-2f82-4e78-ad72-4e2b0f7cba37",
   "metadata": {},
   "outputs": [],
   "source": [
    "np.array(errors_list_model_1).flatten()**2"
   ]
  },
  {
   "cell_type": "code",
   "execution_count": null,
   "id": "842b8c83-81b0-4d5f-b60d-1fad1c30aa1f",
   "metadata": {},
   "outputs": [],
   "source": [
    "fig_hist, axes_hist = plt.subplots(1,1, figsize=(10,5))\n",
    "\n",
    "bp = axes_hist.boxplot([np.array(errors_list_model_1).flatten(), np.array(errors_list_model_2).flatten()], tick_labels=bp_labels, sym=\"\", whis=(5,95))\n",
    "plt.ylabel(f\"Model errors (°C) (num. idxs = {idx+1})\")# (idx={idx}) \")\n",
    "plt.suptitle(f\"Spread of Pixelwise Errors, all {str(HOUR).zfill(2)}z indices, JFM 2021/22/23, Terrain Difference = {str(bool(W_DIFF_T_model_1))}\", fontsize=14)\n",
    "plt.tight_layout()\n",
    "plt.show()"
   ]
  },
  {
   "cell_type": "code",
   "execution_count": null,
   "id": "f48632fe-ca36-4fce-b72c-31201b170890",
   "metadata": {},
   "outputs": [],
   "source": []
  }
 ],
 "metadata": {
  "kernelspec": {
   "display_name": "Python 3 (ipykernel)",
   "language": "python",
   "name": "python3"
  },
  "language_info": {
   "codemirror_mode": {
    "name": "ipython",
    "version": 3
   },
   "file_extension": ".py",
   "mimetype": "text/x-python",
   "name": "python",
   "nbconvert_exporter": "python",
   "pygments_lexer": "ipython3",
   "version": "3.10.12"
  }
 },
 "nbformat": 4,
 "nbformat_minor": 5
}
