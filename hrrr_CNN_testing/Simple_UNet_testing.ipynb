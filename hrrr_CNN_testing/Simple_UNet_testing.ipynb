{
 "cells": [
  {
   "cell_type": "code",
   "execution_count": null,
   "id": "866350fa-2d91-4026-a8df-83daf1c3b7bf",
   "metadata": {},
   "outputs": [],
   "source": [
    "import torch\n",
    "from torch import nn\n",
    "from torch.utils.data import Dataset, DataLoader\n",
    "from torchvision import datasets\n",
    "from torchvision import transforms\n",
    "from torchvision.transforms import ToTensor\n",
    "from torchinfo import summary\n",
    "\n",
    "import os\n",
    "import time\n",
    "import datetime as dt\n",
    "from netCDF4 import Dataset as nc_Dataset\n",
    "import pandas as pd\n",
    "import numpy as np\n",
    "import xarray as xr\n",
    "from tqdm import tqdm\n",
    "import matplotlib.pyplot as plt\n",
    "import cartopy.crs as ccrs\n",
    "import cartopy.feature as cfeature\n",
    "\n",
    "from HRRR_URMA_Datasets import *\n",
    "from SR_UNet_simple import SR_UNet_simple\n",
    "from utils import *\n",
    "\n",
    "torch.manual_seed(42)"
   ]
  },
  {
   "cell_type": "code",
   "execution_count": null,
   "id": "dbb98a56-7c14-4b96-bf08-b0ff42a0f15f",
   "metadata": {},
   "outputs": [],
   "source": [
    "BATCH_SIZE = 64 #256\n",
    "NUM_EPOCHS = 2000\n",
    "#\"MAE\", \"MSE\", \"CUSTOM\"\n",
    "LOSS_FCN = \"MAE\" "
   ]
  },
  {
   "cell_type": "code",
   "execution_count": null,
   "id": "d6f784f8-8256-43e8-9f93-e3459978dbb3",
   "metadata": {
    "editable": true,
    "slideshow": {
     "slide_type": ""
    },
    "tags": []
   },
   "outputs": [],
   "source": [
    "MONTHS = [1,1]\n",
    "DAYS = [1,31] #make sure last entry matches number of days in month[1]...\n",
    "HOUR = 0  # 0 --> use only 00z data; 12 --> only 12z data"
   ]
  },
  {
   "cell_type": "code",
   "execution_count": null,
   "id": "b6e0ea90-1fdd-4bcf-9606-8563e3eebe02",
   "metadata": {},
   "outputs": [],
   "source": [
    "train_ds = HRRR_URMA_Dataset_Anytime_Anydate_Anyterrain(is_train=True, \n",
    "                                                         with_hrrr_terrain=True,\n",
    "                                                         with_urma_terrain=True,\n",
    "                                                         with_terrain_difference=True,\n",
    "                                                         months=MONTHS, \n",
    "                                                         days=DAYS, \n",
    "                                                         hour=HOUR)\n",
    "train_dataloader = DataLoader(train_ds, batch_size=BATCH_SIZE, shuffle=True)"
   ]
  },
  {
   "cell_type": "code",
   "execution_count": null,
   "id": "2ec5bef7-81f3-406b-b238-ca2623b03029",
   "metadata": {},
   "outputs": [],
   "source": [
    "np.shape(train_ds[0][0])"
   ]
  },
  {
   "cell_type": "code",
   "execution_count": null,
   "id": "afe8083f-4998-4547-849c-cb7304793aa9",
   "metadata": {},
   "outputs": [],
   "source": [
    "n_ch_in = 1+train_ds.with_hrrr_terrain+train_ds.with_urma_terrain+train_ds.with_terrain_difference\n",
    "model = SR_UNet_simple(n_channels_in=n_ch_in)\n",
    "\n",
    "### Uncomment if need to load a particular model\n",
    "# savename = f\"UNetSimple_batchsize{BATCH_SIZE}_numepochs2000_{str(HOUR).zfill(2)}z_months{MONTHS[0]}-{MONTHS[1]}_{LOSS_FCN}Loss\"\n",
    "# model.load_state_dict(torch.load(f\"/scratch/RTMA/alex.schein/hrrr_CNN_testing/Trained models/{savename}.pt\", weights_only=True))\n",
    "\n",
    "device = \"cuda:0\"\n",
    "model.to(device)"
   ]
  },
  {
   "cell_type": "code",
   "execution_count": null,
   "id": "3d88a6e7-ccda-4d36-8db8-f8cdbd933b69",
   "metadata": {},
   "outputs": [],
   "source": [
    "class CustomLoss(nn.Module):\n",
    "    def __init__(self):\n",
    "        super(CustomLoss, self).__init__()\n",
    "\n",
    "    def forward(self, inputs, targets):\n",
    "        return torch.mean((inputs - targets)**4)"
   ]
  },
  {
   "cell_type": "code",
   "execution_count": null,
   "id": "b998e081-d3f2-4eb5-9dc1-7aa7f41c691b",
   "metadata": {},
   "outputs": [],
   "source": [
    "optimizer = torch.optim.AdamW(model.parameters(), lr=1e-4, betas=[0.5,0.999]) #torch.optim.Adam(model.parameters(), lr = 1e-3)\n",
    "if LOSS_FCN==\"MAE\":\n",
    "    loss_function = torch.nn.L1Loss()  \n",
    "elif LOSS_FCN==\"MSE\":\n",
    "    loss_function = torch.nn.MSELoss() \n",
    "elif LOSS_FCN==\"CUSTOM\":\n",
    "    loss_function=CustomLoss()\n",
    "else:\n",
    "    loss_function = torch.nn.L1Loss()\n",
    "    print(\"ERROR: 'LOSS_FCN' needs to be 'MAE', 'MSE', or 'CUSTOM'. Defaulting to MAE\")"
   ]
  },
  {
   "cell_type": "code",
   "execution_count": null,
   "id": "ce21698a-ae0a-4bc7-be73-b114a7d451f1",
   "metadata": {
    "editable": true,
    "slideshow": {
     "slide_type": ""
    },
    "tags": []
   },
   "outputs": [],
   "source": [
    "epoch_losses = []\n",
    "log_interval = 3\n",
    "log_epoch_interval = 20\n",
    "lowest_loss = 999\n",
    "\n",
    "model.train()\n",
    "\n",
    "for epoch in range(1,NUM_EPOCHS+1):\n",
    "    \n",
    "    running_loss = 0.0\n",
    "    epoch_loss = 0.0\n",
    "    \n",
    "    start = time.time()\n",
    "    for i, (inputs,labels) in enumerate(train_dataloader):    \n",
    "        \n",
    "        inputs = inputs.to(device)\n",
    "        labels = labels.to(device)\n",
    "\n",
    "        optimizer.zero_grad()\n",
    "\n",
    "        outputs = model(inputs)\n",
    "        loss = loss_function(outputs,labels)\n",
    "        loss.backward()\n",
    "        optimizer.step()\n",
    "\n",
    "        running_loss += loss.item()\n",
    "        epoch_loss += loss.item()\n",
    "        \n",
    "        #if i % log_interval == 2:  \n",
    "        #    end = time.time()\n",
    "        #    print(f'Epoch {epoch} | batch {i + 1}/{len(train_dataloader)} | loss: {running_loss / log_interval:.3f} | Time elapsed this epoch = {end-start:.1f} sec')\n",
    "        #    running_loss = 0.0\n",
    "\n",
    "    end2 = time.time()\n",
    "    epoch_losses.append(epoch_loss/len(train_dataloader)) \n",
    "    print(f\"End of epoch {epoch} | Average loss for epoch = {epoch_loss/len(train_dataloader):.3f} | Time for epoch = {end2-start:.1f} sec\")\n",
    "\n",
    "    if epoch_loss <= lowest_loss:\n",
    "        lowest_loss = epoch_loss\n",
    "        savename = f\"UNetSimple_batchsize{BATCH_SIZE}_numepochs{NUM_EPOCHS}_{str(HOUR).zfill(2)}z_months{MONTHS[0]}-{MONTHS[1]}_{LOSS_FCN}Loss\"\n",
    "        torch.save(model.state_dict(), f\"/scratch/RTMA/alex.schein/hrrr_CNN_testing/Trained models/{savename}_TEMP.pt\")\n",
    "    \n",
    "    if epoch % log_epoch_interval == 0:\n",
    "        \n",
    "        idx = 50 #some random index\n",
    "        X,y = train_ds[idx] \n",
    "        X = X[np.newaxis,:]\n",
    "        X_gpu = torch.from_numpy(X).cuda(device)\n",
    "        \n",
    "        with torch.no_grad():\n",
    "            pred = model(X_gpu)\n",
    "            pred = pred.cpu().numpy()\n",
    "        plot_prediction(X[0,0,:],y,pred)\n",
    "\n",
    "print('Finished Training')\n",
    "os.rename(f\"/scratch/RTMA/alex.schein/hrrr_CNN_testing/Trained models/{savename}_TEMP.pt\", \n",
    "         f\"/scratch/RTMA/alex.schein/hrrr_CNN_testing/Trained models/{savename}.pt\") #so if training is interrupted, previously saved model under the same name isn't wiped out"
   ]
  },
  {
   "cell_type": "code",
   "execution_count": null,
   "id": "e84361be-e5e3-4bb2-894b-54edf3057d5b",
   "metadata": {},
   "outputs": [],
   "source": [
    "plot_epoch_losses(epoch_losses, LOSS_FCN)"
   ]
  },
  {
   "cell_type": "code",
   "execution_count": null,
   "id": "b8922377-7c82-4737-a601-210250472e5b",
   "metadata": {},
   "outputs": [],
   "source": [
    "# Load model for testing, if needed\n",
    "model = SR_UNet_simple(n_channels_in=n_ch_in)\n",
    "model.load_state_dict(torch.load(f\"/scratch/RTMA/alex.schein/hrrr_CNN_testing/Trained models/{savename}.pt\", weights_only=True))\n",
    "device = \"cuda:0\"\n",
    "\n",
    "model.to(device)"
   ]
  },
  {
   "cell_type": "code",
   "execution_count": null,
   "id": "59050ad7-0ee7-44d7-bd76-cc7f131df767",
   "metadata": {},
   "outputs": [],
   "source": [
    "#Assess seasonality distribution of the errors\n",
    "\n",
    "mean_errors = []\n",
    "log_interval = 50\n",
    "\n",
    "for idx, (X,y) in enumerate(train_ds):\n",
    "    #X,y = train_ds[idx] \n",
    "    X = X[np.newaxis,:] \n",
    "    X_gpu = torch.from_numpy(X).cuda(device)\n",
    "    \n",
    "    with torch.no_grad():\n",
    "        pred = model(X_gpu)\n",
    "        pred = pred.cpu().numpy()\n",
    "    mean_errors.append(np.mean(pred-y))\n",
    "    if idx % log_interval == (log_interval-1):\n",
    "        print(f\"{idx}/{len(train_ds)} done\")\n",
    "\n",
    "## Plot made for trained model over 2021-2023 data\n",
    "numdays_per_year = int(MONTHS[1]-MONTHS[0] +1)*30 #Need to change based on number of months, days in month range\n",
    "\n",
    "fig, ax = plt.subplots()\n",
    "ax.plot(mean_errors)\n",
    "plt.title(\"Errors (spatial mean of pred. - true)\")\n",
    "plt.xlabel(\"Index (one per day)\")\n",
    "plt.ylabel(\"Spatial-avg error\")\n",
    "plt.vlines(x=numdays_per_year, ymin = 0, ymax = 1, color = 'red', linestyle = '-', transform=ax.get_xaxis_transform())\n",
    "plt.vlines(x=2*numdays_per_year, ymin = 0, ymax = 1, color = 'red', linestyle = '-', transform=ax.get_xaxis_transform())\n",
    "plt.hlines(y=0, xmin = 0, xmax = 1, color = 'black', linestyle = '--', transform=ax.get_yaxis_transform())"
   ]
  },
  {
   "cell_type": "code",
   "execution_count": null,
   "id": "55b4b5f7-b76c-4720-b624-d1b569f8653f",
   "metadata": {},
   "outputs": [],
   "source": [
    "## play around with some examples, UN-NORMED\n",
    "\n",
    "idx = 77 #some random index\n",
    "X,y = train_ds[idx] \n",
    "X = X[np.newaxis,:] \n",
    "X_gpu = torch.from_numpy(X).cuda(device)\n",
    "\n",
    "with torch.no_grad():\n",
    "    pred = model(X_gpu)\n",
    "    pred = pred.cpu().numpy()\n",
    "\n",
    "X_unnormed = train_ds.hrrr_std*X[0,0,:] + train_ds.hrrr_mean\n",
    "y_unnormed = train_ds.urma_std*y + train_ds.urma_mean\n",
    "pred_unnormed = train_ds.urma_std*pred + train_ds.urma_mean\n",
    "\n",
    "plot_prediction(X[0,0,:],y,pred)\n",
    "plot_prediction(X_unnormed, y_unnormed, pred_unnormed)\n",
    "plot_prediction(X_unnormed, y_unnormed, X_unnormed) #to see original's error"
   ]
  },
  {
   "cell_type": "code",
   "execution_count": null,
   "id": "f36cfeea-d9aa-4b3c-8537-6b3086f87e15",
   "metadata": {},
   "outputs": [],
   "source": []
  }
 ],
 "metadata": {
  "kernelspec": {
   "display_name": "Python 3 (ipykernel)",
   "language": "python",
   "name": "python3"
  },
  "language_info": {
   "codemirror_mode": {
    "name": "ipython",
    "version": 3
   },
   "file_extension": ".py",
   "mimetype": "text/x-python",
   "name": "python",
   "nbconvert_exporter": "python",
   "pygments_lexer": "ipython3",
   "version": "3.10.12"
  }
 },
 "nbformat": 4,
 "nbformat_minor": 5
}
