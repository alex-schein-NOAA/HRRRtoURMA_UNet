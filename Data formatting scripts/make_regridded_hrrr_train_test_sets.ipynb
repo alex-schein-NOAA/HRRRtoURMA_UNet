{
 "cells": [
  {
   "cell_type": "code",
   "execution_count": 7,
   "id": "e7613449-be21-4e76-8693-c83e0deaf3e2",
   "metadata": {},
   "outputs": [],
   "source": [
    "from pathlib import Path\n",
    "import os\n",
    "import shutil\n",
    "from datetime import date, timedelta"
   ]
  },
  {
   "cell_type": "code",
   "execution_count": 2,
   "id": "0c8334dd-5570-4d83-9869-d2734d9b2d6d",
   "metadata": {},
   "outputs": [],
   "source": [
    "PATH_HRRR_ORIGINAL = \"/scratch/RTMA/alex.schein/Regridded_HRRR\"\n",
    "PATH_TRAIN = \"/scratch/RTMA/alex.schein/Regridded_HRRR_train_test/train\"\n",
    "PATH_TEST = \"/scratch/RTMA/alex.schein/Regridded_HRRR_train_test/test\""
   ]
  },
  {
   "cell_type": "code",
   "execution_count": 3,
   "id": "d65a8b4b-e153-44fc-b2df-f9855fa9ad87",
   "metadata": {},
   "outputs": [],
   "source": [
    "START_DATE_TRAIN = date(2021,1,1) #should be jan 1, 2021\n",
    "END_DATE_TRAIN = date(2023,12,31) #should be dec 31, 2023\n",
    "NUM_DAYS_TRAIN = END_DATE_TRAIN-START_DATE_TRAIN\n",
    "\n",
    "START_DATE_TEST = date(2024,1,1) #should be jan 1, 2024\n",
    "END_DATE_TEST = date(2024,12,31) #should be dec 31, 2024\n",
    "NUM_DAYS_TEST = END_DATE_TEST-START_DATE_TEST"
   ]
  },
  {
   "cell_type": "code",
   "execution_count": 11,
   "id": "9be64a81-2d1b-4218-bcc9-6315b38e74c8",
   "metadata": {},
   "outputs": [],
   "source": [
    "# Copy all 2021-2023 files to PATH_TRAIN directory\n",
    "for i in range(NUM_DAYS_TRAIN.days + 1):\n",
    "    DATE_STR_TRAIN = date.strftime(START_DATE_TRAIN + timedelta(days=i), \"%Y%m%d\")\n",
    "    #go into directory with date as name, move all files to PATH_TRAIN\n",
    "    files = os.listdir(PATH_HRRR_ORIGINAL+\"/\"+DATE_STR_TRAIN)\n",
    "    for file in files:\n",
    "        if not os.path.isfile(PATH_TRAIN+\"/\"+file): #make sure file doesn't already exist in destination\n",
    "            shutil.copy(PATH_HRRR_ORIGINAL+\"/\"+DATE_STR_TRAIN+\"/\"+file, PATH_TRAIN+\"/\"+file)\n",
    "            print(f\"{file} has been copied\")"
   ]
  },
  {
   "cell_type": "code",
   "execution_count": 13,
   "id": "de0e1e43-d528-4ff8-8d53-2594906dbe50",
   "metadata": {},
   "outputs": [],
   "source": [
    "# Copy all 2024 files to PATH_TEST directory\n",
    "for i in range(NUM_DAYS_TEST.days + 1):\n",
    "    DATE_STR_TEST = date.strftime(START_DATE_TEST + timedelta(days=i), \"%Y%m%d\")\n",
    "    #go into directory with date as name, move all files to PATH_TEST\n",
    "    files = os.listdir(PATH_HRRR_ORIGINAL+\"/\"+DATE_STR_TEST)\n",
    "    for file in files:\n",
    "        if not os.path.isfile(PATH_TEST+\"/\"+file): #make sure file doesn't already exist in destination\n",
    "            shutil.copy(PATH_HRRR_ORIGINAL+\"/\"+DATE_STR_TEST+\"/\"+file, PATH_TEST+\"/\"+file)\n",
    "            print(f\"{file} has been copied\")"
   ]
  },
  {
   "cell_type": "code",
   "execution_count": null,
   "id": "a1ed8d1b-7ae5-4f49-ba30-6f8423db4457",
   "metadata": {},
   "outputs": [],
   "source": []
  }
 ],
 "metadata": {
  "kernelspec": {
   "display_name": "Python 3 (ipykernel)",
   "language": "python",
   "name": "python3"
  },
  "language_info": {
   "codemirror_mode": {
    "name": "ipython",
    "version": 3
   },
   "file_extension": ".py",
   "mimetype": "text/x-python",
   "name": "python",
   "nbconvert_exporter": "python",
   "pygments_lexer": "ipython3",
   "version": "3.10.12"
  }
 },
 "nbformat": 4,
 "nbformat_minor": 5
}
