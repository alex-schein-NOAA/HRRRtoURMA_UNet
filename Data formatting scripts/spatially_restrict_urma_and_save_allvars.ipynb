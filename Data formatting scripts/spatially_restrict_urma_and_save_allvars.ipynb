{
 "cells": [
  {
   "cell_type": "code",
   "execution_count": 1,
   "id": "2f817aae-d3fb-432b-bc17-555aed46d2b8",
   "metadata": {},
   "outputs": [],
   "source": [
    "from pathlib import Path\n",
    "import os\n",
    "import shutil\n",
    "from datetime import date, timedelta\n",
    "import xarray as xr\n",
    "import netCDF4 as nc\n",
    "import numpy as np\n",
    "import glob\n",
    "import dask\n",
    "import time\n"
   ]
  },
  {
   "cell_type": "code",
   "execution_count": 2,
   "id": "669256e1-aba2-4e5d-b884-236b26a8e70b",
   "metadata": {},
   "outputs": [],
   "source": [
    "#Translates from HRRR var names to URMA; files directory structure uses the HRRR format but need to use URMA to select data\n",
    "varname_translation_dict = {\"t2m\":\"t2m\",\n",
    "                            \"d2m\":\"d2m\",\n",
    "                            \"pressurf\":\"sp\",\n",
    "                            \"u10m\":\"u10\",\n",
    "                            \"v10m\":\"v10\"}\n",
    "\n",
    "urma_var_select_dict = {\"t2m\":{'filter_by_keys':{'typeOfLevel': 'heightAboveGround','level':2}}, \n",
    "                        \"d2m\":{'filter_by_keys':{'typeOfLevel': 'heightAboveGround','level':2}}, \n",
    "                        \"sp\":\"\",\n",
    "                        \"u10\":{'filter_by_keys':{'typeOfLevel': 'heightAboveGround','level':10}},\n",
    "                        \"v10\":{'filter_by_keys':{'typeOfLevel': 'heightAboveGround','level':10}}}"
   ]
  },
  {
   "cell_type": "code",
   "execution_count": 3,
   "id": "ab8a0a7e-09a4-4c9b-8598-d8f4044b9efb",
   "metadata": {},
   "outputs": [
    {
     "data": {
      "text/plain": [
       "''"
      ]
     },
     "execution_count": 3,
     "metadata": {},
     "output_type": "execute_result"
    }
   ],
   "source": [
    "urma_var_select_dict[varname_translation_dict['pressurf']]"
   ]
  },
  {
   "cell_type": "code",
   "execution_count": 4,
   "id": "5c2b4791-f4f5-4674-afa6-1011580feaaf",
   "metadata": {},
   "outputs": [],
   "source": [
    "IDX_MIN_LON = 796 \n",
    "IDX_MIN_LAT = 645 \n",
    "\n",
    "IMG_SIZE_LON = 180\n",
    "IMG_SIZE_LAT = 180\n",
    "\n",
    "TIME_LIST = [str(i).zfill(2) for i in range(24)] "
   ]
  },
  {
   "cell_type": "code",
   "execution_count": 5,
   "id": "74c10934-5d91-4835-8bd2-8941e39bf5e8",
   "metadata": {},
   "outputs": [],
   "source": [
    "PATH_URMA_ORIGINAL = \"/data1/ai-datadepot/models/urma/2p5km/grib2\""
   ]
  },
  {
   "cell_type": "code",
   "execution_count": 6,
   "id": "a60cef89-9022-46b9-b1a8-1343ef368cde",
   "metadata": {},
   "outputs": [],
   "source": [
    "START_DATE_TRAIN = date(2021,1,1) #should be jan 1, 2021\n",
    "END_DATE_TRAIN = date(2023,12,31) #should be dec 31, 2023\n",
    "NUM_DAYS_TRAIN = END_DATE_TRAIN-START_DATE_TRAIN\n",
    "\n",
    "START_DATE_TEST = date(2024,1,1) #should be jan 1, 2024\n",
    "END_DATE_TEST = date(2024,12,31) #should be dec 31, 2024\n",
    "NUM_DAYS_TEST = END_DATE_TEST-START_DATE_TEST"
   ]
  },
  {
   "cell_type": "code",
   "execution_count": 7,
   "id": "0f07904d-16a7-44f0-9097-a6f1cee6abae",
   "metadata": {},
   "outputs": [],
   "source": [
    "def restrict_files(START_DATE, END_DATE, TIME_LIST, PATH_ORIGINAL, PATH_NEW, var_string, IDX_MIN_LON=796, IDX_MIN_LAT=645, IMG_SIZE_LON=180, IMG_SIZE_LAT=180):\n",
    "    NUM_DAYS = END_DATE-START_DATE\n",
    "    for i in range(NUM_DAYS.days+1):\n",
    "        DATE_STR = date.strftime(START_DATE + timedelta(days=i), \"%Y%m%d\")\n",
    "        filenames = os.listdir(f\"{PATH_ORIGINAL}/{DATE_STR}\")\n",
    "        for time in TIME_LIST:\n",
    "            filename = [x for x in filenames if time in x and \".idx\" not in x][0] #will only be one matching filename @ appropriate time\n",
    "            new_filename = f\"urma_{DATE_STR}_t{time}z.nc\"\n",
    "            if not os.path.exists(f\"{PATH_NEW}/{new_filename}\"):\n",
    "            #throws a hissy fit as it can't write an index file on ai-datadepot, but it should still compute fine...\n",
    "                urma_orig = xr.open_dataset(f\"{PATH_ORIGINAL}/{DATE_STR}/{filename}\", \n",
    "                                            engine='cfgrib', \n",
    "                                            backend_kwargs=urma_var_select_dict[varname_translation_dict[var_string]],\n",
    "                                            decode_timedelta=True)\n",
    "                var = urma_orig[varname_translation_dict[var_string]]\n",
    "                var_subset = var.isel(y=slice(IDX_MIN_LAT, IDX_MIN_LAT+IMG_SIZE_LAT),\n",
    "                                      x=slice(IDX_MIN_LON, IDX_MIN_LON+IMG_SIZE_LON))\n",
    "                # var_subset.to_netcdf(f\"{PATH_NEW}/{new_filename}\")\n",
    "                print(f\"{new_filename} written to {PATH_NEW}\")\n",
    "            else:\n",
    "                print(f\"{new_filename} already exists in {PATH_NEW}. No action taken\")\n",
    "\n",
    "    return var_subset, new_filename"
   ]
  },
  {
   "cell_type": "code",
   "execution_count": 8,
   "id": "8d4cb957-b9fb-4a40-9a34-fbae550a8cf4",
   "metadata": {},
   "outputs": [
    {
     "name": "stdout",
     "output_type": "stream",
     "text": [
      "d2m\n"
     ]
    },
    {
     "name": "stderr",
     "output_type": "stream",
     "text": [
      "Can't create file '/data1/ai-datadepot/models/urma/2p5km/grib2/20210101/urma2p5.t00z.2dvaranl_ndfd.grb2_wexp.da267.idx'\n",
      "Traceback (most recent call last):\n",
      "  File \"/home/alex.schein/.local/lib/python3.10/site-packages/cfgrib/messages.py\", line 538, in from_indexpath_or_filestream\n",
      "    with compat_create_exclusive(indexpath) as new_index_file:\n",
      "  File \"/usr/lib/python3.10/contextlib.py\", line 135, in __enter__\n",
      "    return next(self.gen)\n",
      "  File \"/home/alex.schein/.local/lib/python3.10/site-packages/cfgrib/messages.py\", line 504, in compat_create_exclusive\n",
      "    fd = os.open(path, os.O_WRONLY | os.O_CREAT | os.O_EXCL)\n",
      "PermissionError: [Errno 13] Permission denied: '/data1/ai-datadepot/models/urma/2p5km/grib2/20210101/urma2p5.t00z.2dvaranl_ndfd.grb2_wexp.da267.idx'\n",
      "Can't read index file '/data1/ai-datadepot/models/urma/2p5km/grib2/20210101/urma2p5.t00z.2dvaranl_ndfd.grb2_wexp.da267.idx'\n",
      "Traceback (most recent call last):\n",
      "  File \"/home/alex.schein/.local/lib/python3.10/site-packages/cfgrib/messages.py\", line 548, in from_indexpath_or_filestream\n",
      "    index_mtime = os.path.getmtime(indexpath)\n",
      "  File \"/usr/lib/python3.10/genericpath.py\", line 55, in getmtime\n",
      "    return os.stat(filename).st_mtime\n",
      "FileNotFoundError: [Errno 2] No such file or directory: '/data1/ai-datadepot/models/urma/2p5km/grib2/20210101/urma2p5.t00z.2dvaranl_ndfd.grb2_wexp.da267.idx'\n",
      "Can't create file '/data1/ai-datadepot/models/urma/2p5km/grib2/20210101/urma2p5.t00z.2dvaranl_ndfd.grb2_wexp.5b7b6.idx'\n",
      "Traceback (most recent call last):\n",
      "  File \"/home/alex.schein/.local/lib/python3.10/site-packages/cfgrib/messages.py\", line 538, in from_indexpath_or_filestream\n",
      "    with compat_create_exclusive(indexpath) as new_index_file:\n",
      "  File \"/usr/lib/python3.10/contextlib.py\", line 135, in __enter__\n",
      "    return next(self.gen)\n",
      "  File \"/home/alex.schein/.local/lib/python3.10/site-packages/cfgrib/messages.py\", line 504, in compat_create_exclusive\n",
      "    fd = os.open(path, os.O_WRONLY | os.O_CREAT | os.O_EXCL)\n",
      "PermissionError: [Errno 13] Permission denied: '/data1/ai-datadepot/models/urma/2p5km/grib2/20210101/urma2p5.t00z.2dvaranl_ndfd.grb2_wexp.5b7b6.idx'\n",
      "Can't read index file '/data1/ai-datadepot/models/urma/2p5km/grib2/20210101/urma2p5.t00z.2dvaranl_ndfd.grb2_wexp.5b7b6.idx'\n",
      "Traceback (most recent call last):\n",
      "  File \"/home/alex.schein/.local/lib/python3.10/site-packages/cfgrib/messages.py\", line 548, in from_indexpath_or_filestream\n",
      "    index_mtime = os.path.getmtime(indexpath)\n",
      "  File \"/usr/lib/python3.10/genericpath.py\", line 55, in getmtime\n",
      "    return os.stat(filename).st_mtime\n",
      "FileNotFoundError: [Errno 2] No such file or directory: '/data1/ai-datadepot/models/urma/2p5km/grib2/20210101/urma2p5.t00z.2dvaranl_ndfd.grb2_wexp.5b7b6.idx'\n",
      "skipping variable: paramId==165 shortName='u10'\n",
      "Traceback (most recent call last):\n",
      "  File \"/home/alex.schein/.local/lib/python3.10/site-packages/cfgrib/dataset.py\", line 725, in build_dataset_components\n",
      "    dict_merge(variables, coord_vars)\n",
      "  File \"/home/alex.schein/.local/lib/python3.10/site-packages/cfgrib/dataset.py\", line 641, in dict_merge\n",
      "    raise DatasetBuildError(\n",
      "cfgrib.dataset.DatasetBuildError: key present and new value is different: key='heightAboveGround' value=Variable(dimensions=(), data=np.float64(2.0)) new_value=Variable(dimensions=(), data=np.float64(10.0))\n",
      "skipping variable: paramId==166 shortName='v10'\n",
      "Traceback (most recent call last):\n",
      "  File \"/home/alex.schein/.local/lib/python3.10/site-packages/cfgrib/dataset.py\", line 725, in build_dataset_components\n",
      "    dict_merge(variables, coord_vars)\n",
      "  File \"/home/alex.schein/.local/lib/python3.10/site-packages/cfgrib/dataset.py\", line 641, in dict_merge\n",
      "    raise DatasetBuildError(\n",
      "cfgrib.dataset.DatasetBuildError: key present and new value is different: key='heightAboveGround' value=Variable(dimensions=(), data=np.float64(2.0)) new_value=Variable(dimensions=(), data=np.float64(10.0))\n"
     ]
    },
    {
     "name": "stdout",
     "output_type": "stream",
     "text": [
      "urma_20210101_t00z.nc written to /data1/projects/RTMA/alex.schein/URMA_train_test/LOOSE FILES/train/d2m\n",
      "pressurf\n"
     ]
    },
    {
     "name": "stderr",
     "output_type": "stream",
     "text": [
      "skipping variable: paramId==260260 shortName='wdir10'\n",
      "Traceback (most recent call last):\n",
      "  File \"/home/alex.schein/.local/lib/python3.10/site-packages/cfgrib/dataset.py\", line 725, in build_dataset_components\n",
      "    dict_merge(variables, coord_vars)\n",
      "  File \"/home/alex.schein/.local/lib/python3.10/site-packages/cfgrib/dataset.py\", line 641, in dict_merge\n",
      "    raise DatasetBuildError(\n",
      "cfgrib.dataset.DatasetBuildError: key present and new value is different: key='heightAboveGround' value=Variable(dimensions=(), data=np.float64(2.0)) new_value=Variable(dimensions=(), data=np.float64(10.0))\n",
      "skipping variable: paramId==207 shortName='si10'\n",
      "Traceback (most recent call last):\n",
      "  File \"/home/alex.schein/.local/lib/python3.10/site-packages/cfgrib/dataset.py\", line 725, in build_dataset_components\n",
      "    dict_merge(variables, coord_vars)\n",
      "  File \"/home/alex.schein/.local/lib/python3.10/site-packages/cfgrib/dataset.py\", line 641, in dict_merge\n",
      "    raise DatasetBuildError(\n",
      "cfgrib.dataset.DatasetBuildError: key present and new value is different: key='heightAboveGround' value=Variable(dimensions=(), data=np.float64(2.0)) new_value=Variable(dimensions=(), data=np.float64(10.0))\n",
      "skipping variable: paramId==228029 shortName='i10fg'\n",
      "Traceback (most recent call last):\n",
      "  File \"/home/alex.schein/.local/lib/python3.10/site-packages/cfgrib/dataset.py\", line 725, in build_dataset_components\n",
      "    dict_merge(variables, coord_vars)\n",
      "  File \"/home/alex.schein/.local/lib/python3.10/site-packages/cfgrib/dataset.py\", line 641, in dict_merge\n",
      "    raise DatasetBuildError(\n",
      "cfgrib.dataset.DatasetBuildError: key present and new value is different: key='heightAboveGround' value=Variable(dimensions=(), data=np.float64(2.0)) new_value=Variable(dimensions=(), data=np.float64(10.0))\n",
      "skipping variable: paramId==140229 shortName='swh'\n",
      "Traceback (most recent call last):\n",
      "  File \"/home/alex.schein/.local/lib/python3.10/site-packages/cfgrib/dataset.py\", line 725, in build_dataset_components\n",
      "    dict_merge(variables, coord_vars)\n",
      "  File \"/home/alex.schein/.local/lib/python3.10/site-packages/cfgrib/dataset.py\", line 641, in dict_merge\n",
      "    raise DatasetBuildError(\n",
      "cfgrib.dataset.DatasetBuildError: key present and new value is different: key='surface' value=Variable(dimensions=(), data=np.float64(0.0)) new_value=Variable(dimensions=(), data=np.float64(1.0))\n",
      "Can't create file '/data1/ai-datadepot/models/urma/2p5km/grib2/20210101/urma2p5.t00z.2dvaranl_ndfd.grb2_wexp.da267.idx'\n",
      "Traceback (most recent call last):\n",
      "  File \"/home/alex.schein/.local/lib/python3.10/site-packages/cfgrib/messages.py\", line 538, in from_indexpath_or_filestream\n",
      "    with compat_create_exclusive(indexpath) as new_index_file:\n",
      "  File \"/usr/lib/python3.10/contextlib.py\", line 135, in __enter__\n",
      "    return next(self.gen)\n",
      "  File \"/home/alex.schein/.local/lib/python3.10/site-packages/cfgrib/messages.py\", line 504, in compat_create_exclusive\n",
      "    fd = os.open(path, os.O_WRONLY | os.O_CREAT | os.O_EXCL)\n",
      "PermissionError: [Errno 13] Permission denied: '/data1/ai-datadepot/models/urma/2p5km/grib2/20210101/urma2p5.t00z.2dvaranl_ndfd.grb2_wexp.da267.idx'\n",
      "Can't read index file '/data1/ai-datadepot/models/urma/2p5km/grib2/20210101/urma2p5.t00z.2dvaranl_ndfd.grb2_wexp.da267.idx'\n",
      "Traceback (most recent call last):\n",
      "  File \"/home/alex.schein/.local/lib/python3.10/site-packages/cfgrib/messages.py\", line 548, in from_indexpath_or_filestream\n",
      "    index_mtime = os.path.getmtime(indexpath)\n",
      "  File \"/usr/lib/python3.10/genericpath.py\", line 55, in getmtime\n",
      "    return os.stat(filename).st_mtime\n",
      "FileNotFoundError: [Errno 2] No such file or directory: '/data1/ai-datadepot/models/urma/2p5km/grib2/20210101/urma2p5.t00z.2dvaranl_ndfd.grb2_wexp.da267.idx'\n"
     ]
    },
    {
     "name": "stdout",
     "output_type": "stream",
     "text": [
      "urma_20210101_t00z.nc written to /data1/projects/RTMA/alex.schein/URMA_train_test/LOOSE FILES/train/pressurf\n",
      "u10m\n",
      "urma_20210101_t00z.nc written to /data1/projects/RTMA/alex.schein/URMA_train_test/LOOSE FILES/train/u10m\n"
     ]
    },
    {
     "name": "stderr",
     "output_type": "stream",
     "text": [
      "Can't create file '/data1/ai-datadepot/models/urma/2p5km/grib2/20210101/urma2p5.t00z.2dvaranl_ndfd.grb2_wexp.da267.idx'\n",
      "Traceback (most recent call last):\n",
      "  File \"/home/alex.schein/.local/lib/python3.10/site-packages/cfgrib/messages.py\", line 538, in from_indexpath_or_filestream\n",
      "    with compat_create_exclusive(indexpath) as new_index_file:\n",
      "  File \"/usr/lib/python3.10/contextlib.py\", line 135, in __enter__\n",
      "    return next(self.gen)\n",
      "  File \"/home/alex.schein/.local/lib/python3.10/site-packages/cfgrib/messages.py\", line 504, in compat_create_exclusive\n",
      "    fd = os.open(path, os.O_WRONLY | os.O_CREAT | os.O_EXCL)\n",
      "PermissionError: [Errno 13] Permission denied: '/data1/ai-datadepot/models/urma/2p5km/grib2/20210101/urma2p5.t00z.2dvaranl_ndfd.grb2_wexp.da267.idx'\n",
      "Can't read index file '/data1/ai-datadepot/models/urma/2p5km/grib2/20210101/urma2p5.t00z.2dvaranl_ndfd.grb2_wexp.da267.idx'\n",
      "Traceback (most recent call last):\n",
      "  File \"/home/alex.schein/.local/lib/python3.10/site-packages/cfgrib/messages.py\", line 548, in from_indexpath_or_filestream\n",
      "    index_mtime = os.path.getmtime(indexpath)\n",
      "  File \"/usr/lib/python3.10/genericpath.py\", line 55, in getmtime\n",
      "    return os.stat(filename).st_mtime\n",
      "FileNotFoundError: [Errno 2] No such file or directory: '/data1/ai-datadepot/models/urma/2p5km/grib2/20210101/urma2p5.t00z.2dvaranl_ndfd.grb2_wexp.da267.idx'\n"
     ]
    },
    {
     "name": "stdout",
     "output_type": "stream",
     "text": [
      "v10m\n",
      "urma_20210101_t00z.nc written to /data1/projects/RTMA/alex.schein/URMA_train_test/LOOSE FILES/train/v10m\n"
     ]
    }
   ],
   "source": [
    "for var_string in list(varname_translation_dict.keys())[1:]: #don't need t2m right now, but change this if we do later\n",
    "    \n",
    "    print(var_string)\n",
    "    \n",
    "    PATH_URMA_TRAIN = f\"/data1/projects/RTMA/alex.schein/URMA_train_test/LOOSE FILES/train/{var_string}\"\n",
    "\n",
    "    var_subset, new_filename = restrict_files(START_DATE=date(2021,1,1),\n",
    "                                               END_DATE=date(2021,1,1), \n",
    "                                               TIME_LIST=[\"00\"],\n",
    "                                               PATH_ORIGINAL=PATH_URMA_ORIGINAL,\n",
    "                                               PATH_NEW=PATH_URMA_TRAIN, \n",
    "                                               var_string=var_string)\n",
    "    var_subset.to_netcdf(f\"/data1/projects/RTMA/alex.schein/URMA_train_test/LOOSE_FILES/train/{var_string}/{new_filename}\")"
   ]
  },
  {
   "cell_type": "code",
   "execution_count": 9,
   "id": "d20b0eec-cb24-4fd2-8d49-ac9751197971",
   "metadata": {},
   "outputs": [],
   "source": [
    "# var_subset.to_netcdf(f\"/data1/projects/RTMA/alex.schein/URMA_train_test/LOOSE_FILES/train/v10m/urma_20210101_t00z.nc\")"
   ]
  },
  {
   "cell_type": "code",
   "execution_count": null,
   "id": "650da2d9-0675-48cf-8e60-b1d317f0e401",
   "metadata": {},
   "outputs": [],
   "source": []
  }
 ],
 "metadata": {
  "kernelspec": {
   "display_name": "Python 3 (ipykernel)",
   "language": "python",
   "name": "python3"
  },
  "language_info": {
   "codemirror_mode": {
    "name": "ipython",
    "version": 3
   },
   "file_extension": ".py",
   "mimetype": "text/x-python",
   "name": "python",
   "nbconvert_exporter": "python",
   "pygments_lexer": "ipython3",
   "version": "3.10.12"
  }
 },
 "nbformat": 4,
 "nbformat_minor": 5
}
