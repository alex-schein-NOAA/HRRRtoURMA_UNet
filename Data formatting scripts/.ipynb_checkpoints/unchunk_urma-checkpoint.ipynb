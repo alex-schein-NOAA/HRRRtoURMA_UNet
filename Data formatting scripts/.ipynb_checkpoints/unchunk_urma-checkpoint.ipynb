{
 "cells": [
  {
   "cell_type": "code",
   "execution_count": 1,
   "id": "b26d060b-c391-49ee-b2ea-21b99738a608",
   "metadata": {},
   "outputs": [],
   "source": [
    "from pathlib import Path\n",
    "import os\n",
    "import shutil\n",
    "from datetime import date, timedelta\n",
    "import xarray as xr\n",
    "import netCDF4 as nc\n",
    "import numpy as np\n",
    "import glob\n",
    "import dask"
   ]
  },
  {
   "cell_type": "code",
   "execution_count": 2,
   "id": "47c36419-5b65-4dd5-a11a-218b85133397",
   "metadata": {},
   "outputs": [],
   "source": [
    "PATH_URMA_TRAIN = \"/scratch/RTMA/alex.schein/URMA_train_test/train\"\n",
    "PATH_URMA_TEST = \"/scratch/RTMA/alex.schein/URMA_train_test/test\"\n",
    "\n",
    "PATH_HRRR_TRAIN = \"/scratch/RTMA/alex.schein/Regridded_HRRR_train_test/train_spatiallyrestricted\"\n",
    "PATH_HRRR_TEST = \"/scratch/RTMA/alex.schein/Regridded_HRRR_train_test/test_spatiallyrestricted\""
   ]
  },
  {
   "cell_type": "code",
   "execution_count": 12,
   "id": "b61546f3-8426-4e06-bfb8-4a13e42a69d5",
   "metadata": {},
   "outputs": [],
   "source": [
    "urma_test_dataarray_xr = xr.open_dataarray(f\"/scratch/RTMA/alex.schein/URMA_train_test/test_urma_alltimes.nc\", decode_timedelta=True)\n",
    "urma_train_dataarray_xr = xr.open_dataarray(f\"/scratch/RTMA/alex.schein/URMA_train_test/train_urma_alltimes.nc\", decode_timedelta=True)\n",
    "\n",
    "\n",
    "hrrr_test_dataarray_xr = xr.open_dataarray(f\"/scratch/RTMA/alex.schein/Regridded_HRRR_train_test/test_hrrr_alltimes.nc\", decode_timedelta=True)\n",
    "hrrr_train_dataarray_xr = xr.open_dataarray(f\"/scratch/RTMA/alex.schein/Regridded_HRRR_train_test/train_hrrr_alltimes.nc\", decode_timedelta=True)"
   ]
  },
  {
   "cell_type": "code",
   "execution_count": 13,
   "id": "b547ab5c-cc2d-483b-9c7b-4f8bde5328ff",
   "metadata": {},
   "outputs": [],
   "source": [
    "tmp_test = hrrr_test_dataarray_xr.copy(data = urma_test_dataarray_xr.data)\n",
    "tmp_train = hrrr_train_dataarray_xr.copy(data = urma_train_dataarray_xr.data)"
   ]
  },
  {
   "cell_type": "code",
   "execution_count": 14,
   "id": "daa4cb74-144c-4e8e-84ed-4e8d702b4a4d",
   "metadata": {},
   "outputs": [],
   "source": [
    "tmp_test.to_netcdf(f\"/scratch/RTMA/alex.schein/URMA_train_test/test_urma_alltimes_unchunked.nc\")\n",
    "tmp_train.to_netcdf(f\"/scratch/RTMA/alex.schein/URMA_train_test/train_urma_alltimes_unchunked.nc\")"
   ]
  },
  {
   "cell_type": "code",
   "execution_count": null,
   "id": "48b94760-0237-471a-af31-26fd5e1bf454",
   "metadata": {},
   "outputs": [],
   "source": []
  }
 ],
 "metadata": {
  "kernelspec": {
   "display_name": "Python 3 (ipykernel)",
   "language": "python",
   "name": "python3"
  },
  "language_info": {
   "codemirror_mode": {
    "name": "ipython",
    "version": 3
   },
   "file_extension": ".py",
   "mimetype": "text/x-python",
   "name": "python",
   "nbconvert_exporter": "python",
   "pygments_lexer": "ipython3",
   "version": "3.10.12"
  }
 },
 "nbformat": 4,
 "nbformat_minor": 5
}
