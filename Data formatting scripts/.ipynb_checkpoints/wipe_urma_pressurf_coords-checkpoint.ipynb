{
 "cells": [
  {
   "cell_type": "code",
   "execution_count": 1,
   "id": "2f817aae-d3fb-432b-bc17-555aed46d2b8",
   "metadata": {},
   "outputs": [],
   "source": [
    "from herbie import Herbie\n",
    "from pathlib import Path\n",
    "import os\n",
    "import glob\n",
    "from datetime import date, timedelta\n",
    "import time\n",
    "\n",
    "import numpy as np\n",
    "\n",
    "import xarray as xr\n",
    "#from netCDF4 import Dataset,num2date,date2num"
   ]
  },
  {
   "cell_type": "code",
   "execution_count": null,
   "id": "c56c9f64-5b05-4ca5-8870-67c7708441a5",
   "metadata": {},
   "outputs": [],
   "source": [
    "# Script to wipe mismatching coords from regridded netcdfs\n",
    "# (8/4) Written to make URMA pressurf coords align"
   ]
  },
  {
   "cell_type": "code",
   "execution_count": 2,
   "id": "918bea3f-e1a9-412d-86a1-f6f2e162c264",
   "metadata": {},
   "outputs": [],
   "source": [
    "PATH_URMA_SP_REST = f\"/data1/projects/RTMA/alex.schein/URMA_train_test/LOOSE_FILES\""
   ]
  },
  {
   "cell_type": "code",
   "execution_count": 3,
   "id": "15bfdc40-a242-4950-8932-b27a543c7f2d",
   "metadata": {},
   "outputs": [],
   "source": [
    "files = os.listdir(f\"{PATH_URMA_SP_REST}/train/pressurf\")"
   ]
  },
  {
   "cell_type": "code",
   "execution_count": 4,
   "id": "9412b6fe-85cc-4230-96e5-79abfa45495d",
   "metadata": {},
   "outputs": [],
   "source": [
    "ds_master = xr.open_dataset(f\"{PATH_URMA_SP_REST}/train/pressurf/urma_20210108_t07z.nc\", decode_timedelta=True)"
   ]
  },
  {
   "cell_type": "code",
   "execution_count": 5,
   "id": "64c3a3ac-999f-4477-9906-dc169de8f4ad",
   "metadata": {},
   "outputs": [],
   "source": [
    "for i, file in enumerate(files[:files.index(\"urma_20210108_t07z.nc\")]):\n",
    "    ds = xr.open_dataset(f\"{PATH_URMA_SP_REST}/train/pressurf/{file}\", decode_timedelta=True)\n",
    "    unshared_coords = [var for var in list(ds.coords) if var not in list(ds_master.coords)]\n",
    "    for coord in unshared_coords:\n",
    "        ds = ds.reset_coords(coord, drop=True)\n",
    "    os.remove(f\"{PATH_URMA_SP_REST}/train/pressurf/{file}\") #can't overwrite, only replace with new one\n",
    "    ds.to_netcdf(f\"{PATH_URMA_SP_REST}/train/pressurf/{file}\")"
   ]
  },
  {
   "cell_type": "code",
   "execution_count": null,
   "id": "a0443bb7-a149-476f-800e-45b493ced157",
   "metadata": {},
   "outputs": [],
   "source": []
  }
 ],
 "metadata": {
  "kernelspec": {
   "display_name": "Python 3 (ipykernel)",
   "language": "python",
   "name": "python3"
  },
  "language_info": {
   "codemirror_mode": {
    "name": "ipython",
    "version": 3
   },
   "file_extension": ".py",
   "mimetype": "text/x-python",
   "name": "python",
   "nbconvert_exporter": "python",
   "pygments_lexer": "ipython3",
   "version": "3.10.12"
  }
 },
 "nbformat": 4,
 "nbformat_minor": 5
}
