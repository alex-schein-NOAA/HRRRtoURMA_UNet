{
 "cells": [
  {
   "cell_type": "code",
   "execution_count": 10,
   "id": "703e1323-5fd3-44bc-816c-19e50e00595e",
   "metadata": {},
   "outputs": [],
   "source": [
    "from herbie import Herbie\n",
    "from pathlib import Path\n",
    "import os\n",
    "from datetime import date, timedelta\n",
    "\n",
    "import numpy as np\n",
    "import time\n",
    "import xarray as xr\n",
    "#from netCDF4 import Dataset,num2date,date2num"
   ]
  },
  {
   "cell_type": "code",
   "execution_count": 2,
   "id": "e94442e0-b2be-4964-b478-f45a8bb57697",
   "metadata": {},
   "outputs": [],
   "source": [
    "INIT_TIME_LIST = [str(i).zfill(2) for i in range(24)]  #[\"00\", \"12\"] #members will populate filename in the \"t[INIT_TIME]z.\" portion\n",
    "FORECAST_TIME_LIST = [\"01\"] #[\"00\"] #members will populate filename in the \"wrfsfc[FORECAST_TIME].\" portion\n",
    "\n",
    "START_DATE = date(2021,1,1) #should be jan 1, 2021\n",
    "END_DATE = date(2024,12,31) #should be dec 31, 2024\n",
    "NUM_DAYS = END_DATE-START_DATE"
   ]
  },
  {
   "cell_type": "code",
   "execution_count": 3,
   "id": "f5755904-ed93-44ce-8186-c89f5b76cbb7",
   "metadata": {},
   "outputs": [],
   "source": [
    "# VAR_OF_INTEREST = \n",
    "PATH_TO_DOWNLOAD_TO = f\"/data1/projects/RTMA/alex.schein/Herbie_downloads_2024\""
   ]
  },
  {
   "cell_type": "code",
   "execution_count": 4,
   "id": "4d7e74ed-fe9e-47c5-b4c4-f9f9cbc0cafd",
   "metadata": {},
   "outputs": [],
   "source": [
    "def download_one_hour_one_variable(DATE_STR, INIT_TIME, FORECAST_TIME, save_dir, var_string):\n",
    "    H =  Herbie(f\"{DATE_STR} {INIT_TIME}:00\", model=\"hrrr\", fxx=int(FORECAST_TIME), product=\"nat\", save_dir=PATH_TO_DOWNLOAD_TO, verbose=False)\n",
    "    H_HRRR.download()#var_string)\n",
    "    print(f\"Done: {DATE_STR} | INIT_TIME={INIT_TIME} | fxx={FORECAST_TIME}\")\n",
    "    return"
   ]
  },
  {
   "cell_type": "code",
   "execution_count": 5,
   "id": "9f1ff088-8a13-4124-998e-fe0c175d5450",
   "metadata": {
    "scrolled": true
   },
   "outputs": [],
   "source": [
    "# for i in range(NUM_DAYS.days + 1):\n",
    "#     DATE_STR = date.strftime(START_DATE + timedelta(days=i), \"%Y-%m-%d\")\n",
    "#     for INIT_TIME in INIT_TIME_LIST:\n",
    "#         for FORECAST_TIME in FORECAST_TIME_LIST:\n",
    "#             H_HRRR = Herbie(f\"{DATE_STR} {INIT_TIME}:00\", model=\"hrrr\", fxx=int(FORECAST_TIME), save_dir=PATH_TO_DOWNLOAD_TO, verbose=False)\n",
    "#             H_HRRR.download(r\":TMP:2 m\") #MISTAKENLY DOWNLOADED SURFACE TEMP BEFORE....\n",
    "#             print(f\"Done: {DATE_STR} | INIT_TIME={INIT_TIME} | fxx={FORECAST_TIME}\")"
   ]
  },
  {
   "cell_type": "code",
   "execution_count": 13,
   "id": "c68cc10f-6f84-4dcf-ad4a-fc4958d0ce6f",
   "metadata": {},
   "outputs": [
    {
     "name": "stdout",
     "output_type": "stream",
     "text": [
      "✅ Found ┊ model=hrrr ┊ \u001b[3mproduct=nat\u001b[0m ┊ \u001b[38;2;41;130;13m2024-Dec-31 20:00 UTC\u001b[92m F01\u001b[0m ┊ \u001b[38;2;255;153;0m\u001b[3mGRIB2 @ aws\u001b[0m ┊ \u001b[38;2;255;153;0m\u001b[3mIDX @ aws\u001b[0m\n",
      "Done downloading, time taken = 0.9 sec\n"
     ]
    }
   ],
   "source": [
    "H_HRRR = Herbie(f\"2024-12-31 20:00\", model=\"hrrr\", fxx=1, product=\"nat\", save_dir=PATH_TO_DOWNLOAD_TO, verbose=True)\n",
    "start=time.time()\n",
    "H_HRRR.download(r\":TMP:2 m\")\n",
    "print(f\"Done downloading, time taken = {time.time()-start:.1f} sec\")"
   ]
  },
  {
   "cell_type": "code",
   "execution_count": 7,
   "id": "a3c0e51b-1750-4a07-9c93-60d85df805da",
   "metadata": {},
   "outputs": [
    {
     "data": {
      "text/plain": [
       "\u001b[0;31mInit signature:\u001b[0m\n",
       "\u001b[0mHerbie\u001b[0m\u001b[0;34m(\u001b[0m\u001b[0;34m\u001b[0m\n",
       "\u001b[0;34m\u001b[0m    \u001b[0mdate\u001b[0m\u001b[0;34m:\u001b[0m \u001b[0mUnion\u001b[0m\u001b[0;34m[\u001b[0m\u001b[0mdatetime\u001b[0m\u001b[0;34m.\u001b[0m\u001b[0mdatetime\u001b[0m\u001b[0;34m,\u001b[0m \u001b[0mpandas\u001b[0m\u001b[0;34m.\u001b[0m\u001b[0m_libs\u001b[0m\u001b[0;34m.\u001b[0m\u001b[0mtslibs\u001b[0m\u001b[0;34m.\u001b[0m\u001b[0mtimestamps\u001b[0m\u001b[0;34m.\u001b[0m\u001b[0mTimestamp\u001b[0m\u001b[0;34m,\u001b[0m \u001b[0mstr\u001b[0m\u001b[0;34m,\u001b[0m \u001b[0mNoneType\u001b[0m\u001b[0;34m]\u001b[0m \u001b[0;34m=\u001b[0m \u001b[0;32mNone\u001b[0m\u001b[0;34m,\u001b[0m\u001b[0;34m\u001b[0m\n",
       "\u001b[0;34m\u001b[0m    \u001b[0;34m*\u001b[0m\u001b[0;34m,\u001b[0m\u001b[0;34m\u001b[0m\n",
       "\u001b[0;34m\u001b[0m    \u001b[0mvalid_date\u001b[0m\u001b[0;34m:\u001b[0m \u001b[0mUnion\u001b[0m\u001b[0;34m[\u001b[0m\u001b[0mdatetime\u001b[0m\u001b[0;34m.\u001b[0m\u001b[0mdatetime\u001b[0m\u001b[0;34m,\u001b[0m \u001b[0mpandas\u001b[0m\u001b[0;34m.\u001b[0m\u001b[0m_libs\u001b[0m\u001b[0;34m.\u001b[0m\u001b[0mtslibs\u001b[0m\u001b[0;34m.\u001b[0m\u001b[0mtimestamps\u001b[0m\u001b[0;34m.\u001b[0m\u001b[0mTimestamp\u001b[0m\u001b[0;34m,\u001b[0m \u001b[0mstr\u001b[0m\u001b[0;34m,\u001b[0m \u001b[0mNoneType\u001b[0m\u001b[0;34m]\u001b[0m \u001b[0;34m=\u001b[0m \u001b[0;32mNone\u001b[0m\u001b[0;34m,\u001b[0m\u001b[0;34m\u001b[0m\n",
       "\u001b[0;34m\u001b[0m    \u001b[0mmodel\u001b[0m\u001b[0;34m:\u001b[0m \u001b[0mstr\u001b[0m \u001b[0;34m=\u001b[0m \u001b[0;34m'hrrr'\u001b[0m\u001b[0;34m,\u001b[0m\u001b[0;34m\u001b[0m\n",
       "\u001b[0;34m\u001b[0m    \u001b[0mfxx\u001b[0m\u001b[0;34m:\u001b[0m \u001b[0mint\u001b[0m \u001b[0;34m=\u001b[0m \u001b[0;36m0\u001b[0m\u001b[0;34m,\u001b[0m\u001b[0;34m\u001b[0m\n",
       "\u001b[0;34m\u001b[0m    \u001b[0mproduct\u001b[0m\u001b[0;34m:\u001b[0m \u001b[0mstr\u001b[0m \u001b[0;34m=\u001b[0m \u001b[0;32mNone\u001b[0m\u001b[0;34m,\u001b[0m\u001b[0;34m\u001b[0m\n",
       "\u001b[0;34m\u001b[0m    \u001b[0mpriority\u001b[0m\u001b[0;34m:\u001b[0m \u001b[0mUnion\u001b[0m\u001b[0;34m[\u001b[0m\u001b[0mstr\u001b[0m\u001b[0;34m,\u001b[0m \u001b[0mlist\u001b[0m\u001b[0;34m[\u001b[0m\u001b[0mstr\u001b[0m\u001b[0;34m]\u001b[0m\u001b[0;34m]\u001b[0m \u001b[0;34m=\u001b[0m \u001b[0;32mNone\u001b[0m\u001b[0;34m,\u001b[0m\u001b[0;34m\u001b[0m\n",
       "\u001b[0;34m\u001b[0m    \u001b[0msave_dir\u001b[0m\u001b[0;34m:\u001b[0m \u001b[0mUnion\u001b[0m\u001b[0;34m[\u001b[0m\u001b[0mpathlib\u001b[0m\u001b[0;34m.\u001b[0m\u001b[0mPath\u001b[0m\u001b[0;34m,\u001b[0m \u001b[0mstr\u001b[0m\u001b[0;34m]\u001b[0m \u001b[0;34m=\u001b[0m \u001b[0mPosixPath\u001b[0m\u001b[0;34m(\u001b[0m\u001b[0;34m'/home/alex.schein/data'\u001b[0m\u001b[0;34m)\u001b[0m\u001b[0;34m,\u001b[0m\u001b[0;34m\u001b[0m\n",
       "\u001b[0;34m\u001b[0m    \u001b[0moverwrite\u001b[0m\u001b[0;34m:\u001b[0m \u001b[0mbool\u001b[0m \u001b[0;34m=\u001b[0m \u001b[0;32mFalse\u001b[0m\u001b[0;34m,\u001b[0m\u001b[0;34m\u001b[0m\n",
       "\u001b[0;34m\u001b[0m    \u001b[0mverbose\u001b[0m\u001b[0;34m:\u001b[0m \u001b[0mbool\u001b[0m \u001b[0;34m=\u001b[0m \u001b[0;32mTrue\u001b[0m\u001b[0;34m,\u001b[0m\u001b[0;34m\u001b[0m\n",
       "\u001b[0;34m\u001b[0m    \u001b[0;34m**\u001b[0m\u001b[0mkwargs\u001b[0m\u001b[0;34m,\u001b[0m\u001b[0;34m\u001b[0m\n",
       "\u001b[0;34m\u001b[0m\u001b[0;34m)\u001b[0m\u001b[0;34m\u001b[0m\u001b[0;34m\u001b[0m\u001b[0m\n",
       "\u001b[0;31mDocstring:\u001b[0m     \n",
       "Locate GRIB2 file at one of the archive sources.\n",
       "\n",
       "Parameters\n",
       "----------\n",
       "date : pandas-parsable datetime\n",
       "    Model *initialization* datetime. If None, then must set\n",
       "    ``valid_date``.\n",
       "valid_date : pandas-parsable datetime\n",
       "    Model *valid* datetime. Must set when ``date`` is None.\n",
       "fxx : int or pandas-parsable timedelta (e.g. \"6h\")\n",
       "    Forecast lead time *in hours*. Available lead times depend on\n",
       "    the model type and model version.\n",
       "model : {'hrrr', 'hrrrak', 'rap', 'gfs', 'ecmwf', etc.}\n",
       "    Model name as defined in the models template folder.\n",
       "    CASE INSENSITIVE; e.g., \"HRRR\" is the same as \"hrrr\".\n",
       "product : {'sfc', 'prs', 'nat', 'subh', etc.}\n",
       "    Output variable product file type. If not specified, will\n",
       "    use first product in model template file. CASE SENSITIVE.\n",
       "    For example, the HRRR model has these products:\n",
       "    - ``'sfc'`` surface fields\n",
       "    - ``'prs'`` pressure fields\n",
       "    - ``'nat'`` native fields\n",
       "    - ``'subh'`` subhourly fields\n",
       "member : None or int\n",
       "    Some ensemble models (e.g. the future RRFS) will need to\n",
       "    specify an ensemble member.\n",
       "priority : list or str\n",
       "    List of model sources to get the data in the order of\n",
       "    download priority. CASE INSENSITIVE. Some example data\n",
       "    sources and the default priority order are listed below.\n",
       "    - ``'aws'`` Amazon Web Services (Big Data Program)\n",
       "    - ``'nomads'`` NOAA's NOMADS server\n",
       "    - ``'google'`` Google Cloud Platform (Big Data Program)\n",
       "    - ``'azure'`` Microsoft Azure (Big Data Program)\n",
       "    - ``'pando'`` University of Utah Pando Archive (gateway 1)\n",
       "    - ``'pando2'`` University of Utah Pando Archive (gateway 2)\n",
       "save_dir : str or pathlib.Path\n",
       "    Location to save GRIB2 files locally. Default save directory\n",
       "    is set in ``~/.config/herbie/config.cfg``.\n",
       "overwrite : bool\n",
       "    If True, look for GRIB2 files on remote servers even if a local\n",
       "    copy exists. If False (default), use the GRIB local copy if it\n",
       "    exits. Note: it will still look for the idx file on the remote\n",
       "    or try to generate the idx file if wgrib2 is installed.\n",
       "**kwargs\n",
       "    Any other parameter needed to satisfy the conditions in the\n",
       "    model template file (e.g., nest=2, other_label='run2')\n",
       "\u001b[0;31mInit docstring:\u001b[0m Specify model output and find GRIB2 file at one of the sources.\n",
       "\u001b[0;31mFile:\u001b[0m           ~/.local/lib/python3.10/site-packages/herbie/core.py\n",
       "\u001b[0;31mType:\u001b[0m           type\n",
       "\u001b[0;31mSubclasses:\u001b[0m     "
      ]
     },
     "metadata": {},
     "output_type": "display_data"
    }
   ],
   "source": [
    "Herbie?"
   ]
  },
  {
   "cell_type": "code",
   "execution_count": null,
   "id": "46d45bff-037f-4121-a0fd-79c763a8ac1a",
   "metadata": {},
   "outputs": [],
   "source": []
  }
 ],
 "metadata": {
  "kernelspec": {
   "display_name": "Python 3 (ipykernel)",
   "language": "python",
   "name": "python3"
  },
  "language_info": {
   "codemirror_mode": {
    "name": "ipython",
    "version": 3
   },
   "file_extension": ".py",
   "mimetype": "text/x-python",
   "name": "python",
   "nbconvert_exporter": "python",
   "pygments_lexer": "ipython3",
   "version": "3.10.12"
  }
 },
 "nbformat": 4,
 "nbformat_minor": 5
}
