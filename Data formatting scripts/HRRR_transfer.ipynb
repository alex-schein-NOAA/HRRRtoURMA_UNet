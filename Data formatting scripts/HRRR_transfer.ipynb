{
 "cells": [
  {
   "cell_type": "code",
   "execution_count": 1,
   "id": "703e1323-5fd3-44bc-816c-19e50e00595e",
   "metadata": {},
   "outputs": [],
   "source": [
    "from herbie import Herbie\n",
    "from pathlib import Path\n",
    "import os\n",
    "from datetime import date, timedelta\n",
    "\n",
    "import numpy as np\n",
    "\n",
    "import xarray as xr\n",
    "#from netCDF4 import Dataset,num2date,date2num"
   ]
  },
  {
   "cell_type": "code",
   "execution_count": 2,
   "id": "e94442e0-b2be-4964-b478-f45a8bb57697",
   "metadata": {},
   "outputs": [],
   "source": [
    "INIT_TIME_LIST = [str(i).zfill(2) for i in range(24)]  #[\"00\", \"12\"] #members will populate filename in the \"t[INIT_TIME]z.\" portion\n",
    "FORECAST_TIME_LIST = [\"01\"] #[\"00\"] #members will populate filename in the \"wrfsfc[FORECAST_TIME].\" portion\n",
    "\n",
    "START_DATE = date(2021,1,1) #should be jan 1, 2021\n",
    "END_DATE = date(2024,12,31) #should be dec 31, 2024\n",
    "NUM_DAYS = END_DATE-START_DATE"
   ]
  },
  {
   "cell_type": "code",
   "execution_count": 3,
   "id": "f5755904-ed93-44ce-8186-c89f5b76cbb7",
   "metadata": {},
   "outputs": [],
   "source": [
    "# VAR_OF_INTEREST = \n",
    "PATH_TO_DOWNLOAD_TO = f\"/data1/projects/RTMA/alex.schein/Herbie_downloads\""
   ]
  },
  {
   "cell_type": "code",
   "execution_count": 4,
   "id": "4d7e74ed-fe9e-47c5-b4c4-f9f9cbc0cafd",
   "metadata": {},
   "outputs": [],
   "source": [
    "def download_one_hour_one_variable(DATE_STR, INIT_TIME, FORECAST_TIME, save_dir, var_string):\n",
    "    H =  Herbie(f\"{DATE_STR} {INIT_TIME}:00\", model=\"hrrr\", fxx=int(FORECAST_TIME), save_dir=PATH_TO_DOWNLOAD_TO, verbose=False)\n",
    "    H_HRRR.download(var_string)\n",
    "    print(f\"Done: {DATE_STR} | INIT_TIME={INIT_TIME} | fxx={FORECAST_TIME}\")\n",
    "    return"
   ]
  },
  {
   "cell_type": "code",
   "execution_count": 5,
   "id": "9f1ff088-8a13-4124-998e-fe0c175d5450",
   "metadata": {
    "scrolled": true
   },
   "outputs": [],
   "source": [
    "for i in range(NUM_DAYS.days + 1):\n",
    "    DATE_STR = date.strftime(START_DATE + timedelta(days=i), \"%Y-%m-%d\")\n",
    "    for INIT_TIME in INIT_TIME_LIST:\n",
    "        for FORECAST_TIME in FORECAST_TIME_LIST:\n",
    "            H_HRRR = Herbie(f\"{DATE_STR} {INIT_TIME}:00\", model=\"hrrr\", fxx=int(FORECAST_TIME), save_dir=PATH_TO_DOWNLOAD_TO, verbose=False)\n",
    "            H_HRRR.download(r\":TMP:2 m\") #MISTAKENLY DOWNLOADED SURFACE TEMP BEFORE....\n",
    "            print(f\"Done: {DATE_STR} | INIT_TIME={INIT_TIME} | fxx={FORECAST_TIME}\")"
   ]
  },
  {
   "cell_type": "code",
   "execution_count": 36,
   "id": "c68cc10f-6f84-4dcf-ad4a-fc4958d0ce6f",
   "metadata": {},
   "outputs": [
    {
     "name": "stdout",
     "output_type": "stream",
     "text": [
      "👨🏻‍🏭 Created directory: [/data1/projects/RTMA/alex.schein/Herbie_downloads/hrrr/20201231]\n"
     ]
    },
    {
     "data": {
      "text/plain": [
       "PosixPath('/data1/projects/RTMA/alex.schein/Herbie_downloads/hrrr/20201231/subset_11e4a55e__hrrr.t23z.wrfsfcf01.grib2')"
      ]
     },
     "execution_count": 36,
     "metadata": {},
     "output_type": "execute_result"
    }
   ],
   "source": [
    "H_HRRR = Herbie(f\"2020-12-31 23:00\", model=\"hrrr\", fxx=1, save_dir=PATH_TO_DOWNLOAD_TO, verbose=False)\n",
    "H_HRRR.download(r\"PRES:surface\")"
   ]
  },
  {
   "cell_type": "code",
   "execution_count": 21,
   "id": "1d8a3ca8-ec4a-4dac-a2bd-af4a231d0c6f",
   "metadata": {},
   "outputs": [
    {
     "data": {
      "text/html": [
       "<div>\n",
       "<style scoped>\n",
       "    .dataframe tbody tr th:only-of-type {\n",
       "        vertical-align: middle;\n",
       "    }\n",
       "\n",
       "    .dataframe tbody tr th {\n",
       "        vertical-align: top;\n",
       "    }\n",
       "\n",
       "    .dataframe thead th {\n",
       "        text-align: right;\n",
       "    }\n",
       "</style>\n",
       "<table border=\"1\" class=\"dataframe\">\n",
       "  <thead>\n",
       "    <tr style=\"text-align: right;\">\n",
       "      <th></th>\n",
       "      <th>grib_message</th>\n",
       "      <th>start_byte</th>\n",
       "      <th>end_byte</th>\n",
       "      <th>range</th>\n",
       "      <th>reference_time</th>\n",
       "      <th>valid_time</th>\n",
       "      <th>variable</th>\n",
       "      <th>level</th>\n",
       "      <th>forecast_time</th>\n",
       "      <th>search_this</th>\n",
       "    </tr>\n",
       "  </thead>\n",
       "  <tbody>\n",
       "    <tr>\n",
       "      <th>61</th>\n",
       "      <td>62</td>\n",
       "      <td>37054998</td>\n",
       "      <td>38570887.0</td>\n",
       "      <td>37054998-38570887</td>\n",
       "      <td>2021-12-17 13:00:00</td>\n",
       "      <td>2021-12-17 14:00:00</td>\n",
       "      <td>PRES</td>\n",
       "      <td>surface</td>\n",
       "      <td>1 hour fcst</td>\n",
       "      <td>:PRES:surface:1 hour fcst</td>\n",
       "    </tr>\n",
       "  </tbody>\n",
       "</table>\n",
       "</div>"
      ],
      "text/plain": [
       "    grib_message  start_byte    end_byte              range  \\\n",
       "61            62    37054998  38570887.0  37054998-38570887   \n",
       "\n",
       "        reference_time          valid_time variable    level forecast_time  \\\n",
       "61 2021-12-17 13:00:00 2021-12-17 14:00:00     PRES  surface   1 hour fcst   \n",
       "\n",
       "                  search_this  \n",
       "61  :PRES:surface:1 hour fcst  "
      ]
     },
     "execution_count": 21,
     "metadata": {},
     "output_type": "execute_result"
    }
   ],
   "source": [
    "H_HRRR.inventory(r\"PRES:surface\")"
   ]
  },
  {
   "cell_type": "code",
   "execution_count": null,
   "id": "0e7f5b20-25a5-4434-bdb4-b0e57cc7e830",
   "metadata": {},
   "outputs": [],
   "source": []
  },
  {
   "cell_type": "code",
   "execution_count": 26,
   "id": "bee2224d-0348-4f37-83b9-03685bd8516d",
   "metadata": {},
   "outputs": [],
   "source": [
    "var_select_dict = {\"t2m\":r\"TMP:2 m\", \n",
    "                   \"d2m\":r\"DPT:2 m\", \n",
    "                   \"pressurf\":r\"PRES:surface\",\n",
    "                   \"u10m\":r\"UGRD:10 m\",\n",
    "                   \"v10m\":r\"VGRD:10 m\"}"
   ]
  },
  {
   "cell_type": "code",
   "execution_count": 35,
   "id": "e87196eb-b770-43fd-ae81-06b3b7e93d9f",
   "metadata": {},
   "outputs": [
    {
     "data": {
      "text/plain": [
       "['d2m', 'pressurf', 'u10m', 'v10m']"
      ]
     },
     "execution_count": 35,
     "metadata": {},
     "output_type": "execute_result"
    }
   ],
   "source": [
    "list(var_select_dict.keys())[1:]"
   ]
  },
  {
   "cell_type": "code",
   "execution_count": 31,
   "id": "87e081b3-ba56-4384-b7f8-5720eb0b032d",
   "metadata": {},
   "outputs": [],
   "source": [
    "def test_glob():\n",
    "    print(var_select_dict['t2m'])\n",
    "    return"
   ]
  },
  {
   "cell_type": "code",
   "execution_count": 32,
   "id": "7f6318fc-aa0f-42f4-b400-631f93d45b3d",
   "metadata": {},
   "outputs": [
    {
     "name": "stdout",
     "output_type": "stream",
     "text": [
      "TMP:2 m\n"
     ]
    }
   ],
   "source": [
    "test_glob()"
   ]
  },
  {
   "cell_type": "code",
   "execution_count": 7,
   "id": "8fed0125-0801-4075-8519-f221d609f2ac",
   "metadata": {},
   "outputs": [],
   "source": [
    "# download_one_hour_one_variable(DATE_STR=\"2021-12-17 13:00\", INIT_TIME=\"00\", FORECAST_TIME=\"01\", save_dir="
   ]
  }
 ],
 "metadata": {
  "kernelspec": {
   "display_name": "Python 3 (ipykernel)",
   "language": "python",
   "name": "python3"
  },
  "language_info": {
   "codemirror_mode": {
    "name": "ipython",
    "version": 3
   },
   "file_extension": ".py",
   "mimetype": "text/x-python",
   "name": "python",
   "nbconvert_exporter": "python",
   "pygments_lexer": "ipython3",
   "version": "3.10.12"
  }
 },
 "nbformat": 4,
 "nbformat_minor": 5
}
