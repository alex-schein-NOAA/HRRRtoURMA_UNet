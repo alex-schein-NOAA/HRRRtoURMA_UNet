{
 "cells": [
  {
   "cell_type": "code",
   "execution_count": 1,
   "id": "2f817aae-d3fb-432b-bc17-555aed46d2b8",
   "metadata": {},
   "outputs": [],
   "source": [
    "from herbie import Herbie\n",
    "from pathlib import Path\n",
    "import os\n",
    "import glob\n",
    "from datetime import date, timedelta\n",
    "import time\n",
    "\n",
    "import numpy as np\n",
    "\n",
    "import xarray as xr\n",
    "#from netCDF4 import Dataset,num2date,date2num"
   ]
  },
  {
   "cell_type": "code",
   "execution_count": 2,
   "id": "918bea3f-e1a9-412d-86a1-f6f2e162c264",
   "metadata": {},
   "outputs": [],
   "source": [
    "PATH_URMA_SP_REST = f\"/data1/projects/RTMA/alex.schein/URMA_train_test/LOOSE_FILES\""
   ]
  },
  {
   "cell_type": "code",
   "execution_count": 3,
   "id": "6084081c-0f56-4ce6-82ed-16034f892e27",
   "metadata": {},
   "outputs": [
    {
     "name": "stdout",
     "output_type": "stream",
     "text": [
      "Done opening files 0 to 100. Time taken = 5.05 sec\n",
      "Done writing netcdf ds_mf_0. Time taken = 4.31 sec\n",
      "Done opening files 100 to 200. Time taken = 2.78 sec\n",
      "Done writing netcdf ds_mf_1. Time taken = 3.72 sec\n",
      "Done opening files 200 to 300. Time taken = 2.62 sec\n",
      "Done writing netcdf ds_mf_2. Time taken = 4.39 sec\n",
      "Done opening files 300 to 400. Time taken = 2.95 sec\n",
      "Done writing netcdf ds_mf_3. Time taken = 3.96 sec\n",
      "Done opening files 400 to 500. Time taken = 2.86 sec\n",
      "Done writing netcdf ds_mf_4. Time taken = 4.48 sec\n"
     ]
    }
   ],
   "source": [
    "for i in range(5):\n",
    "    start = time.time()\n",
    "    with xr.open_mfdataset(glob.glob(f\"{PATH_URMA_SP_REST}/train/spfh2m/*.nc\")[i*100:(i+1)*100], combine=\"nested\", coords=\"all\", concat_dim=\"valid_time\", decode_timedelta=True) as ds_mf:\n",
    "        print(f\"Done opening files {i*100} to {(i+1)*100}. Time taken = {time.time() - start:.2f} sec\")\n",
    "        start = time.time()\n",
    "        ds_mf.to_netcdf(f\"/scratch/RTMA/alex.schein/ds_mf_{i}.nc\")\n",
    "        print(f\"Done writing netcdf ds_mf_{i}. Time taken = {time.time() - start:.2f} sec\")"
   ]
  },
  {
   "cell_type": "code",
   "execution_count": 4,
   "id": "92b38cbc-ae94-4e1c-bf8a-98b6bc34fa82",
   "metadata": {},
   "outputs": [],
   "source": [
    "# start = time.time()\n",
    "# with xr.open_mfdataset(glob.glob(f\"{PATH_URMA_SP_REST}/train/spfh2m/*.nc\")[100:200], combine=\"nested\", coords=\"all\", concat_dim=\"valid_time\", decode_timedelta=True) as ds_mf:\n",
    "#     print(f\"Done opening files. Time taken = {time.time() - start:.2f} sec\")\n",
    "#     start = time.time()\n",
    "#     ds_mf.to_netcdf(f\"/scratch/RTMA/alex.schein/ds_mf_2.nc\")\n",
    "#     print(f\"Done writing netcdf. Time taken = {time.time() - start:.2f} sec\")"
   ]
  },
  {
   "cell_type": "code",
   "execution_count": 10,
   "id": "2727b43b-0af7-401a-bc8b-87be30222d64",
   "metadata": {},
   "outputs": [
    {
     "name": "stdout",
     "output_type": "stream",
     "text": [
      "Done opening files. Time taken = 0.03 sec\n",
      "Done writing combined netcdf. Time taken = 38.63 sec\n"
     ]
    }
   ],
   "source": [
    "start = time.time()\n",
    "with xr.open_mfdataset(glob.glob(f\"/scratch/RTMA/alex.schein/ds_mf_*.nc\"), chunks=None, combine=\"nested\", coords=\"all\", concat_dim=\"valid_time\", decode_timedelta=True) as ds_mf:\n",
    "    print(f\"Done opening files. Time taken = {time.time() - start:.2f} sec\")\n",
    "\n",
    "    start = time.time()\n",
    "    ds_mf.to_netcdf(f\"/scratch/RTMA/alex.schein/ds_combined.nc\")#, engine=\"h5netcdf\", encoding={'sh2': {\"datatype\": \"gzip\", \"compression_opts\": 9}})\n",
    "    print(f\"Done writing combined netcdf. Time taken = {time.time() - start:.2f} sec\")"
   ]
  },
  {
   "cell_type": "code",
   "execution_count": 6,
   "id": "6d046493-03db-4f72-b699-25323259ea54",
   "metadata": {},
   "outputs": [],
   "source": [
    "# start = time.time()\n",
    "# ds_mf = xr.open_mfdataset(glob.glob(f\"{PATH_URMA_SP_REST}/train/spfh2m/*.nc\")[0:500], combine=\"nested\", coords=\"all\", concat_dim=\"valid_time\", decode_timedelta=True)\n",
    "# print(f\"Done opening files. Time taken = {time.time() - start:.2f} sec\")"
   ]
  },
  {
   "cell_type": "code",
   "execution_count": 11,
   "id": "15bfdc40-a242-4950-8932-b27a543c7f2d",
   "metadata": {},
   "outputs": [
    {
     "data": {
      "text/html": [
       "<table>\n",
       "    <tr>\n",
       "        <td>\n",
       "            <table style=\"border-collapse: collapse;\">\n",
       "                <thead>\n",
       "                    <tr>\n",
       "                        <td> </td>\n",
       "                        <th> Array </th>\n",
       "                        <th> Chunk </th>\n",
       "                    </tr>\n",
       "                </thead>\n",
       "                <tbody>\n",
       "                    \n",
       "                    <tr>\n",
       "                        <th> Bytes </th>\n",
       "                        <td> 1.19 GiB </td>\n",
       "                        <td> 244.14 MiB </td>\n",
       "                    </tr>\n",
       "                    \n",
       "                    <tr>\n",
       "                        <th> Shape </th>\n",
       "                        <td> (500, 800, 800) </td>\n",
       "                        <td> (100, 800, 800) </td>\n",
       "                    </tr>\n",
       "                    <tr>\n",
       "                        <th> Dask graph </th>\n",
       "                        <td colspan=\"2\"> 5 chunks in 11 graph layers </td>\n",
       "                    </tr>\n",
       "                    <tr>\n",
       "                        <th> Data type </th>\n",
       "                        <td colspan=\"2\"> float32 numpy.ndarray </td>\n",
       "                    </tr>\n",
       "                </tbody>\n",
       "            </table>\n",
       "        </td>\n",
       "        <td>\n",
       "        <svg width=\"224\" height=\"214\" style=\"stroke:rgb(0,0,0);stroke-width:1\" >\n",
       "\n",
       "  <!-- Horizontal lines -->\n",
       "  <line x1=\"10\" y1=\"0\" x2=\"54\" y2=\"44\" style=\"stroke-width:2\" />\n",
       "  <line x1=\"10\" y1=\"120\" x2=\"54\" y2=\"164\" style=\"stroke-width:2\" />\n",
       "\n",
       "  <!-- Vertical lines -->\n",
       "  <line x1=\"10\" y1=\"0\" x2=\"10\" y2=\"120\" style=\"stroke-width:2\" />\n",
       "  <line x1=\"18\" y1=\"8\" x2=\"18\" y2=\"128\" />\n",
       "  <line x1=\"27\" y1=\"17\" x2=\"27\" y2=\"137\" />\n",
       "  <line x1=\"36\" y1=\"26\" x2=\"36\" y2=\"146\" />\n",
       "  <line x1=\"45\" y1=\"35\" x2=\"45\" y2=\"155\" />\n",
       "  <line x1=\"54\" y1=\"44\" x2=\"54\" y2=\"164\" style=\"stroke-width:2\" />\n",
       "\n",
       "  <!-- Colored Rectangle -->\n",
       "  <polygon points=\"10.0,0.0 54.11764705882353,44.11764705882353 54.11764705882353,164.11764705882354 10.0,120.0\" style=\"fill:#ECB172A0;stroke-width:0\"/>\n",
       "\n",
       "  <!-- Horizontal lines -->\n",
       "  <line x1=\"10\" y1=\"0\" x2=\"130\" y2=\"0\" style=\"stroke-width:2\" />\n",
       "  <line x1=\"18\" y1=\"8\" x2=\"138\" y2=\"8\" />\n",
       "  <line x1=\"27\" y1=\"17\" x2=\"147\" y2=\"17\" />\n",
       "  <line x1=\"36\" y1=\"26\" x2=\"156\" y2=\"26\" />\n",
       "  <line x1=\"45\" y1=\"35\" x2=\"165\" y2=\"35\" />\n",
       "  <line x1=\"54\" y1=\"44\" x2=\"174\" y2=\"44\" style=\"stroke-width:2\" />\n",
       "\n",
       "  <!-- Vertical lines -->\n",
       "  <line x1=\"10\" y1=\"0\" x2=\"54\" y2=\"44\" style=\"stroke-width:2\" />\n",
       "  <line x1=\"130\" y1=\"0\" x2=\"174\" y2=\"44\" style=\"stroke-width:2\" />\n",
       "\n",
       "  <!-- Colored Rectangle -->\n",
       "  <polygon points=\"10.0,0.0 130.0,0.0 174.11764705882354,44.11764705882353 54.11764705882353,44.11764705882353\" style=\"fill:#ECB172A0;stroke-width:0\"/>\n",
       "\n",
       "  <!-- Horizontal lines -->\n",
       "  <line x1=\"54\" y1=\"44\" x2=\"174\" y2=\"44\" style=\"stroke-width:2\" />\n",
       "  <line x1=\"54\" y1=\"164\" x2=\"174\" y2=\"164\" style=\"stroke-width:2\" />\n",
       "\n",
       "  <!-- Vertical lines -->\n",
       "  <line x1=\"54\" y1=\"44\" x2=\"54\" y2=\"164\" style=\"stroke-width:2\" />\n",
       "  <line x1=\"174\" y1=\"44\" x2=\"174\" y2=\"164\" style=\"stroke-width:2\" />\n",
       "\n",
       "  <!-- Colored Rectangle -->\n",
       "  <polygon points=\"54.11764705882353,44.11764705882353 174.11764705882354,44.11764705882353 174.11764705882354,164.11764705882354 54.11764705882353,164.11764705882354\" style=\"fill:#ECB172A0;stroke-width:0\"/>\n",
       "\n",
       "  <!-- Text -->\n",
       "  <text x=\"114.117647\" y=\"184.117647\" font-size=\"1.0rem\" font-weight=\"100\" text-anchor=\"middle\" >800</text>\n",
       "  <text x=\"194.117647\" y=\"104.117647\" font-size=\"1.0rem\" font-weight=\"100\" text-anchor=\"middle\" transform=\"rotate(-90,194.117647,104.117647)\">800</text>\n",
       "  <text x=\"22.058824\" y=\"162.058824\" font-size=\"1.0rem\" font-weight=\"100\" text-anchor=\"middle\" transform=\"rotate(45,22.058824,162.058824)\">500</text>\n",
       "</svg>\n",
       "        </td>\n",
       "    </tr>\n",
       "</table>"
      ],
      "text/plain": [
       "dask.array<concatenate, shape=(500, 800, 800), dtype=float32, chunksize=(100, 800, 800), chunktype=numpy.ndarray>"
      ]
     },
     "execution_count": 11,
     "metadata": {},
     "output_type": "execute_result"
    }
   ],
   "source": [
    "ds_mf['sh2'].data"
   ]
  },
  {
   "cell_type": "code",
   "execution_count": null,
   "id": "0dc7fd75-dd6e-47d5-9e68-e1c72e2811cb",
   "metadata": {},
   "outputs": [],
   "source": []
  }
 ],
 "metadata": {
  "kernelspec": {
   "display_name": "Python 3 (ipykernel)",
   "language": "python",
   "name": "python3"
  },
  "language_info": {
   "codemirror_mode": {
    "name": "ipython",
    "version": 3
   },
   "file_extension": ".py",
   "mimetype": "text/x-python",
   "name": "python",
   "nbconvert_exporter": "python",
   "pygments_lexer": "ipython3",
   "version": "3.10.12"
  }
 },
 "nbformat": 4,
 "nbformat_minor": 5
}
