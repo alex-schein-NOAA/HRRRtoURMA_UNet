{
 "cells": [
  {
   "cell_type": "code",
   "execution_count": 29,
   "id": "2f817aae-d3fb-432b-bc17-555aed46d2b8",
   "metadata": {},
   "outputs": [],
   "source": [
    "from herbie import Herbie\n",
    "from pathlib import Path\n",
    "import os\n",
    "from datetime import date, timedelta\n",
    "\n",
    "import numpy as np\n",
    "\n",
    "import xarray as xr\n",
    "#from netCDF4 import Dataset,num2date,date2num"
   ]
  },
  {
   "cell_type": "code",
   "execution_count": 24,
   "id": "952ddb39-73bd-42e7-af5f-c5fec6e6aa94",
   "metadata": {},
   "outputs": [],
   "source": [
    "PATH_ORIGINAL = f\"/data1/projects/RTMA/alex.schein/Regridded_HRRR/d2m\""
   ]
  },
  {
   "cell_type": "code",
   "execution_count": 2,
   "id": "3bbeb04f-795d-4796-984b-2dedb199e5ec",
   "metadata": {},
   "outputs": [],
   "source": [
    "def restrict_files(START_DATE, END_DATE, TIME_LIST, PATH_ORIGINAL, PATH_NEW, IDX_MIN_LON=596, IDX_MIN_LAT=645, IMG_SIZE_LON=180, IMG_SIZE_LAT=180):\n",
    "    # NOTE: default idx mins are for HRRR - need to change if using this for URMA!\n",
    "    NUM_DAYS = END_DATE-START_DATE\n",
    "    for i in range(NUM_DAYS.days+1):\n",
    "        DATE_STR = date.strftime(START_DATE + timedelta(days=i), \"%Y%m%d\")\n",
    "        filenames = os.listdir(f\"{PATH_ORIGINAL}/{DATE_STR}\")\n",
    "        for time in TIME_LIST:\n",
    "            filename = [x for x in filenames if f\"t{time}z\" in x and \".idx\" not in x][0]\n",
    "            new_filename = f\"hrrr_regridded_spatiallyrestricted_{DATE_STR}_t{time}z.nc\"\n",
    "            if not os.path.exists(f\"{PATH_NEW}/{new_filename}\"):\n",
    "                var = xr.open_dataset(f\"{PATH_ORIGINAL}/{DATE_STR}/{filename}\", engine=\"cfgrib\", decode_timedelta=True)\n",
    "                var_subset = var.isel(y=slice(IDX_MIN_LAT, IDX_MIN_LAT+IMG_SIZE_LAT),\n",
    "                                      x=slice(IDX_MIN_LON, IDX_MIN_LON+IMG_SIZE_LON))\n",
    "                var_subset.to_netcdf(f\"{PATH_NEW}/{new_filename}\")\n",
    "                print(f\"{new_filename} written to {PATH_NEW}\")\n",
    "            else:\n",
    "                print(f\"{new_filename} already exists in {PATH_NEW}. No action taken\")\n",
    "                \n",
    "    return"
   ]
  },
  {
   "cell_type": "code",
   "execution_count": 66,
   "id": "3475d316-e06d-4c17-8276-76872025936c",
   "metadata": {},
   "outputs": [],
   "source": [
    "def restrict_files_updated(START_DATE, END_DATE, FORECAST_LEAD_HOURS, PATH_ORIGINAL, PATH_NEW, IDX_MIN_LON=596, IDX_MIN_LAT=645, IMG_SIZE_LON=180, IMG_SIZE_LAT=180):\n",
    "    NUM_HOURS = int((END_DATE-START_DATE).total_seconds()/3600) #surprisingly no built in hours function...\n",
    "    for i in range(NUM_HOURS+1):\n",
    "        DATE_STR = date.strftime(START_DATE + timedelta(hours=i), \"%Y%m%d\")\n",
    "        filename_to_open = f\"hrrr_regridded_{DATE_STR}_t{str((START_DATE.hour+i)%24).zfill(2)}z_f{str(FORECAST_LEAD_HOURS).zfill(2)}.grib2\"\n",
    "        new_filename = f\"hrrr_regridded_spatiallyrestricted_{DATE_STR}_t{str((START_DATE.hour+i)%24).zfill(2)}z.nc\"\n",
    "        if not os.path.exists(f\"{PATH_NEW}/{new_filename}\"):\n",
    "            var = xr.open_dataset(f\"{PATH_ORIGINAL}/{DATE_STR}/{filename_to_open}\", engine=\"cfgrib\", decode_timedelta=True)\n",
    "            var_subset = var.isel(y=slice(IDX_MIN_LAT, IDX_MIN_LAT+IMG_SIZE_LAT),\n",
    "                                  x=slice(IDX_MIN_LON, IDX_MIN_LON+IMG_SIZE_LON))\n",
    "            var_subset.to_netcdf(f\"{PATH_NEW}/{new_filename}\")\n",
    "            print(f\"{new_filename} written to {PATH_NEW}\")\n",
    "        else:\n",
    "            print(f\"{new_filename} already exists in {PATH_NEW}. No action taken\")"
   ]
  },
  {
   "cell_type": "code",
   "execution_count": 68,
   "id": "90abd940-9bfd-4acd-91a0-2e0237da856b",
   "metadata": {},
   "outputs": [],
   "source": [
    "#probably the easiest way is to adjust start and end dates to include hours, then adjust function to match\n",
    "\n",
    "FORECAST_LEAD_HOURS = 1\n",
    "\n",
    "START_DATE = dt.datetime(2021,1,1,0)-dt.timedelta(hours=FORECAST_LEAD_HOURS) \n",
    "END_DATE = dt.datetime(2023,12,31,23)-dt.timedelta(hours=FORECAST_LEAD_HOURS) \n",
    "\n",
    "START_DATE_TEST = dt.datetime(2024,1,1,0)-dt.timedelta(hours=FORECAST_LEAD_HOURS) \n",
    "END_DATE_TEST = dt.datetime(2024,12,31,23)-dt.timedelta(hours=FORECAST_LEAD_HOURS) \n",
    "\n",
    "# START_DATE_TRAIN = dt.datetime(2020,12,31,23) #should be 00 UTC jan 1, 2021 minus forecast time (e.g. f01 --> 2020/12/31 23z)\n",
    "# END_DATE_TRAIN = dt.datetime(2023,12,31,22) #should be 23 UTC dec 31, 2023 (e.g. f01 --> 2023/12/31 22z)\n",
    "\n",
    "# START_DATE_TEST = dt.datetime(2023,12,31,23) #should be 00 UTC jan 1, 2024 minus forecast time (e.g. f01 --> 2023/12/31 23z)\n",
    "# END_DATE_TEST = dt.datetime(2024,12,31,22) #should be 23 UTC dec 31, 2024 minus forecast time (e.g. f01 --> 2024/12/31 22z)"
   ]
  },
  {
   "cell_type": "code",
   "execution_count": 69,
   "id": "a3b74d7c-b765-486e-97e7-c7b67a785036",
   "metadata": {},
   "outputs": [
    {
     "data": {
      "text/plain": [
       "0"
      ]
     },
     "execution_count": 69,
     "metadata": {},
     "output_type": "execute_result"
    }
   ],
   "source": [
    "(START_DATE.hour+25)%24"
   ]
  },
  {
   "cell_type": "code",
   "execution_count": 80,
   "id": "fb10e73d-221e-423c-ae5d-969c84872f22",
   "metadata": {},
   "outputs": [
    {
     "data": {
      "text/plain": [
       "'hrrr_regridded_spatiallyrestricted_20230414_t07z.nc'"
      ]
     },
     "execution_count": 80,
     "metadata": {},
     "output_type": "execute_result"
    }
   ],
   "source": [
    "i=20000\n",
    "DATE_STR = date.strftime(START_DATE + timedelta(hours=i), \"%Y%m%d\")\n",
    "filename_to_open = f\"hrrr_regridded_{DATE_STR}_t{str((START_DATE.hour+i)%24).zfill(2)}z_f{str(FORECAST_LEAD_HOURS).zfill(2)}.grib2\"\n",
    "new_filename = f\"hrrr_regridded_spatiallyrestricted_{DATE_STR}_t{str((START_DATE.hour+i)%24).zfill(2)}z.nc\"\n",
    "new_filename"
   ]
  },
  {
   "cell_type": "code",
   "execution_count": null,
   "id": "7c3de40a-970d-438d-aa8c-bda35fc3b05a",
   "metadata": {},
   "outputs": [],
   "source": []
  },
  {
   "cell_type": "code",
   "execution_count": 53,
   "id": "ab14d120-ac7c-4633-a702-cb1be3fadda7",
   "metadata": {},
   "outputs": [],
   "source": [
    "DATE_STR = date.strftime(START_DATE_TRAIN + timedelta(days=1), \"%Y%m%d\")\n",
    "filenames = os.listdir(f\"{PATH_ORIGINAL}/{DATE_STR}\")\n",
    "filenames = [file for file in filenames if \".idx\" not in file]\n",
    "times = [filename[25:27] for filename in filenames] #relies on naming scheme of \"hrrr_regridded_YYYYMMDD_tHHz_...\" which SHOULD always be the case"
   ]
  },
  {
   "cell_type": "code",
   "execution_count": 65,
   "id": "07a5a1a4-c49a-4b5c-b866-85cc2367a622",
   "metadata": {},
   "outputs": [
    {
     "data": {
      "text/plain": [
       "['hrrr_regridded_20210101_t00z_f01.grib2',\n",
       " 'hrrr_regridded_20210101_t01z_f01.grib2',\n",
       " 'hrrr_regridded_20210101_t02z_f01.grib2',\n",
       " 'hrrr_regridded_20210101_t03z_f01.grib2',\n",
       " 'hrrr_regridded_20210101_t04z_f01.grib2',\n",
       " 'hrrr_regridded_20210101_t05z_f01.grib2',\n",
       " 'hrrr_regridded_20210101_t06z_f01.grib2',\n",
       " 'hrrr_regridded_20210101_t07z_f01.grib2',\n",
       " 'hrrr_regridded_20210101_t08z_f01.grib2',\n",
       " 'hrrr_regridded_20210101_t09z_f01.grib2',\n",
       " 'hrrr_regridded_20210101_t10z_f01.grib2',\n",
       " 'hrrr_regridded_20210101_t11z_f01.grib2',\n",
       " 'hrrr_regridded_20210101_t12z_f01.grib2',\n",
       " 'hrrr_regridded_20210101_t13z_f01.grib2',\n",
       " 'hrrr_regridded_20210101_t14z_f01.grib2',\n",
       " 'hrrr_regridded_20210101_t15z_f01.grib2',\n",
       " 'hrrr_regridded_20210101_t16z_f01.grib2',\n",
       " 'hrrr_regridded_20210101_t17z_f01.grib2',\n",
       " 'hrrr_regridded_20210101_t18z_f01.grib2',\n",
       " 'hrrr_regridded_20210101_t19z_f01.grib2',\n",
       " 'hrrr_regridded_20210101_t20z_f01.grib2',\n",
       " 'hrrr_regridded_20210101_t21z_f01.grib2',\n",
       " 'hrrr_regridded_20210101_t22z_f01.grib2',\n",
       " 'hrrr_regridded_20210101_t23z_f01.grib2']"
      ]
     },
     "execution_count": 65,
     "metadata": {},
     "output_type": "execute_result"
    }
   ],
   "source": [
    "filenames"
   ]
  },
  {
   "cell_type": "code",
   "execution_count": null,
   "id": "1c7b917e-d747-4214-87cd-ba9bcb0eaafd",
   "metadata": {},
   "outputs": [],
   "source": []
  }
 ],
 "metadata": {
  "kernelspec": {
   "display_name": "Python 3 (ipykernel)",
   "language": "python",
   "name": "python3"
  },
  "language_info": {
   "codemirror_mode": {
    "name": "ipython",
    "version": 3
   },
   "file_extension": ".py",
   "mimetype": "text/x-python",
   "name": "python",
   "nbconvert_exporter": "python",
   "pygments_lexer": "ipython3",
   "version": "3.10.12"
  }
 },
 "nbformat": 4,
 "nbformat_minor": 5
}
