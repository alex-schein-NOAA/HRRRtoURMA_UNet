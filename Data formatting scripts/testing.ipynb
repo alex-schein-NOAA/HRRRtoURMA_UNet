{
 "cells": [
  {
   "cell_type": "code",
   "execution_count": 1,
   "id": "2f817aae-d3fb-432b-bc17-555aed46d2b8",
   "metadata": {},
   "outputs": [],
   "source": [
    "from pathlib import Path\n",
    "import os\n",
    "import shutil\n",
    "from datetime import date, timedelta\n",
    "import xarray as xr\n",
    "import netCDF4 as nc\n",
    "import numpy as np\n",
    "import glob\n",
    "import dask\n",
    "import time\n"
   ]
  },
  {
   "cell_type": "code",
   "execution_count": 2,
   "id": "650da2d9-0675-48cf-8e60-b1d317f0e401",
   "metadata": {},
   "outputs": [],
   "source": [
    "train_hrrr_f01 = xr.open_dataarray(f\"/data1/projects/RTMA/alex.schein/Regridded_HRRR_train_test/train_hrrr_alltimes_t2m_f01.nc\", decode_timedelta=True)\n",
    "# train_hrrr_f01_6371200 = xr.open_dataarray(f\"/data1/projects/RTMA/alex.schein/Regridded_HRRR_train_test/train_hrrr_alltimes_t2m_f01_6371200.nc\", decode_timedelta=True)\n",
    "\n",
    "test_hrrr_f01 = xr.open_dataarray(f\"/data1/projects/RTMA/alex.schein/Regridded_HRRR_train_test/test_hrrr_alltimes_t2m_f01.nc\", decode_timedelta=True)\n",
    "# test_hrrr_f01_6371200 = xr.open_dataarray(f\"/data1/projects/RTMA/alex.schein/Regridded_HRRR_train_test/test_hrrr_alltimes_t2m_f01_6371200.nc\", decode_timedelta=True)\n"
   ]
  },
  {
   "cell_type": "code",
   "execution_count": 3,
   "id": "fc802444-ae3f-4e75-8d19-0ea863a45632",
   "metadata": {},
   "outputs": [],
   "source": [
    "# train_hrrr_fixed = train_hrrr_f01[:-1]\n",
    "# train_hrrr_fixed.to_netcdf(f\"/data1/projects/RTMA/alex.schein/Regridded_HRRR_train_test/train_hrrr_alltimes_t2m_f01_fixedindices.nc\")"
   ]
  },
  {
   "cell_type": "code",
   "execution_count": 4,
   "id": "93899986-41c7-4bd5-84f5-9be0e01886ba",
   "metadata": {},
   "outputs": [
    {
     "data": {
      "text/plain": [
       "array(['2021-01-01T00:00:00.000000000', '2021-01-01T01:00:00.000000000',\n",
       "       '2021-01-01T02:00:00.000000000', ...,\n",
       "       '2023-12-31T21:00:00.000000000', '2023-12-31T22:00:00.000000000',\n",
       "       '2023-12-31T23:00:00.000000000'], dtype='datetime64[ns]')"
      ]
     },
     "execution_count": 4,
     "metadata": {},
     "output_type": "execute_result"
    }
   ],
   "source": [
    "train_hrrr_f01.valid_time.data"
   ]
  },
  {
   "cell_type": "code",
   "execution_count": 8,
   "id": "1da543b9-4bb6-4a4b-a925-8d981091af8b",
   "metadata": {},
   "outputs": [
    {
     "data": {
      "text/plain": [
       "array(['2024-01-01T00:00:00.000000000', '2024-01-01T01:00:00.000000000',\n",
       "       '2024-01-01T02:00:00.000000000', ...,\n",
       "       '2024-12-31T21:00:00.000000000', '2024-12-31T22:00:00.000000000',\n",
       "       '2024-12-31T23:00:00.000000000'], dtype='datetime64[ns]')"
      ]
     },
     "execution_count": 8,
     "metadata": {},
     "output_type": "execute_result"
    }
   ],
   "source": [
    "test_hrrr_f01.valid_time.data"
   ]
  },
  {
   "cell_type": "code",
   "execution_count": 6,
   "id": "6126683f-6587-4276-8e44-fb63b57a03c9",
   "metadata": {},
   "outputs": [],
   "source": [
    "# test_hrrr_f01_fixed = xr.concat([train_hrrr_f01[-2:],test_hrrr_f01], dim='sample_idx') #because just [-1] results in scalar sample_idx when array is needed\n",
    "# test_hrrr_f01_fixed = test_hrrr_f01_fixed[1:]\n",
    "# test_hrrr_f01_fixed.assign_coords(sample_idx=('sample_idx', [i for i in range(len(test_hrrr_f01_fixed.valid_time.data))]))"
   ]
  },
  {
   "cell_type": "code",
   "execution_count": 7,
   "id": "ce3bdc09-962a-4ddb-baf7-728034557a58",
   "metadata": {},
   "outputs": [],
   "source": [
    "# test_hrrr_f01_fixed.to_netcdf(f\"/data1/projects/RTMA/alex.schein/Regridded_HRRR_train_test/test_hrrr_alltimes_t2m_f01_fixedindices.nc\")"
   ]
  },
  {
   "cell_type": "code",
   "execution_count": null,
   "id": "3bbeb04f-795d-4796-984b-2dedb199e5ec",
   "metadata": {},
   "outputs": [],
   "source": []
  }
 ],
 "metadata": {
  "kernelspec": {
   "display_name": "Python 3 (ipykernel)",
   "language": "python",
   "name": "python3"
  },
  "language_info": {
   "codemirror_mode": {
    "name": "ipython",
    "version": 3
   },
   "file_extension": ".py",
   "mimetype": "text/x-python",
   "name": "python",
   "nbconvert_exporter": "python",
   "pygments_lexer": "ipython3",
   "version": "3.10.12"
  }
 },
 "nbformat": 4,
 "nbformat_minor": 5
}
