{
 "cells": [
  {
   "cell_type": "code",
   "execution_count": 1,
   "id": "b8ee2312-c817-415a-82c5-b352bcc3fd79",
   "metadata": {},
   "outputs": [],
   "source": [
    "from pathlib import Path\n",
    "import os\n",
    "import shutil\n",
    "from datetime import date, timedelta\n",
    "import xarray as xr\n",
    "import netCDF4 as nc\n",
    "import numpy as np"
   ]
  },
  {
   "cell_type": "code",
   "execution_count": 2,
   "id": "66a5011a-b00b-4dfb-bca9-94f272c729da",
   "metadata": {},
   "outputs": [],
   "source": [
    "TIME_LIST = [str(i).zfill(2) for i in range(24)] "
   ]
  },
  {
   "cell_type": "code",
   "execution_count": 3,
   "id": "031a5f22-3ca7-4757-8a6d-1ea62600fbf8",
   "metadata": {},
   "outputs": [],
   "source": [
    "PATH_HRRR_ORIGINAL = \"/ai-datadepot/models/hrrr/conus/grib2\"\n",
    "PATH_URMA_ORIGINAL = \"/data1/ai-datadepot/models/urma/2p5km/grib2\""
   ]
  },
  {
   "cell_type": "code",
   "execution_count": 4,
   "id": "b0b53d74-6830-44fd-8325-57a4442081d4",
   "metadata": {},
   "outputs": [],
   "source": [
    "START_DATE_TRAIN = date(2021,1,1) #should be jan 1, 2021\n",
    "END_DATE_TRAIN = date(2023,12,31) #should be dec 31, 2023\n",
    "NUM_DAYS_TRAIN = END_DATE_TRAIN-START_DATE_TRAIN\n",
    "\n",
    "START_DATE_TEST = date(2024,1,1) #should be jan 1, 2024\n",
    "END_DATE_TEST = date(2024,12,31) #should be dec 31, 2024\n",
    "NUM_DAYS_TEST = END_DATE_TEST-START_DATE_TEST"
   ]
  },
  {
   "cell_type": "code",
   "execution_count": null,
   "id": "6140a3d2-99ad-4d16-9be1-8550baa2ef41",
   "metadata": {},
   "outputs": [],
   "source": [
    "#### DIAGNOSE MISSING HRRR FILES\n",
    "for i in range(NUM_DAYS_TRAIN.days + 1):\n",
    "    DATE_STR_TRAIN = date.strftime(START_DATE_TRAIN + timedelta(days=i), \"%Y%m%d\")\n",
    "    filenames = os.listdir(PATH_HRRR_ORIGINAL+\"/\"+DATE_STR_TRAIN)\n",
    "    for time in TIME_LIST:\n",
    "        try:\n",
    "            filename = [x for x in filenames if f\"t{time}z\" in x and \".idx\" not in x][0] #unlike URMA, these have forecast times in the filenames, so can mess up if just using digits\n",
    "        except:\n",
    "            print(f\"HRRR | {DATE_STR_TRAIN} | {time}z is missing\")\n",
    "\n",
    "\n",
    "for i in range(NUM_DAYS_TEST.days + 1):\n",
    "    DATE_STR_TEST = date.strftime(START_DATE_TEST + timedelta(days=i), \"%Y%m%d\")\n",
    "    filenames = os.listdir(PATH_HRRR_ORIGINAL+\"/\"+DATE_STR_TEST)\n",
    "    for time in TIME_LIST:\n",
    "        try:\n",
    "            filename = [x for x in filenames if f\"t{time}z\" in x and \".idx\" not in x][0] #unlike URMA, these have forecast times in the filenames, so can mess up if just using digits\n",
    "        except:\n",
    "            print(f\"HRRR | {DATE_STR_TEST} | {time}z is missing\")"
   ]
  },
  {
   "cell_type": "code",
   "execution_count": 5,
   "id": "6853c8f5-4fb8-4754-8cb4-860997f9adb8",
   "metadata": {},
   "outputs": [
    {
     "name": "stdout",
     "output_type": "stream",
     "text": [
      "20210419 | 19z is missing\n",
      "20210419 | 20z is missing\n",
      "20210419 | 21z is missing\n",
      "20210419 | 22z is missing\n",
      "20210419 | 23z is missing\n"
     ]
    }
   ],
   "source": [
    "#### DIAGNOSE MISSING URMA FILES\n",
    "for i in range(NUM_DAYS_TRAIN.days + 1):\n",
    "    DATE_STR_TRAIN = date.strftime(START_DATE_TRAIN + timedelta(days=i), \"%Y%m%d\")\n",
    "    filenames = os.listdir(PATH_URMA_ORIGINAL+\"/\"+DATE_STR_TRAIN)\n",
    "    for time in TIME_LIST:\n",
    "        try:\n",
    "            filename = [x for x in filenames if time in x and \".idx\" not in x][0] #will only be one matching filename @ appropriate time\n",
    "        except:\n",
    "            print(f\"URMA | {DATE_STR_TRAIN} | {time}z is missing\")\n",
    "\n",
    "for i in range(NUM_DAYS_TEST.days + 1):\n",
    "    DATE_STR_TEST = date.strftime(START_DATE_TEST + timedelta(days=i), \"%Y%m%d\")\n",
    "    filenames = os.listdir(PATH_URMA_ORIGINAL+\"/\"+DATE_STR_TEST)\n",
    "    for time in TIME_LIST:\n",
    "        try:\n",
    "            filename = [x for x in filenames if time in x and \".idx\" not in x][0] #will only be one matching filename @ appropriate time\n",
    "        except:\n",
    "            print(f\"URMA | {DATE_STR_TEST} | {time}z is missing\")"
   ]
  }
 ],
 "metadata": {
  "kernelspec": {
   "display_name": "Python 3 (ipykernel)",
   "language": "python",
   "name": "python3"
  },
  "language_info": {
   "codemirror_mode": {
    "name": "ipython",
    "version": 3
   },
   "file_extension": ".py",
   "mimetype": "text/x-python",
   "name": "python",
   "nbconvert_exporter": "python",
   "pygments_lexer": "ipython3",
   "version": "3.10.12"
  }
 },
 "nbformat": 4,
 "nbformat_minor": 5
}
