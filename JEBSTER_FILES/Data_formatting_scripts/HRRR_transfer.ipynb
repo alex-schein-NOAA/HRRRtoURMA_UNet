{
 "cells": [
  {
   "cell_type": "code",
   "execution_count": 1,
   "id": "703e1323-5fd3-44bc-816c-19e50e00595e",
   "metadata": {},
   "outputs": [],
   "source": [
    "from herbie import Herbie\n",
    "from pathlib import Path\n",
    "import os\n",
    "from datetime import date, timedelta\n",
    "\n",
    "import numpy as np\n",
    "import time\n",
    "import xarray as xr\n",
    "#from netCDF4 import Dataset,num2date,date2num"
   ]
  },
  {
   "cell_type": "code",
   "execution_count": 2,
   "id": "e94442e0-b2be-4964-b478-f45a8bb57697",
   "metadata": {},
   "outputs": [],
   "source": [
    "INIT_TIME_LIST = [str(i).zfill(2) for i in range(24)]  #[\"00\", \"12\"] #members will populate filename in the \"t[INIT_TIME]z.\" portion\n",
    "FORECAST_TIME_LIST = [\"01\"] #[\"00\"] #members will populate filename in the \"wrfsfc[FORECAST_TIME].\" portion\n",
    "\n",
    "START_DATE = date(2021,1,1) #should be jan 1, 2021\n",
    "END_DATE = date(2024,12,31) #should be dec 31, 2024\n",
    "NUM_DAYS = END_DATE-START_DATE"
   ]
  },
  {
   "cell_type": "code",
   "execution_count": 3,
   "id": "f5755904-ed93-44ce-8186-c89f5b76cbb7",
   "metadata": {},
   "outputs": [],
   "source": [
    "# VAR_OF_INTEREST = \n",
    "PATH_TO_DOWNLOAD_TO = f\"/data1/projects/RTMA/alex.schein/\"#Herbie_downloads_2024\""
   ]
  },
  {
   "cell_type": "code",
   "execution_count": 4,
   "id": "4d7e74ed-fe9e-47c5-b4c4-f9f9cbc0cafd",
   "metadata": {},
   "outputs": [],
   "source": [
    "def download_one_hour_one_variable(DATE_STR, INIT_TIME, FORECAST_TIME, save_dir, var_string):\n",
    "    H =  Herbie(f\"{DATE_STR} {INIT_TIME}:00\", model=\"hrrr\", fxx=int(FORECAST_TIME), product=\"nat\", save_dir=PATH_TO_DOWNLOAD_TO, verbose=False)\n",
    "    H_HRRR.download()#var_string)\n",
    "    print(f\"Done: {DATE_STR} | INIT_TIME={INIT_TIME} | fxx={FORECAST_TIME}\")\n",
    "    return"
   ]
  },
  {
   "cell_type": "code",
   "execution_count": 5,
   "id": "9f1ff088-8a13-4124-998e-fe0c175d5450",
   "metadata": {
    "scrolled": true
   },
   "outputs": [],
   "source": [
    "# for i in range(NUM_DAYS.days + 1):\n",
    "#     DATE_STR = date.strftime(START_DATE + timedelta(days=i), \"%Y-%m-%d\")\n",
    "#     for INIT_TIME in INIT_TIME_LIST:\n",
    "#         for FORECAST_TIME in FORECAST_TIME_LIST:\n",
    "#             H_HRRR = Herbie(f\"{DATE_STR} {INIT_TIME}:00\", model=\"hrrr\", fxx=int(FORECAST_TIME), save_dir=PATH_TO_DOWNLOAD_TO, verbose=False)\n",
    "#             H_HRRR.download(r\":TMP:2 m\") #MISTAKENLY DOWNLOADED SURFACE TEMP BEFORE....\n",
    "#             print(f\"Done: {DATE_STR} | INIT_TIME={INIT_TIME} | fxx={FORECAST_TIME}\")"
   ]
  },
  {
   "cell_type": "code",
   "execution_count": 6,
   "id": "c68cc10f-6f84-4dcf-ad4a-fc4958d0ce6f",
   "metadata": {},
   "outputs": [
    {
     "name": "stdout",
     "output_type": "stream",
     "text": [
      "✅ Found ┊ model=hrrr ┊ \u001b[3mproduct=nat\u001b[0m ┊ \u001b[38;2;41;130;13m2024-Dec-31 20:00 UTC\u001b[92m F01\u001b[0m ┊ \u001b[38;2;255;153;0m\u001b[3mGRIB2 @ aws\u001b[0m ┊ \u001b[38;2;255;153;0m\u001b[3mIDX @ aws\u001b[0m\n",
      "👨🏻‍🏭 Created directory: [/data1/projects/RTMA/alex.schein/hrrr/20241231]\n",
      "Done downloading, time taken = 1.1 sec\n"
     ]
    }
   ],
   "source": [
    "H_HRRR = Herbie(f\"2024-12-31 20:00\", model=\"hrrr\", fxx=1, product=\"nat\", save_dir=PATH_TO_DOWNLOAD_TO, verbose=True)\n",
    "start=time.time()\n",
    "H_HRRR.download(r\":SPFH:2 m\")\n",
    "print(f\"Done downloading, time taken = {time.time()-start:.1f} sec\")"
   ]
  },
  {
   "cell_type": "code",
   "execution_count": null,
   "id": "46d45bff-037f-4121-a0fd-79c763a8ac1a",
   "metadata": {},
   "outputs": [],
   "source": []
  }
 ],
 "metadata": {
  "kernelspec": {
   "display_name": "Python 3 (ipykernel)",
   "language": "python",
   "name": "python3"
  },
  "language_info": {
   "codemirror_mode": {
    "name": "ipython",
    "version": 3
   },
   "file_extension": ".py",
   "mimetype": "text/x-python",
   "name": "python",
   "nbconvert_exporter": "python",
   "pygments_lexer": "ipython3",
   "version": "3.10.12"
  }
 },
 "nbformat": 4,
 "nbformat_minor": 5
}
