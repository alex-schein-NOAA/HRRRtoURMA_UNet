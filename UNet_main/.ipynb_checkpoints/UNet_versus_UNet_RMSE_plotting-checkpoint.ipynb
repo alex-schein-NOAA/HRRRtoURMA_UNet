{
 "cells": [
  {
   "cell_type": "code",
   "execution_count": 2,
   "id": "40d80a21-cdd3-4a48-858e-58264e91f9c7",
   "metadata": {
    "editable": true,
    "slideshow": {
     "slide_type": ""
    },
    "tags": []
   },
   "outputs": [],
   "source": [
    "from HEADER_SCRIPTS import *"
   ]
  },
  {
   "cell_type": "code",
   "execution_count": 3,
   "id": "bda59eb5-77a4-4006-a86d-53215240cdf7",
   "metadata": {},
   "outputs": [],
   "source": [
    "C = CONSTANTS()"
   ]
  },
  {
   "cell_type": "code",
   "execution_count": 4,
   "id": "05822ae0-aac4-4404-8e94-45a95467eb7b",
   "metadata": {},
   "outputs": [],
   "source": [
    "PREDICTOR_VARS = [\"t2m\"]\n",
    "TARGET_VARS = [\"t2m\"]\n",
    "TARG_VAR=\"t2m\" #for smartinit - should match at least one entry in TARGET_VARS"
   ]
  },
  {
   "cell_type": "code",
   "execution_count": 6,
   "id": "6637e336-d3d2-4f23-8a2b-4832c3ff3a69",
   "metadata": {},
   "outputs": [
    {
     "name": "stdout",
     "output_type": "stream",
     "text": [
      "Making dataset for model ATTENTION_SIMPLE_BS24_NE50_tD_pred(t2m)_targ(t2m)_TEMP\n",
      "is_train = False\n",
      "Terrain normalization done for ['diff']\n",
      "Predictor data for t2m loaded. Time taken = 0.0 sec\n",
      "Target data for t2m loaded. Time taken = 0.0 sec\n",
      "DATASET CONSTRUCTION DONE\n"
     ]
    }
   ],
   "source": [
    "model_1_attrs = DefineModelAttributes(is_train=False)#, with_terrains=[\"hrrr\",\"urma\",\"diff\"])\n",
    "model_1_filename = f\"{C.DIR_TRAINED_MODELS}/ATTENTION_SIMPLE_BS24_NE50_tD_pred(t2m)_targ(t2m)_TEMP.pt\"\n",
    "model_1_attrs.set_model_attrs_from_savename(model_1_filename)\n",
    "\n",
    "### Change as needed\n",
    "# model_1_attrs.predictor_vars = PREDICTOR_VARS\n",
    "# model_1_attrs.target_vars = TARGET_VARS\n",
    "\n",
    "model_1_attrs.create_save_name()\n",
    "\n",
    "model_1_attrs.savename = f\"ATTENTION_SIMPLE_{model_1_attrs.savename}_TEMP\"\n",
    "\n",
    "model_1_attrs.create_dataset()"
   ]
  },
  {
   "cell_type": "code",
   "execution_count": null,
   "id": "b0caf43a-f397-431c-a8d0-6c045c750205",
   "metadata": {},
   "outputs": [],
   "source": [
    "model_2_attrs = DefineModelAttributes(is_train=False)#, with_terrains=[\"hrrr\",\"urma\",\"diff\"])\n",
    "model_2_filename = f\"{C.DIR_TRAINED_MODELS}/BS24_NE50_tD_pred(t2m)_targ(t2m).pt\"\n",
    "model_2_attrs.set_model_attrs_from_savename(model_2_filename)\n",
    "\n",
    "### Change as needed\n",
    "# model_2_attrs.predictor_vars = PREDICTOR_VARS\n",
    "# model_2_attrs.target_vars = TARGET_VARS\n",
    "\n",
    "model_2_attrs.create_save_name()\n",
    "\n",
    "model_2_attrs.create_dataset()"
   ]
  },
  {
   "cell_type": "code",
   "execution_count": null,
   "id": "723da81e-92aa-4ed5-8b80-b990b23c7be2",
   "metadata": {},
   "outputs": [],
   "source": [
    "statsobj_model_1 = ConstructStatObject(is_smartinit=False, current_model_attrs=model_1_attrs, target_var=TARG_VAR)\n",
    "statsobj_model_1.calc_domain_avg_RMSE_alltimes()"
   ]
  },
  {
   "cell_type": "code",
   "execution_count": null,
   "id": "368fe816-3c3c-4cff-9a88-99033bbf2a71",
   "metadata": {},
   "outputs": [],
   "source": [
    "statsobj_model_2 = ConstructStatObject(is_smartinit=False, current_model_attrs=model_2_attrs, target_var=TARG_VAR)\n",
    "statsobj_model_2.calc_domain_avg_RMSE_alltimes()"
   ]
  },
  {
   "cell_type": "code",
   "execution_count": null,
   "id": "f7756875-8029-409f-8b9b-ee4badab5f53",
   "metadata": {},
   "outputs": [],
   "source": [
    "statsobj_smartinit = ConstructStatObject(is_smartinit=True, target_var=TARG_VAR)\n",
    "statsobj_smartinit.calc_domain_avg_RMSE_alltimes()"
   ]
  },
  {
   "cell_type": "code",
   "execution_count": null,
   "id": "ccf7f933-b70f-46bd-9d19-97f527d8abcd",
   "metadata": {},
   "outputs": [],
   "source": [
    "SAVE_BOOL=False"
   ]
  },
  {
   "cell_type": "code",
   "execution_count": null,
   "id": "e245797c-70e1-43d1-b698-b3b42846f525",
   "metadata": {},
   "outputs": [],
   "source": [
    "plot_model_vs_model_RMSE(model_1_attrs,\n",
    "                         model_2_attrs,\n",
    "                         statsobj_model_1, \n",
    "                         statsobj_model_2,\n",
    "                         TARG_VAR=TARG_VAR,\n",
    "                         units_str=statsobj_model_1.varname_units_dict[TARG_VAR], \n",
    "                         to_save=SAVE_BOOL,\n",
    "                         PLOT_SAVE_DIR=f\"/scratch/RTMA/alex.schein/Graz_presentation_figs/\")"
   ]
  },
  {
   "cell_type": "code",
   "execution_count": null,
   "id": "433119ef-4c54-4966-8aef-9a05957d3546",
   "metadata": {},
   "outputs": [],
   "source": [
    "plot_model_vs_smartinit_RMSE(model_1_attrs,\n",
    "                             statsobj_model_1,\n",
    "                             statsobj_smartinit,\n",
    "                             units_str=statsobj_smartinit.varname_units_dict[TARG_VAR],\n",
    "                             to_save=SAVE_BOOL, \n",
    "                             PLOT_SAVE_DIR=f\"/scratch/RTMA/alex.schein/Graz_presentation_figs/\")"
   ]
  },
  {
   "cell_type": "code",
   "execution_count": null,
   "id": "e42adce9-6ff0-424f-b51c-9573a74f2dab",
   "metadata": {},
   "outputs": [],
   "source": [
    "plot_model_vs_smartinit_RMSE(model_2_attrs,\n",
    "                             statsobj_model_2,\n",
    "                             statsobj_smartinit,\n",
    "                             units_str=statsobj_smartinit.varname_units_dict[TARG_VAR],\n",
    "                             to_save=SAVE_BOOL,\n",
    "                             PLOT_SAVE_DIR=f\"/scratch/RTMA/alex.schein/Graz_presentation_figs/\")"
   ]
  },
  {
   "cell_type": "code",
   "execution_count": null,
   "id": "52b92f03-8f31-4d81-a35b-93e47716ae38",
   "metadata": {},
   "outputs": [],
   "source": []
  },
  {
   "cell_type": "code",
   "execution_count": null,
   "id": "05ba48a1-ed22-4399-b6c2-ecd9023420f9",
   "metadata": {},
   "outputs": [],
   "source": []
  }
 ],
 "metadata": {
  "kernelspec": {
   "display_name": "Python 3 (ipykernel)",
   "language": "python",
   "name": "python3"
  },
  "language_info": {
   "codemirror_mode": {
    "name": "ipython",
    "version": 3
   },
   "file_extension": ".py",
   "mimetype": "text/x-python",
   "name": "python",
   "nbconvert_exporter": "python",
   "pygments_lexer": "ipython3",
   "version": "3.11.13"
  }
 },
 "nbformat": 4,
 "nbformat_minor": 5
}
